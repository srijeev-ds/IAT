{
 "cells": [
  {
   "cell_type": "code",
   "execution_count": 1,
   "metadata": {},
   "outputs": [
    {
     "name": "stdout",
     "output_type": "stream",
     "text": [
      "Requirement already satisfied: plotly in /Users/srijeevsarkar/opt/anaconda3/lib/python3.8/site-packages (4.14.3)\n",
      "Requirement already satisfied: six in /Users/srijeevsarkar/opt/anaconda3/lib/python3.8/site-packages (from plotly) (1.15.0)\n",
      "Requirement already satisfied: retrying>=1.3.3 in /Users/srijeevsarkar/opt/anaconda3/lib/python3.8/site-packages (from plotly) (1.3.3)\n",
      "Requirement already satisfied: dash in /Users/srijeevsarkar/opt/anaconda3/lib/python3.8/site-packages (1.19.0)\n",
      "Requirement already satisfied: plotly in /Users/srijeevsarkar/opt/anaconda3/lib/python3.8/site-packages (from dash) (4.14.3)\n",
      "Requirement already satisfied: Flask>=1.0.4 in /Users/srijeevsarkar/opt/anaconda3/lib/python3.8/site-packages (from dash) (1.1.2)\n",
      "Requirement already satisfied: dash-table==4.11.2 in /Users/srijeevsarkar/opt/anaconda3/lib/python3.8/site-packages (from dash) (4.11.2)\n",
      "Requirement already satisfied: flask-compress in /Users/srijeevsarkar/opt/anaconda3/lib/python3.8/site-packages (from dash) (1.9.0)\n",
      "Requirement already satisfied: dash-core-components==1.15.0 in /Users/srijeevsarkar/opt/anaconda3/lib/python3.8/site-packages (from dash) (1.15.0)\n",
      "Requirement already satisfied: dash-renderer==1.9.0 in /Users/srijeevsarkar/opt/anaconda3/lib/python3.8/site-packages (from dash) (1.9.0)\n",
      "Requirement already satisfied: dash-html-components==1.1.2 in /Users/srijeevsarkar/opt/anaconda3/lib/python3.8/site-packages (from dash) (1.1.2)\n",
      "Requirement already satisfied: future in /Users/srijeevsarkar/opt/anaconda3/lib/python3.8/site-packages (from dash) (0.18.2)\n",
      "Requirement already satisfied: six in /Users/srijeevsarkar/opt/anaconda3/lib/python3.8/site-packages (from plotly->dash) (1.15.0)\n",
      "Requirement already satisfied: retrying>=1.3.3 in /Users/srijeevsarkar/opt/anaconda3/lib/python3.8/site-packages (from plotly->dash) (1.3.3)\n",
      "Requirement already satisfied: click>=5.1 in /Users/srijeevsarkar/opt/anaconda3/lib/python3.8/site-packages (from Flask>=1.0.4->dash) (7.1.2)\n",
      "Requirement already satisfied: Werkzeug>=0.15 in /Users/srijeevsarkar/opt/anaconda3/lib/python3.8/site-packages (from Flask>=1.0.4->dash) (1.0.1)\n",
      "Requirement already satisfied: itsdangerous>=0.24 in /Users/srijeevsarkar/opt/anaconda3/lib/python3.8/site-packages (from Flask>=1.0.4->dash) (1.1.0)\n",
      "Requirement already satisfied: Jinja2>=2.10.1 in /Users/srijeevsarkar/opt/anaconda3/lib/python3.8/site-packages (from Flask>=1.0.4->dash) (2.11.2)\n",
      "Requirement already satisfied: brotli in /Users/srijeevsarkar/opt/anaconda3/lib/python3.8/site-packages (from flask-compress->dash) (1.0.9)\n",
      "Requirement already satisfied: MarkupSafe>=0.23 in /Users/srijeevsarkar/opt/anaconda3/lib/python3.8/site-packages (from Jinja2>=2.10.1->Flask>=1.0.4->dash) (1.1.1)\n"
     ]
    }
   ],
   "source": [
    "# install dependencies and make imports\n",
    "!pip install plotly; \n",
    "!pip install dash;\n",
    "import pandas as pd\n",
    "import plotly.express as px  # (version 4.7.0)\n",
    "import plotly.graph_objects as go\n",
    "import dash  # (version 1.12.0) pip install dash\n",
    "import dash_core_components as dcc\n",
    "import dash_html_components as html\n",
    "from dash.dependencies import Input, Output\n",
    "app = dash.Dash(__name__)"
   ]
  },
  {
   "cell_type": "code",
   "execution_count": 41,
   "metadata": {},
   "outputs": [],
   "source": [
    "# read data for map and perform df ops\n",
    "income = pd.read_csv(\"/Users/srijeevsarkar/Desktop/IAT/Datasets/map/income_per_state.csv\")\n",
    "obesity = pd.read_csv(\"/Users/srijeevsarkar/Desktop/IAT/Datasets/map/obesity_per_state.csv\")\n",
    "population = pd.read_csv(\"/Users/srijeevsarkar/Desktop/IAT/Datasets/map/population_per_state.csv\")\n",
    "number_bk = pd.read_csv(\"/Users/srijeevsarkar/Desktop/IAT/Datasets/locations/burgerking_locations.csv\")\n",
    "number_chick = pd.read_csv(\"/Users/srijeevsarkar/Desktop/IAT/Datasets/locations/chick-fil-a_locations.csv\")\n",
    "number_mcdonalds = pd.read_csv(\"/Users/srijeevsarkar/Desktop/IAT/Datasets/locations/mcdonalds_locations.csv\")\n",
    "number_starbucks = pd.read_csv(\"/Users/srijeevsarkar/Desktop/IAT/Datasets/locations/starbucks_locations.csv\")\n",
    "number_subway = pd.read_csv(\"/Users/srijeevsarkar/Desktop/IAT/Datasets/locations/subway_locations.csv\")\n",
    "\n",
    "# merging datasets\n",
    "df = pd.merge(income, obesity, on=['State'])\n",
    "master = pd.merge(df, population, on=['State'])\n",
    "rest1 = pd.merge(number_bk,number_chick, on=['State'])\n",
    "rest2 = pd.merge(rest1,number_mcdonalds, on=['State'])\n",
    "rest3 = pd.merge(rest2,number_starbucks, on=['State'])\n",
    "rest4 = pd.merge(rest3,number_subway, on=['State'])\n",
    "rest = rest4\n",
    "\n",
    "# dictionary to add state codes to the dataframes\n",
    "master.rename(columns={'Average Income (in K)': 'Income', 'Percent of obesities': 'Obesity', 'Population (July)': 'Population'}, inplace=True)\n",
    "state_2 = {\n",
    "    'Alabama': 'AL',\n",
    "    'Alaska': 'AK',\n",
    "    'American Samoa': 'AS',\n",
    "    'Arizona': 'AZ',\n",
    "    'Arkansas': 'AR',\n",
    "    'California': 'CA',\n",
    "    'Colorado': 'CO',\n",
    "    'Connecticut': 'CT',\n",
    "    'Delaware': 'DE',\n",
    "    'District of Columbia': 'DC',\n",
    "    'Florida': 'FL',\n",
    "    'Georgia': 'GA',\n",
    "    'Guam': 'GU',\n",
    "    'Hawaii': 'HI',\n",
    "    'Idaho': 'ID',\n",
    "    'Illinois': 'IL',\n",
    "    'Indiana': 'IN',\n",
    "    'Iowa': 'IA',\n",
    "    'Kansas': 'KS',\n",
    "    'Kentucky': 'KY',\n",
    "    'Louisiana': 'LA',\n",
    "    'Maine': 'ME',\n",
    "    'Maryland': 'MD',\n",
    "    'Massachusetts': 'MA',\n",
    "    'Michigan': 'MI',\n",
    "    'Minnesota': 'MN',\n",
    "    'Mississippi': 'MS',\n",
    "    'Missouri': 'MO',\n",
    "    'Montana': 'MT',\n",
    "    'Nebraska': 'NE',\n",
    "    'Nevada': 'NV',\n",
    "    'New Hampshire': 'NH',\n",
    "    'New Jersey': 'NJ',\n",
    "    'New Mexico': 'NM',\n",
    "    'New York': 'NY',\n",
    "    'North Carolina': 'NC',\n",
    "    'North Dakota': 'ND',\n",
    "    'Northern Mariana Islands':'MP',\n",
    "    'Ohio': 'OH',\n",
    "    'Oklahoma': 'OK',\n",
    "    'Oregon': 'OR',\n",
    "    'Pennsylvania': 'PA',\n",
    "    'Puerto Rico': 'PR',\n",
    "    'Rhode Island': 'RI',\n",
    "    'South Carolina': 'SC',\n",
    "    'South Dakota': 'SD',\n",
    "    'Tennessee': 'TN',\n",
    "    'Texas': 'TX',\n",
    "    'Utah': 'UT',\n",
    "    'Vermont': 'VT',\n",
    "    'Virgin Islands': 'VI',\n",
    "    'Virginia': 'VA',\n",
    "    'Washington': 'WA',\n",
    "    'West Virginia': 'WV',\n",
    "    'Wisconsin': 'WI',\n",
    "    'Wyoming': 'WY'\n",
    "}\n",
    "\n",
    "state_2 = {state: abbrev for abbrev, state in state_2.items()}\n",
    "\n",
    "df_new = pd.DataFrame(list(state_2.items()),columns = ['State Code','State'])\n",
    "\n",
    "final = pd.merge(master,df_new,on=['State'])\n",
    "\n",
    "rest = pd.merge(rest,df_new,on=['State'])"
   ]
  },
  {
   "cell_type": "code",
   "execution_count": 43,
   "metadata": {},
   "outputs": [
    {
     "data": {
      "text/html": [
       "<div>\n",
       "<style scoped>\n",
       "    .dataframe tbody tr th:only-of-type {\n",
       "        vertical-align: middle;\n",
       "    }\n",
       "\n",
       "    .dataframe tbody tr th {\n",
       "        vertical-align: top;\n",
       "    }\n",
       "\n",
       "    .dataframe thead th {\n",
       "        text-align: right;\n",
       "    }\n",
       "</style>\n",
       "<table border=\"1\" class=\"dataframe\">\n",
       "  <thead>\n",
       "    <tr style=\"text-align: right;\">\n",
       "      <th></th>\n",
       "      <th>State</th>\n",
       "      <th>Number of Buger King</th>\n",
       "      <th>Number of Chick-fil-A</th>\n",
       "      <th>Number of McDonalds</th>\n",
       "      <th>Number of Starbucks</th>\n",
       "      <th>Number of Subway</th>\n",
       "      <th>State Code</th>\n",
       "    </tr>\n",
       "  </thead>\n",
       "  <tbody>\n",
       "    <tr>\n",
       "      <th>0</th>\n",
       "      <td>Alabama</td>\n",
       "      <td>8.0</td>\n",
       "      <td>66.0</td>\n",
       "      <td>210.0</td>\n",
       "      <td>85.0</td>\n",
       "      <td>418.0</td>\n",
       "      <td>AL</td>\n",
       "    </tr>\n",
       "    <tr>\n",
       "      <th>1</th>\n",
       "      <td>Alaska</td>\n",
       "      <td>164.0</td>\n",
       "      <td>0.0</td>\n",
       "      <td>27.0</td>\n",
       "      <td>49.0</td>\n",
       "      <td>62.0</td>\n",
       "      <td>AK</td>\n",
       "    </tr>\n",
       "    <tr>\n",
       "      <th>2</th>\n",
       "      <td>Arizona</td>\n",
       "      <td>163.0</td>\n",
       "      <td>23.0</td>\n",
       "      <td>212.0</td>\n",
       "      <td>488.0</td>\n",
       "      <td>412.0</td>\n",
       "      <td>AZ</td>\n",
       "    </tr>\n",
       "    <tr>\n",
       "      <th>3</th>\n",
       "      <td>Arkansas</td>\n",
       "      <td>127.0</td>\n",
       "      <td>26.0</td>\n",
       "      <td>127.0</td>\n",
       "      <td>55.0</td>\n",
       "      <td>270.0</td>\n",
       "      <td>AR</td>\n",
       "    </tr>\n",
       "    <tr>\n",
       "      <th>4</th>\n",
       "      <td>California</td>\n",
       "      <td>583.0</td>\n",
       "      <td>59.0</td>\n",
       "      <td>1165.0</td>\n",
       "      <td>2821.0</td>\n",
       "      <td>2353.0</td>\n",
       "      <td>CA</td>\n",
       "    </tr>\n",
       "    <tr>\n",
       "      <th>5</th>\n",
       "      <td>Colorado</td>\n",
       "      <td>123.0</td>\n",
       "      <td>29.0</td>\n",
       "      <td>181.0</td>\n",
       "      <td>481.0</td>\n",
       "      <td>394.0</td>\n",
       "      <td>CO</td>\n",
       "    </tr>\n",
       "    <tr>\n",
       "      <th>6</th>\n",
       "      <td>Connecticut</td>\n",
       "      <td>65.0</td>\n",
       "      <td>0.0</td>\n",
       "      <td>143.0</td>\n",
       "      <td>123.0</td>\n",
       "      <td>306.0</td>\n",
       "      <td>CT</td>\n",
       "    </tr>\n",
       "    <tr>\n",
       "      <th>7</th>\n",
       "      <td>Delaware</td>\n",
       "      <td>20.0</td>\n",
       "      <td>6.0</td>\n",
       "      <td>34.0</td>\n",
       "      <td>25.0</td>\n",
       "      <td>27.0</td>\n",
       "      <td>DE</td>\n",
       "    </tr>\n",
       "    <tr>\n",
       "      <th>8</th>\n",
       "      <td>Florida</td>\n",
       "      <td>561.0</td>\n",
       "      <td>164.0</td>\n",
       "      <td>728.0</td>\n",
       "      <td>694.0</td>\n",
       "      <td>1349.0</td>\n",
       "      <td>FL</td>\n",
       "    </tr>\n",
       "    <tr>\n",
       "      <th>9</th>\n",
       "      <td>Georgia</td>\n",
       "      <td>260.0</td>\n",
       "      <td>212.0</td>\n",
       "      <td>365.0</td>\n",
       "      <td>326.0</td>\n",
       "      <td>788.0</td>\n",
       "      <td>GA</td>\n",
       "    </tr>\n",
       "  </tbody>\n",
       "</table>\n",
       "</div>"
      ],
      "text/plain": [
       "         State  Number of Buger King  Number of Chick-fil-A  \\\n",
       "0      Alabama                   8.0                   66.0   \n",
       "1       Alaska                 164.0                    0.0   \n",
       "2      Arizona                 163.0                   23.0   \n",
       "3     Arkansas                 127.0                   26.0   \n",
       "4   California                 583.0                   59.0   \n",
       "5     Colorado                 123.0                   29.0   \n",
       "6  Connecticut                  65.0                    0.0   \n",
       "7     Delaware                  20.0                    6.0   \n",
       "8      Florida                 561.0                  164.0   \n",
       "9      Georgia                 260.0                  212.0   \n",
       "\n",
       "   Number of McDonalds  Number of Starbucks  Number of Subway State Code  \n",
       "0                210.0                 85.0             418.0         AL  \n",
       "1                 27.0                 49.0              62.0         AK  \n",
       "2                212.0                488.0             412.0         AZ  \n",
       "3                127.0                 55.0             270.0         AR  \n",
       "4               1165.0               2821.0            2353.0         CA  \n",
       "5                181.0                481.0             394.0         CO  \n",
       "6                143.0                123.0             306.0         CT  \n",
       "7                 34.0                 25.0              27.0         DE  \n",
       "8                728.0                694.0            1349.0         FL  \n",
       "9                365.0                326.0             788.0         GA  "
      ]
     },
     "execution_count": 43,
     "metadata": {},
     "output_type": "execute_result"
    }
   ],
   "source": [
    "# view dataframe (skip)\n",
    "# final.head(10)\n",
    "#rest.dtypes\n",
    "rest.head(10)"
   ]
  },
  {
   "cell_type": "code",
   "execution_count": 55,
   "metadata": {},
   "outputs": [
    {
     "data": {
      "application/vnd.plotly.v1+json": {
       "config": {
        "plotlyServerURL": "https://plot.ly"
       },
       "data": [
        {
         "coloraxis": "coloraxis",
         "customdata": [
          [
           "Maryland",
           83242
          ],
          [
           "New Jersey",
           81740
          ],
          [
           "Hawaii",
           80212
          ],
          [
           "Massachusetts",
           79835
          ],
          [
           "Connecticut",
           76348
          ],
          [
           "California",
           75277
          ],
          [
           "New Hampshire",
           74991
          ],
          [
           "Alaska",
           74346
          ],
          [
           "Washington",
           74073
          ],
          [
           "Virginia",
           72577
          ],
          [
           "Colorado",
           71953
          ],
          [
           "Utah",
           71414
          ],
          [
           "Minnesota",
           70315
          ],
          [
           "New York",
           67844
          ],
          [
           "Illinois",
           65030
          ],
          [
           "Delaware",
           64805
          ],
          [
           "Rhode Island",
           64340
          ],
          [
           "North Dakota",
           63837
          ],
          [
           "Oregon",
           63426
          ],
          [
           "Wyoming",
           61584
          ],
          [
           "Pennsylvania",
           60905
          ],
          [
           "Vermont",
           60782
          ],
          [
           "Wisconsin",
           60773
          ],
          [
           "Texas",
           60629
          ],
          [
           "Iowa",
           59955
          ],
          [
           "Nebraska",
           59566
          ],
          [
           "Arizona",
           59246
          ],
          [
           "Georgia",
           58756
          ],
          [
           "Nevada",
           58646
          ],
          [
           "Kansas",
           58218
          ],
          [
           "Michigan",
           56697
          ],
          [
           "South Dakota",
           56274
          ],
          [
           "Ohio",
           56111
          ],
          [
           "Indiana",
           55746
          ],
          [
           "Maine",
           55602
          ],
          [
           "Idaho",
           55583
          ],
          [
           "Florida",
           55462
          ],
          [
           "Montana",
           55328
          ],
          [
           "Missouri",
           54478
          ],
          [
           "North Carolina",
           53855
          ],
          [
           "Tennessee",
           52375
          ],
          [
           "South Carolina",
           52306
          ],
          [
           "Oklahoma",
           51924
          ],
          [
           "Kentucky",
           50247
          ],
          [
           "Alabama",
           49861
          ],
          [
           "Louisiana",
           47905
          ],
          [
           "New Mexico",
           47169
          ],
          [
           "Arkansas",
           47062
          ],
          [
           "Mississippi",
           44717
          ],
          [
           "West Virginia",
           44097
          ]
         ],
         "geo": "geo",
         "hovertemplate": "State Code=%{location}<br>State=%{customdata[0]}<br>Income=%{z}<extra></extra>",
         "locationmode": "USA-states",
         "locations": [
          "MD",
          "NJ",
          "HI",
          "MA",
          "CT",
          "CA",
          "NH",
          "AK",
          "WA",
          "VA",
          "CO",
          "UT",
          "MN",
          "NY",
          "IL",
          "DE",
          "RI",
          "ND",
          "OR",
          "WY",
          "PA",
          "VT",
          "WI",
          "TX",
          "IA",
          "NE",
          "AZ",
          "GA",
          "NV",
          "KS",
          "MI",
          "SD",
          "OH",
          "IN",
          "ME",
          "ID",
          "FL",
          "MT",
          "MO",
          "NC",
          "TN",
          "SC",
          "OK",
          "KY",
          "AL",
          "LA",
          "NM",
          "AR",
          "MS",
          "WV"
         ],
         "name": "",
         "type": "choropleth",
         "z": [
          83242,
          81740,
          80212,
          79835,
          76348,
          75277,
          74991,
          74346,
          74073,
          72577,
          71953,
          71414,
          70315,
          67844,
          65030,
          64805,
          64340,
          63837,
          63426,
          61584,
          60905,
          60782,
          60773,
          60629,
          59955,
          59566,
          59246,
          58756,
          58646,
          58218,
          56697,
          56274,
          56111,
          55746,
          55602,
          55583,
          55462,
          55328,
          54478,
          53855,
          52375,
          52306,
          51924,
          50247,
          49861,
          47905,
          47169,
          47062,
          44717,
          44097
         ]
        },
        {
         "geo": "geo",
         "hovertemplate": "Number of McDonalds=%{marker.size}<br>State Code=%{location}<extra></extra>",
         "legendgroup": "",
         "locationmode": "USA-states",
         "locations": [
          "AL",
          "AK",
          "AZ",
          "AR",
          "CA",
          "CO",
          "CT",
          "DE",
          "FL",
          "GA",
          "HI",
          "ID",
          "IL",
          "IN",
          "IA",
          "KS",
          "KY",
          "LA",
          "ME",
          "MD",
          "MA",
          "MI",
          "MN",
          "MS",
          "MO",
          "MT",
          "NE",
          "NV",
          "NH",
          "NJ",
          "NM",
          "NY",
          "NC",
          "ND",
          "OH",
          "OK",
          "OR",
          "PA",
          "RI",
          "SC",
          "SD",
          "TN",
          "TX",
          "UT",
          "VT",
          "VA",
          "WA",
          "WV",
          "WI",
          "WY"
         ],
         "marker": {
          "color": "#636efa",
          "size": [
           210,
           27,
           212,
           127,
           1165,
           181,
           143,
           34,
           728,
           365,
           76,
           50,
           647,
           326,
           131,
           147,
           221,
           226,
           58,
           280,
           249,
           545,
           203,
           124,
           299,
           41,
           71,
           128,
           62,
           261,
           80,
           655,
           374,
           22,
           616,
           155,
           152,
           497,
           35,
           180,
           29,
           285,
           834,
           89,
           29,
           382,
           251,
           90,
           285,
           24
          ],
          "sizemode": "area",
          "sizeref": 2.9125,
          "symbol": "circle"
         },
         "mode": "markers",
         "name": "",
         "showlegend": false,
         "type": "scattergeo"
        }
       ],
       "layout": {
        "coloraxis": {
         "colorbar": {
          "title": {
           "text": "Income"
          }
         },
         "colorscale": [
          [
           0,
           "#440154"
          ],
          [
           0.1111111111111111,
           "#482878"
          ],
          [
           0.2222222222222222,
           "#3e4989"
          ],
          [
           0.3333333333333333,
           "#31688e"
          ],
          [
           0.4444444444444444,
           "#26828e"
          ],
          [
           0.5555555555555556,
           "#1f9e89"
          ],
          [
           0.6666666666666666,
           "#35b779"
          ],
          [
           0.7777777777777778,
           "#6ece58"
          ],
          [
           0.8888888888888888,
           "#b5de2b"
          ],
          [
           1,
           "#fde725"
          ]
         ]
        },
        "geo": {
         "center": {},
         "domain": {
          "x": [
           0,
           1
          ],
          "y": [
           0,
           1
          ]
         },
         "scope": "usa"
        },
        "legend": {
         "tracegroupgap": 0
        },
        "margin": {
         "t": 60
        },
        "template": {
         "data": {
          "bar": [
           {
            "error_x": {
             "color": "#f2f5fa"
            },
            "error_y": {
             "color": "#f2f5fa"
            },
            "marker": {
             "line": {
              "color": "rgb(17,17,17)",
              "width": 0.5
             }
            },
            "type": "bar"
           }
          ],
          "barpolar": [
           {
            "marker": {
             "line": {
              "color": "rgb(17,17,17)",
              "width": 0.5
             }
            },
            "type": "barpolar"
           }
          ],
          "carpet": [
           {
            "aaxis": {
             "endlinecolor": "#A2B1C6",
             "gridcolor": "#506784",
             "linecolor": "#506784",
             "minorgridcolor": "#506784",
             "startlinecolor": "#A2B1C6"
            },
            "baxis": {
             "endlinecolor": "#A2B1C6",
             "gridcolor": "#506784",
             "linecolor": "#506784",
             "minorgridcolor": "#506784",
             "startlinecolor": "#A2B1C6"
            },
            "type": "carpet"
           }
          ],
          "choropleth": [
           {
            "colorbar": {
             "outlinewidth": 0,
             "ticks": ""
            },
            "type": "choropleth"
           }
          ],
          "contour": [
           {
            "colorbar": {
             "outlinewidth": 0,
             "ticks": ""
            },
            "colorscale": [
             [
              0,
              "#0d0887"
             ],
             [
              0.1111111111111111,
              "#46039f"
             ],
             [
              0.2222222222222222,
              "#7201a8"
             ],
             [
              0.3333333333333333,
              "#9c179e"
             ],
             [
              0.4444444444444444,
              "#bd3786"
             ],
             [
              0.5555555555555556,
              "#d8576b"
             ],
             [
              0.6666666666666666,
              "#ed7953"
             ],
             [
              0.7777777777777778,
              "#fb9f3a"
             ],
             [
              0.8888888888888888,
              "#fdca26"
             ],
             [
              1,
              "#f0f921"
             ]
            ],
            "type": "contour"
           }
          ],
          "contourcarpet": [
           {
            "colorbar": {
             "outlinewidth": 0,
             "ticks": ""
            },
            "type": "contourcarpet"
           }
          ],
          "heatmap": [
           {
            "colorbar": {
             "outlinewidth": 0,
             "ticks": ""
            },
            "colorscale": [
             [
              0,
              "#0d0887"
             ],
             [
              0.1111111111111111,
              "#46039f"
             ],
             [
              0.2222222222222222,
              "#7201a8"
             ],
             [
              0.3333333333333333,
              "#9c179e"
             ],
             [
              0.4444444444444444,
              "#bd3786"
             ],
             [
              0.5555555555555556,
              "#d8576b"
             ],
             [
              0.6666666666666666,
              "#ed7953"
             ],
             [
              0.7777777777777778,
              "#fb9f3a"
             ],
             [
              0.8888888888888888,
              "#fdca26"
             ],
             [
              1,
              "#f0f921"
             ]
            ],
            "type": "heatmap"
           }
          ],
          "heatmapgl": [
           {
            "colorbar": {
             "outlinewidth": 0,
             "ticks": ""
            },
            "colorscale": [
             [
              0,
              "#0d0887"
             ],
             [
              0.1111111111111111,
              "#46039f"
             ],
             [
              0.2222222222222222,
              "#7201a8"
             ],
             [
              0.3333333333333333,
              "#9c179e"
             ],
             [
              0.4444444444444444,
              "#bd3786"
             ],
             [
              0.5555555555555556,
              "#d8576b"
             ],
             [
              0.6666666666666666,
              "#ed7953"
             ],
             [
              0.7777777777777778,
              "#fb9f3a"
             ],
             [
              0.8888888888888888,
              "#fdca26"
             ],
             [
              1,
              "#f0f921"
             ]
            ],
            "type": "heatmapgl"
           }
          ],
          "histogram": [
           {
            "marker": {
             "colorbar": {
              "outlinewidth": 0,
              "ticks": ""
             }
            },
            "type": "histogram"
           }
          ],
          "histogram2d": [
           {
            "colorbar": {
             "outlinewidth": 0,
             "ticks": ""
            },
            "colorscale": [
             [
              0,
              "#0d0887"
             ],
             [
              0.1111111111111111,
              "#46039f"
             ],
             [
              0.2222222222222222,
              "#7201a8"
             ],
             [
              0.3333333333333333,
              "#9c179e"
             ],
             [
              0.4444444444444444,
              "#bd3786"
             ],
             [
              0.5555555555555556,
              "#d8576b"
             ],
             [
              0.6666666666666666,
              "#ed7953"
             ],
             [
              0.7777777777777778,
              "#fb9f3a"
             ],
             [
              0.8888888888888888,
              "#fdca26"
             ],
             [
              1,
              "#f0f921"
             ]
            ],
            "type": "histogram2d"
           }
          ],
          "histogram2dcontour": [
           {
            "colorbar": {
             "outlinewidth": 0,
             "ticks": ""
            },
            "colorscale": [
             [
              0,
              "#0d0887"
             ],
             [
              0.1111111111111111,
              "#46039f"
             ],
             [
              0.2222222222222222,
              "#7201a8"
             ],
             [
              0.3333333333333333,
              "#9c179e"
             ],
             [
              0.4444444444444444,
              "#bd3786"
             ],
             [
              0.5555555555555556,
              "#d8576b"
             ],
             [
              0.6666666666666666,
              "#ed7953"
             ],
             [
              0.7777777777777778,
              "#fb9f3a"
             ],
             [
              0.8888888888888888,
              "#fdca26"
             ],
             [
              1,
              "#f0f921"
             ]
            ],
            "type": "histogram2dcontour"
           }
          ],
          "mesh3d": [
           {
            "colorbar": {
             "outlinewidth": 0,
             "ticks": ""
            },
            "type": "mesh3d"
           }
          ],
          "parcoords": [
           {
            "line": {
             "colorbar": {
              "outlinewidth": 0,
              "ticks": ""
             }
            },
            "type": "parcoords"
           }
          ],
          "pie": [
           {
            "automargin": true,
            "type": "pie"
           }
          ],
          "scatter": [
           {
            "marker": {
             "line": {
              "color": "#283442"
             }
            },
            "type": "scatter"
           }
          ],
          "scatter3d": [
           {
            "line": {
             "colorbar": {
              "outlinewidth": 0,
              "ticks": ""
             }
            },
            "marker": {
             "colorbar": {
              "outlinewidth": 0,
              "ticks": ""
             }
            },
            "type": "scatter3d"
           }
          ],
          "scattercarpet": [
           {
            "marker": {
             "colorbar": {
              "outlinewidth": 0,
              "ticks": ""
             }
            },
            "type": "scattercarpet"
           }
          ],
          "scattergeo": [
           {
            "marker": {
             "colorbar": {
              "outlinewidth": 0,
              "ticks": ""
             }
            },
            "type": "scattergeo"
           }
          ],
          "scattergl": [
           {
            "marker": {
             "line": {
              "color": "#283442"
             }
            },
            "type": "scattergl"
           }
          ],
          "scattermapbox": [
           {
            "marker": {
             "colorbar": {
              "outlinewidth": 0,
              "ticks": ""
             }
            },
            "type": "scattermapbox"
           }
          ],
          "scatterpolar": [
           {
            "marker": {
             "colorbar": {
              "outlinewidth": 0,
              "ticks": ""
             }
            },
            "type": "scatterpolar"
           }
          ],
          "scatterpolargl": [
           {
            "marker": {
             "colorbar": {
              "outlinewidth": 0,
              "ticks": ""
             }
            },
            "type": "scatterpolargl"
           }
          ],
          "scatterternary": [
           {
            "marker": {
             "colorbar": {
              "outlinewidth": 0,
              "ticks": ""
             }
            },
            "type": "scatterternary"
           }
          ],
          "surface": [
           {
            "colorbar": {
             "outlinewidth": 0,
             "ticks": ""
            },
            "colorscale": [
             [
              0,
              "#0d0887"
             ],
             [
              0.1111111111111111,
              "#46039f"
             ],
             [
              0.2222222222222222,
              "#7201a8"
             ],
             [
              0.3333333333333333,
              "#9c179e"
             ],
             [
              0.4444444444444444,
              "#bd3786"
             ],
             [
              0.5555555555555556,
              "#d8576b"
             ],
             [
              0.6666666666666666,
              "#ed7953"
             ],
             [
              0.7777777777777778,
              "#fb9f3a"
             ],
             [
              0.8888888888888888,
              "#fdca26"
             ],
             [
              1,
              "#f0f921"
             ]
            ],
            "type": "surface"
           }
          ],
          "table": [
           {
            "cells": {
             "fill": {
              "color": "#506784"
             },
             "line": {
              "color": "rgb(17,17,17)"
             }
            },
            "header": {
             "fill": {
              "color": "#2a3f5f"
             },
             "line": {
              "color": "rgb(17,17,17)"
             }
            },
            "type": "table"
           }
          ]
         },
         "layout": {
          "annotationdefaults": {
           "arrowcolor": "#f2f5fa",
           "arrowhead": 0,
           "arrowwidth": 1
          },
          "autotypenumbers": "strict",
          "coloraxis": {
           "colorbar": {
            "outlinewidth": 0,
            "ticks": ""
           }
          },
          "colorscale": {
           "diverging": [
            [
             0,
             "#8e0152"
            ],
            [
             0.1,
             "#c51b7d"
            ],
            [
             0.2,
             "#de77ae"
            ],
            [
             0.3,
             "#f1b6da"
            ],
            [
             0.4,
             "#fde0ef"
            ],
            [
             0.5,
             "#f7f7f7"
            ],
            [
             0.6,
             "#e6f5d0"
            ],
            [
             0.7,
             "#b8e186"
            ],
            [
             0.8,
             "#7fbc41"
            ],
            [
             0.9,
             "#4d9221"
            ],
            [
             1,
             "#276419"
            ]
           ],
           "sequential": [
            [
             0,
             "#0d0887"
            ],
            [
             0.1111111111111111,
             "#46039f"
            ],
            [
             0.2222222222222222,
             "#7201a8"
            ],
            [
             0.3333333333333333,
             "#9c179e"
            ],
            [
             0.4444444444444444,
             "#bd3786"
            ],
            [
             0.5555555555555556,
             "#d8576b"
            ],
            [
             0.6666666666666666,
             "#ed7953"
            ],
            [
             0.7777777777777778,
             "#fb9f3a"
            ],
            [
             0.8888888888888888,
             "#fdca26"
            ],
            [
             1,
             "#f0f921"
            ]
           ],
           "sequentialminus": [
            [
             0,
             "#0d0887"
            ],
            [
             0.1111111111111111,
             "#46039f"
            ],
            [
             0.2222222222222222,
             "#7201a8"
            ],
            [
             0.3333333333333333,
             "#9c179e"
            ],
            [
             0.4444444444444444,
             "#bd3786"
            ],
            [
             0.5555555555555556,
             "#d8576b"
            ],
            [
             0.6666666666666666,
             "#ed7953"
            ],
            [
             0.7777777777777778,
             "#fb9f3a"
            ],
            [
             0.8888888888888888,
             "#fdca26"
            ],
            [
             1,
             "#f0f921"
            ]
           ]
          },
          "colorway": [
           "#636efa",
           "#EF553B",
           "#00cc96",
           "#ab63fa",
           "#FFA15A",
           "#19d3f3",
           "#FF6692",
           "#B6E880",
           "#FF97FF",
           "#FECB52"
          ],
          "font": {
           "color": "#f2f5fa"
          },
          "geo": {
           "bgcolor": "rgb(17,17,17)",
           "lakecolor": "rgb(17,17,17)",
           "landcolor": "rgb(17,17,17)",
           "showlakes": true,
           "showland": true,
           "subunitcolor": "#506784"
          },
          "hoverlabel": {
           "align": "left"
          },
          "hovermode": "closest",
          "mapbox": {
           "style": "dark"
          },
          "paper_bgcolor": "rgb(17,17,17)",
          "plot_bgcolor": "rgb(17,17,17)",
          "polar": {
           "angularaxis": {
            "gridcolor": "#506784",
            "linecolor": "#506784",
            "ticks": ""
           },
           "bgcolor": "rgb(17,17,17)",
           "radialaxis": {
            "gridcolor": "#506784",
            "linecolor": "#506784",
            "ticks": ""
           }
          },
          "scene": {
           "xaxis": {
            "backgroundcolor": "rgb(17,17,17)",
            "gridcolor": "#506784",
            "gridwidth": 2,
            "linecolor": "#506784",
            "showbackground": true,
            "ticks": "",
            "zerolinecolor": "#C8D4E3"
           },
           "yaxis": {
            "backgroundcolor": "rgb(17,17,17)",
            "gridcolor": "#506784",
            "gridwidth": 2,
            "linecolor": "#506784",
            "showbackground": true,
            "ticks": "",
            "zerolinecolor": "#C8D4E3"
           },
           "zaxis": {
            "backgroundcolor": "rgb(17,17,17)",
            "gridcolor": "#506784",
            "gridwidth": 2,
            "linecolor": "#506784",
            "showbackground": true,
            "ticks": "",
            "zerolinecolor": "#C8D4E3"
           }
          },
          "shapedefaults": {
           "line": {
            "color": "#f2f5fa"
           }
          },
          "sliderdefaults": {
           "bgcolor": "#C8D4E3",
           "bordercolor": "rgb(17,17,17)",
           "borderwidth": 1,
           "tickwidth": 0
          },
          "ternary": {
           "aaxis": {
            "gridcolor": "#506784",
            "linecolor": "#506784",
            "ticks": ""
           },
           "baxis": {
            "gridcolor": "#506784",
            "linecolor": "#506784",
            "ticks": ""
           },
           "bgcolor": "rgb(17,17,17)",
           "caxis": {
            "gridcolor": "#506784",
            "linecolor": "#506784",
            "ticks": ""
           }
          },
          "title": {
           "x": 0.05
          },
          "updatemenudefaults": {
           "bgcolor": "#506784",
           "borderwidth": 0
          },
          "xaxis": {
           "automargin": true,
           "gridcolor": "#283442",
           "linecolor": "#506784",
           "ticks": "",
           "title": {
            "standoff": 15
           },
           "zerolinecolor": "#283442",
           "zerolinewidth": 2
          },
          "yaxis": {
           "automargin": true,
           "gridcolor": "#283442",
           "linecolor": "#506784",
           "ticks": "",
           "title": {
            "standoff": 15
           },
           "zerolinecolor": "#283442",
           "zerolinewidth": 2
          }
         }
        }
       }
      },
      "text/html": [
       "<div>                            <div id=\"cd180a2b-bb86-4b21-98ac-97c59f3d8904\" class=\"plotly-graph-div\" style=\"height:525px; width:100%;\"></div>            <script type=\"text/javascript\">                require([\"plotly\"], function(Plotly) {                    window.PLOTLYENV=window.PLOTLYENV || {};                                    if (document.getElementById(\"cd180a2b-bb86-4b21-98ac-97c59f3d8904\")) {                    Plotly.newPlot(                        \"cd180a2b-bb86-4b21-98ac-97c59f3d8904\",                        [{\"coloraxis\": \"coloraxis\", \"customdata\": [[\"Maryland\", 83242.0], [\"New Jersey\", 81740.0], [\"Hawaii\", 80212.0], [\"Massachusetts\", 79835.0], [\"Connecticut\", 76348.0], [\"California\", 75277.0], [\"New Hampshire\", 74991.0], [\"Alaska\", 74346.0], [\"Washington\", 74073.0], [\"Virginia\", 72577.0], [\"Colorado\", 71953.0], [\"Utah\", 71414.0], [\"Minnesota\", 70315.0], [\"New York\", 67844.0], [\"Illinois\", 65030.0], [\"Delaware\", 64805.0], [\"Rhode Island\", 64340.0], [\"North Dakota\", 63837.0], [\"Oregon\", 63426.0], [\"Wyoming\", 61584.0], [\"Pennsylvania\", 60905.0], [\"Vermont\", 60782.0], [\"Wisconsin\", 60773.0], [\"Texas\", 60629.0], [\"Iowa\", 59955.0], [\"Nebraska\", 59566.0], [\"Arizona\", 59246.0], [\"Georgia\", 58756.0], [\"Nevada\", 58646.0], [\"Kansas\", 58218.0], [\"Michigan\", 56697.0], [\"South Dakota\", 56274.0], [\"Ohio\", 56111.0], [\"Indiana\", 55746.0], [\"Maine\", 55602.0], [\"Idaho\", 55583.0], [\"Florida\", 55462.0], [\"Montana\", 55328.0], [\"Missouri\", 54478.0], [\"North Carolina\", 53855.0], [\"Tennessee\", 52375.0], [\"South Carolina\", 52306.0], [\"Oklahoma\", 51924.0], [\"Kentucky\", 50247.0], [\"Alabama\", 49861.0], [\"Louisiana\", 47905.0], [\"New Mexico\", 47169.0], [\"Arkansas\", 47062.0], [\"Mississippi\", 44717.0], [\"West Virginia\", 44097.0]], \"geo\": \"geo\", \"hovertemplate\": \"State Code=%{location}<br>State=%{customdata[0]}<br>Income=%{z}<extra></extra>\", \"locationmode\": \"USA-states\", \"locations\": [\"MD\", \"NJ\", \"HI\", \"MA\", \"CT\", \"CA\", \"NH\", \"AK\", \"WA\", \"VA\", \"CO\", \"UT\", \"MN\", \"NY\", \"IL\", \"DE\", \"RI\", \"ND\", \"OR\", \"WY\", \"PA\", \"VT\", \"WI\", \"TX\", \"IA\", \"NE\", \"AZ\", \"GA\", \"NV\", \"KS\", \"MI\", \"SD\", \"OH\", \"IN\", \"ME\", \"ID\", \"FL\", \"MT\", \"MO\", \"NC\", \"TN\", \"SC\", \"OK\", \"KY\", \"AL\", \"LA\", \"NM\", \"AR\", \"MS\", \"WV\"], \"name\": \"\", \"type\": \"choropleth\", \"z\": [83242.0, 81740.0, 80212.0, 79835.0, 76348.0, 75277.0, 74991.0, 74346.0, 74073.0, 72577.0, 71953.0, 71414.0, 70315.0, 67844.0, 65030.0, 64805.0, 64340.0, 63837.0, 63426.0, 61584.0, 60905.0, 60782.0, 60773.0, 60629.0, 59955.0, 59566.0, 59246.0, 58756.0, 58646.0, 58218.0, 56697.0, 56274.0, 56111.0, 55746.0, 55602.0, 55583.0, 55462.0, 55328.0, 54478.0, 53855.0, 52375.0, 52306.0, 51924.0, 50247.0, 49861.0, 47905.0, 47169.0, 47062.0, 44717.0, 44097.0]}, {\"geo\": \"geo\", \"hovertemplate\": \"Number of McDonalds=%{marker.size}<br>State Code=%{location}<extra></extra>\", \"legendgroup\": \"\", \"locationmode\": \"USA-states\", \"locations\": [\"AL\", \"AK\", \"AZ\", \"AR\", \"CA\", \"CO\", \"CT\", \"DE\", \"FL\", \"GA\", \"HI\", \"ID\", \"IL\", \"IN\", \"IA\", \"KS\", \"KY\", \"LA\", \"ME\", \"MD\", \"MA\", \"MI\", \"MN\", \"MS\", \"MO\", \"MT\", \"NE\", \"NV\", \"NH\", \"NJ\", \"NM\", \"NY\", \"NC\", \"ND\", \"OH\", \"OK\", \"OR\", \"PA\", \"RI\", \"SC\", \"SD\", \"TN\", \"TX\", \"UT\", \"VT\", \"VA\", \"WA\", \"WV\", \"WI\", \"WY\"], \"marker\": {\"color\": \"#636efa\", \"size\": [210.0, 27.0, 212.0, 127.0, 1165.0, 181.0, 143.0, 34.0, 728.0, 365.0, 76.0, 50.0, 647.0, 326.0, 131.0, 147.0, 221.0, 226.0, 58.0, 280.0, 249.0, 545.0, 203.0, 124.0, 299.0, 41.0, 71.0, 128.0, 62.0, 261.0, 80.0, 655.0, 374.0, 22.0, 616.0, 155.0, 152.0, 497.0, 35.0, 180.0, 29.0, 285.0, 834.0, 89.0, 29.0, 382.0, 251.0, 90.0, 285.0, 24.0], \"sizemode\": \"area\", \"sizeref\": 2.9125, \"symbol\": \"circle\"}, \"mode\": \"markers\", \"name\": \"\", \"showlegend\": false, \"type\": \"scattergeo\"}],                        {\"coloraxis\": {\"colorbar\": {\"title\": {\"text\": \"Income\"}}, \"colorscale\": [[0.0, \"#440154\"], [0.1111111111111111, \"#482878\"], [0.2222222222222222, \"#3e4989\"], [0.3333333333333333, \"#31688e\"], [0.4444444444444444, \"#26828e\"], [0.5555555555555556, \"#1f9e89\"], [0.6666666666666666, \"#35b779\"], [0.7777777777777778, \"#6ece58\"], [0.8888888888888888, \"#b5de2b\"], [1.0, \"#fde725\"]]}, \"geo\": {\"center\": {}, \"domain\": {\"x\": [0.0, 1.0], \"y\": [0.0, 1.0]}, \"scope\": \"usa\"}, \"legend\": {\"tracegroupgap\": 0}, \"margin\": {\"t\": 60}, \"template\": {\"data\": {\"bar\": [{\"error_x\": {\"color\": \"#f2f5fa\"}, \"error_y\": {\"color\": \"#f2f5fa\"}, \"marker\": {\"line\": {\"color\": \"rgb(17,17,17)\", \"width\": 0.5}}, \"type\": \"bar\"}], \"barpolar\": [{\"marker\": {\"line\": {\"color\": \"rgb(17,17,17)\", \"width\": 0.5}}, \"type\": \"barpolar\"}], \"carpet\": [{\"aaxis\": {\"endlinecolor\": \"#A2B1C6\", \"gridcolor\": \"#506784\", \"linecolor\": \"#506784\", \"minorgridcolor\": \"#506784\", \"startlinecolor\": \"#A2B1C6\"}, \"baxis\": {\"endlinecolor\": \"#A2B1C6\", \"gridcolor\": \"#506784\", \"linecolor\": \"#506784\", \"minorgridcolor\": \"#506784\", \"startlinecolor\": \"#A2B1C6\"}, \"type\": \"carpet\"}], \"choropleth\": [{\"colorbar\": {\"outlinewidth\": 0, \"ticks\": \"\"}, \"type\": \"choropleth\"}], \"contour\": [{\"colorbar\": {\"outlinewidth\": 0, \"ticks\": \"\"}, \"colorscale\": [[0.0, \"#0d0887\"], [0.1111111111111111, \"#46039f\"], [0.2222222222222222, \"#7201a8\"], [0.3333333333333333, \"#9c179e\"], [0.4444444444444444, \"#bd3786\"], [0.5555555555555556, \"#d8576b\"], [0.6666666666666666, \"#ed7953\"], [0.7777777777777778, \"#fb9f3a\"], [0.8888888888888888, \"#fdca26\"], [1.0, \"#f0f921\"]], \"type\": \"contour\"}], \"contourcarpet\": [{\"colorbar\": {\"outlinewidth\": 0, \"ticks\": \"\"}, \"type\": \"contourcarpet\"}], \"heatmap\": [{\"colorbar\": {\"outlinewidth\": 0, \"ticks\": \"\"}, \"colorscale\": [[0.0, \"#0d0887\"], [0.1111111111111111, \"#46039f\"], [0.2222222222222222, \"#7201a8\"], [0.3333333333333333, \"#9c179e\"], [0.4444444444444444, \"#bd3786\"], [0.5555555555555556, \"#d8576b\"], [0.6666666666666666, \"#ed7953\"], [0.7777777777777778, \"#fb9f3a\"], [0.8888888888888888, \"#fdca26\"], [1.0, \"#f0f921\"]], \"type\": \"heatmap\"}], \"heatmapgl\": [{\"colorbar\": {\"outlinewidth\": 0, \"ticks\": \"\"}, \"colorscale\": [[0.0, \"#0d0887\"], [0.1111111111111111, \"#46039f\"], [0.2222222222222222, \"#7201a8\"], [0.3333333333333333, \"#9c179e\"], [0.4444444444444444, \"#bd3786\"], [0.5555555555555556, \"#d8576b\"], [0.6666666666666666, \"#ed7953\"], [0.7777777777777778, \"#fb9f3a\"], [0.8888888888888888, \"#fdca26\"], [1.0, \"#f0f921\"]], \"type\": \"heatmapgl\"}], \"histogram\": [{\"marker\": {\"colorbar\": {\"outlinewidth\": 0, \"ticks\": \"\"}}, \"type\": \"histogram\"}], \"histogram2d\": [{\"colorbar\": {\"outlinewidth\": 0, \"ticks\": \"\"}, \"colorscale\": [[0.0, \"#0d0887\"], [0.1111111111111111, \"#46039f\"], [0.2222222222222222, \"#7201a8\"], [0.3333333333333333, \"#9c179e\"], [0.4444444444444444, \"#bd3786\"], [0.5555555555555556, \"#d8576b\"], [0.6666666666666666, \"#ed7953\"], [0.7777777777777778, \"#fb9f3a\"], [0.8888888888888888, \"#fdca26\"], [1.0, \"#f0f921\"]], \"type\": \"histogram2d\"}], \"histogram2dcontour\": [{\"colorbar\": {\"outlinewidth\": 0, \"ticks\": \"\"}, \"colorscale\": [[0.0, \"#0d0887\"], [0.1111111111111111, \"#46039f\"], [0.2222222222222222, \"#7201a8\"], [0.3333333333333333, \"#9c179e\"], [0.4444444444444444, \"#bd3786\"], [0.5555555555555556, \"#d8576b\"], [0.6666666666666666, \"#ed7953\"], [0.7777777777777778, \"#fb9f3a\"], [0.8888888888888888, \"#fdca26\"], [1.0, \"#f0f921\"]], \"type\": \"histogram2dcontour\"}], \"mesh3d\": [{\"colorbar\": {\"outlinewidth\": 0, \"ticks\": \"\"}, \"type\": \"mesh3d\"}], \"parcoords\": [{\"line\": {\"colorbar\": {\"outlinewidth\": 0, \"ticks\": \"\"}}, \"type\": \"parcoords\"}], \"pie\": [{\"automargin\": true, \"type\": \"pie\"}], \"scatter\": [{\"marker\": {\"line\": {\"color\": \"#283442\"}}, \"type\": \"scatter\"}], \"scatter3d\": [{\"line\": {\"colorbar\": {\"outlinewidth\": 0, \"ticks\": \"\"}}, \"marker\": {\"colorbar\": {\"outlinewidth\": 0, \"ticks\": \"\"}}, \"type\": \"scatter3d\"}], \"scattercarpet\": [{\"marker\": {\"colorbar\": {\"outlinewidth\": 0, \"ticks\": \"\"}}, \"type\": \"scattercarpet\"}], \"scattergeo\": [{\"marker\": {\"colorbar\": {\"outlinewidth\": 0, \"ticks\": \"\"}}, \"type\": \"scattergeo\"}], \"scattergl\": [{\"marker\": {\"line\": {\"color\": \"#283442\"}}, \"type\": \"scattergl\"}], \"scattermapbox\": [{\"marker\": {\"colorbar\": {\"outlinewidth\": 0, \"ticks\": \"\"}}, \"type\": \"scattermapbox\"}], \"scatterpolar\": [{\"marker\": {\"colorbar\": {\"outlinewidth\": 0, \"ticks\": \"\"}}, \"type\": \"scatterpolar\"}], \"scatterpolargl\": [{\"marker\": {\"colorbar\": {\"outlinewidth\": 0, \"ticks\": \"\"}}, \"type\": \"scatterpolargl\"}], \"scatterternary\": [{\"marker\": {\"colorbar\": {\"outlinewidth\": 0, \"ticks\": \"\"}}, \"type\": \"scatterternary\"}], \"surface\": [{\"colorbar\": {\"outlinewidth\": 0, \"ticks\": \"\"}, \"colorscale\": [[0.0, \"#0d0887\"], [0.1111111111111111, \"#46039f\"], [0.2222222222222222, \"#7201a8\"], [0.3333333333333333, \"#9c179e\"], [0.4444444444444444, \"#bd3786\"], [0.5555555555555556, \"#d8576b\"], [0.6666666666666666, \"#ed7953\"], [0.7777777777777778, \"#fb9f3a\"], [0.8888888888888888, \"#fdca26\"], [1.0, \"#f0f921\"]], \"type\": \"surface\"}], \"table\": [{\"cells\": {\"fill\": {\"color\": \"#506784\"}, \"line\": {\"color\": \"rgb(17,17,17)\"}}, \"header\": {\"fill\": {\"color\": \"#2a3f5f\"}, \"line\": {\"color\": \"rgb(17,17,17)\"}}, \"type\": \"table\"}]}, \"layout\": {\"annotationdefaults\": {\"arrowcolor\": \"#f2f5fa\", \"arrowhead\": 0, \"arrowwidth\": 1}, \"autotypenumbers\": \"strict\", \"coloraxis\": {\"colorbar\": {\"outlinewidth\": 0, \"ticks\": \"\"}}, \"colorscale\": {\"diverging\": [[0, \"#8e0152\"], [0.1, \"#c51b7d\"], [0.2, \"#de77ae\"], [0.3, \"#f1b6da\"], [0.4, \"#fde0ef\"], [0.5, \"#f7f7f7\"], [0.6, \"#e6f5d0\"], [0.7, \"#b8e186\"], [0.8, \"#7fbc41\"], [0.9, \"#4d9221\"], [1, \"#276419\"]], \"sequential\": [[0.0, \"#0d0887\"], [0.1111111111111111, \"#46039f\"], [0.2222222222222222, \"#7201a8\"], [0.3333333333333333, \"#9c179e\"], [0.4444444444444444, \"#bd3786\"], [0.5555555555555556, \"#d8576b\"], [0.6666666666666666, \"#ed7953\"], [0.7777777777777778, \"#fb9f3a\"], [0.8888888888888888, \"#fdca26\"], [1.0, \"#f0f921\"]], \"sequentialminus\": [[0.0, \"#0d0887\"], [0.1111111111111111, \"#46039f\"], [0.2222222222222222, \"#7201a8\"], [0.3333333333333333, \"#9c179e\"], [0.4444444444444444, \"#bd3786\"], [0.5555555555555556, \"#d8576b\"], [0.6666666666666666, \"#ed7953\"], [0.7777777777777778, \"#fb9f3a\"], [0.8888888888888888, \"#fdca26\"], [1.0, \"#f0f921\"]]}, \"colorway\": [\"#636efa\", \"#EF553B\", \"#00cc96\", \"#ab63fa\", \"#FFA15A\", \"#19d3f3\", \"#FF6692\", \"#B6E880\", \"#FF97FF\", \"#FECB52\"], \"font\": {\"color\": \"#f2f5fa\"}, \"geo\": {\"bgcolor\": \"rgb(17,17,17)\", \"lakecolor\": \"rgb(17,17,17)\", \"landcolor\": \"rgb(17,17,17)\", \"showlakes\": true, \"showland\": true, \"subunitcolor\": \"#506784\"}, \"hoverlabel\": {\"align\": \"left\"}, \"hovermode\": \"closest\", \"mapbox\": {\"style\": \"dark\"}, \"paper_bgcolor\": \"rgb(17,17,17)\", \"plot_bgcolor\": \"rgb(17,17,17)\", \"polar\": {\"angularaxis\": {\"gridcolor\": \"#506784\", \"linecolor\": \"#506784\", \"ticks\": \"\"}, \"bgcolor\": \"rgb(17,17,17)\", \"radialaxis\": {\"gridcolor\": \"#506784\", \"linecolor\": \"#506784\", \"ticks\": \"\"}}, \"scene\": {\"xaxis\": {\"backgroundcolor\": \"rgb(17,17,17)\", \"gridcolor\": \"#506784\", \"gridwidth\": 2, \"linecolor\": \"#506784\", \"showbackground\": true, \"ticks\": \"\", \"zerolinecolor\": \"#C8D4E3\"}, \"yaxis\": {\"backgroundcolor\": \"rgb(17,17,17)\", \"gridcolor\": \"#506784\", \"gridwidth\": 2, \"linecolor\": \"#506784\", \"showbackground\": true, \"ticks\": \"\", \"zerolinecolor\": \"#C8D4E3\"}, \"zaxis\": {\"backgroundcolor\": \"rgb(17,17,17)\", \"gridcolor\": \"#506784\", \"gridwidth\": 2, \"linecolor\": \"#506784\", \"showbackground\": true, \"ticks\": \"\", \"zerolinecolor\": \"#C8D4E3\"}}, \"shapedefaults\": {\"line\": {\"color\": \"#f2f5fa\"}}, \"sliderdefaults\": {\"bgcolor\": \"#C8D4E3\", \"bordercolor\": \"rgb(17,17,17)\", \"borderwidth\": 1, \"tickwidth\": 0}, \"ternary\": {\"aaxis\": {\"gridcolor\": \"#506784\", \"linecolor\": \"#506784\", \"ticks\": \"\"}, \"baxis\": {\"gridcolor\": \"#506784\", \"linecolor\": \"#506784\", \"ticks\": \"\"}, \"bgcolor\": \"rgb(17,17,17)\", \"caxis\": {\"gridcolor\": \"#506784\", \"linecolor\": \"#506784\", \"ticks\": \"\"}}, \"title\": {\"x\": 0.05}, \"updatemenudefaults\": {\"bgcolor\": \"#506784\", \"borderwidth\": 0}, \"xaxis\": {\"automargin\": true, \"gridcolor\": \"#283442\", \"linecolor\": \"#506784\", \"ticks\": \"\", \"title\": {\"standoff\": 15}, \"zerolinecolor\": \"#283442\", \"zerolinewidth\": 2}, \"yaxis\": {\"automargin\": true, \"gridcolor\": \"#283442\", \"linecolor\": \"#506784\", \"ticks\": \"\", \"title\": {\"standoff\": 15}, \"zerolinecolor\": \"#283442\", \"zerolinewidth\": 2}}}},                        {\"responsive\": true}                    ).then(function(){\n",
       "                            \n",
       "var gd = document.getElementById('cd180a2b-bb86-4b21-98ac-97c59f3d8904');\n",
       "var x = new MutationObserver(function (mutations, observer) {{\n",
       "        var display = window.getComputedStyle(gd).display;\n",
       "        if (!display || display === 'none') {{\n",
       "            console.log([gd, 'removed!']);\n",
       "            Plotly.purge(gd);\n",
       "            observer.disconnect();\n",
       "        }}\n",
       "}});\n",
       "\n",
       "// Listen for the removal of the full notebook cells\n",
       "var notebookContainer = gd.closest('#notebook-container');\n",
       "if (notebookContainer) {{\n",
       "    x.observe(notebookContainer, {childList: true});\n",
       "}}\n",
       "\n",
       "// Listen for the clearing of the current output cell\n",
       "var outputEl = gd.closest('.output');\n",
       "if (outputEl) {{\n",
       "    x.observe(outputEl, {childList: true});\n",
       "}}\n",
       "\n",
       "                        })                };                });            </script>        </div>"
      ]
     },
     "metadata": {},
     "output_type": "display_data"
    }
   ],
   "source": [
    "# Chloropleth\n",
    "\n",
    "dff = final.copy()\n",
    "option_slctd = \"Income\"\n",
    "\n",
    "fig = px.choropleth(\n",
    "    data_frame=dff,\n",
    "    locationmode='USA-states',\n",
    "    locations='State Code',\n",
    "    scope=\"usa\",\n",
    "    color=option_slctd,\n",
    "    color_continuous_scale=\"Viridis\",\n",
    "    hover_data=['State', option_slctd],\n",
    "    template='plotly_dark'\n",
    ")\n",
    "\n",
    "# Scatter\n",
    "\n",
    "dff2 = rest.copy()\n",
    "option_slctd_2 = \"Number of McDonalds\"\n",
    "\n",
    "fig2 = px.scatter_geo(\n",
    "     data_frame=dff2,\n",
    "     locationmode='USA-states',\n",
    "     scope=\"usa\",\n",
    "     locations=\"State Code\",\n",
    "     size=option_slctd_2,\n",
    "     template='plotly_dark',\n",
    "                   )\n",
    "\n",
    "fig.add_trace(\n",
    "    fig2.data[0]\n",
    ")\n",
    "#fig.show();"
   ]
  },
  {
   "cell_type": "code",
   "execution_count": 53,
   "metadata": {},
   "outputs": [],
   "source": [
    "# App layout \n",
    "app.layout = html.Div([\n",
    "\n",
    "    html.H1(\"Fast Food Analysis Dashboard\", style={'text-align': 'center'}),\n",
    "\n",
    "    dcc.Dropdown(id=\"select_category\",\n",
    "                 options=[\n",
    "                     {\"label\": \"Income per state\", \"value\": 'Income'},\n",
    "                     {\"label\": \"Obesity per state\", \"value\": 'Obesity'},\n",
    "                     {\"label\": \"Population per state\", \"value\": 'Population'}],\n",
    "                 multi=False,\n",
    "                 value=\"Income\",\n",
    "                 style={'width': \"40%\"}\n",
    "                 ),\n",
    "     \n",
    "    dcc.Dropdown(id=\"select_restaurant\",\n",
    "                 options=[\n",
    "                     {\"label\": \"McDonalds\", \"value\": 'Number of McDonalds'},\n",
    "                     {\"label\": \"Burger King\", \"value\": 'Number of Buger King'},\n",
    "                     {\"label\": \"Subway\", \"value\": 'Number of Subway'},\n",
    "                     {\"label\": \"Starbucks\", \"value\": 'Number of Starbucks'},\n",
    "                     {\"label\": \"Chick-fil-A\", \"value\": 'Number of Chick-fil-A'}],\n",
    "                 multi=False,\n",
    "                 value=\"Number of McDonalds\",\n",
    "                 style={'width': \"40%\"}\n",
    "                 ),\n",
    "\n",
    "    html.Div(id='output_container', children=[]),\n",
    "    html.Br(),\n",
    "    dcc.Graph(id='fast_food_map', figure={})\n",
    "\n",
    "])"
   ]
  },
  {
   "cell_type": "code",
   "execution_count": 58,
   "metadata": {},
   "outputs": [],
   "source": [
    "# Connect the Plotly graphs with Dash Components\n",
    "# The callback uses inputs and outputs for interactivity in the dashboard\n",
    "# For x number of outputs the function defined for callback needs to return x number of items\n",
    "\n",
    "@app.callback(\n",
    "    [Output(component_id='output_container', component_property='children'),\n",
    "     Output(component_id='fast_food_map', component_property='figure')],\n",
    "    [Input(component_id='select_category', component_property='value'),\n",
    "     Input(component_id='select_restaurant',component_property='value')]\n",
    ")\n",
    "def update_graph(option_slctd,option_slctd_2):\n",
    "    \n",
    "    container = \"The option chosen by user was: {}\".format(option_slctd)\n",
    "    \n",
    "    dff = final.copy()\n",
    "\n",
    "    fig = px.choropleth(\n",
    "        data_frame=dff,\n",
    "        locationmode='USA-states',\n",
    "        locations='State Code',\n",
    "        scope=\"usa\",\n",
    "        color=option_slctd,\n",
    "        color_continuous_scale=\"Viridis\",\n",
    "        hover_data=['State', option_slctd],\n",
    "        template='plotly_dark'\n",
    "    )\n",
    "\n",
    "    dff2 = rest.copy()\n",
    "\n",
    "    fig2 = px.scatter_geo(\n",
    "         data_frame=dff2,\n",
    "         locationmode='USA-states',\n",
    "         scope=\"usa\",\n",
    "         locations=\"State Code\",\n",
    "         size=option_slctd_2,\n",
    "         template='plotly_dark',\n",
    "                       )\n",
    "\n",
    "    fig.add_trace(\n",
    "        fig2.data[0]\n",
    "    )\n",
    "\n",
    "    return container,fig"
   ]
  },
  {
   "cell_type": "code",
   "execution_count": null,
   "metadata": {
    "scrolled": true
   },
   "outputs": [
    {
     "name": "stdout",
     "output_type": "stream",
     "text": [
      "Dash is running on http://127.0.0.1:8050/\n",
      "\n",
      " * Serving Flask app \"__main__\" (lazy loading)\n",
      " * Environment: production\n",
      "\u001b[31m   WARNING: This is a development server. Do not use it in a production deployment.\u001b[0m\n",
      "\u001b[2m   Use a production WSGI server instead.\u001b[0m\n",
      " * Debug mode: off\n"
     ]
    },
    {
     "name": "stderr",
     "output_type": "stream",
     "text": [
      " * Running on http://127.0.0.1:8050/ (Press CTRL+C to quit)\n",
      "127.0.0.1 - - [04/Apr/2021 18:51:29] \"\u001b[37mGET / HTTP/1.1\u001b[0m\" 200 -\n",
      "127.0.0.1 - - [04/Apr/2021 18:51:30] \"\u001b[37mGET /_dash-layout HTTP/1.1\u001b[0m\" 200 -\n",
      "127.0.0.1 - - [04/Apr/2021 18:51:30] \"\u001b[37mGET /_dash-dependencies HTTP/1.1\u001b[0m\" 200 -\n",
      "127.0.0.1 - - [04/Apr/2021 18:51:30] \"\u001b[37mPOST /_dash-update-component HTTP/1.1\u001b[0m\" 200 -\n",
      "127.0.0.1 - - [04/Apr/2021 18:51:34] \"\u001b[37mPOST /_dash-update-component HTTP/1.1\u001b[0m\" 200 -\n",
      "127.0.0.1 - - [04/Apr/2021 18:51:36] \"\u001b[37mPOST /_dash-update-component HTTP/1.1\u001b[0m\" 200 -\n",
      "127.0.0.1 - - [04/Apr/2021 18:51:39] \"\u001b[37mPOST /_dash-update-component HTTP/1.1\u001b[0m\" 200 -\n",
      "127.0.0.1 - - [04/Apr/2021 18:52:02] \"\u001b[37mPOST /_dash-update-component HTTP/1.1\u001b[0m\" 200 -\n",
      "127.0.0.1 - - [04/Apr/2021 18:52:08] \"\u001b[37mPOST /_dash-update-component HTTP/1.1\u001b[0m\" 200 -\n",
      "127.0.0.1 - - [04/Apr/2021 18:52:30] \"\u001b[37mPOST /_dash-update-component HTTP/1.1\u001b[0m\" 200 -\n",
      "127.0.0.1 - - [04/Apr/2021 18:52:33] \"\u001b[37mPOST /_dash-update-component HTTP/1.1\u001b[0m\" 200 -\n",
      "127.0.0.1 - - [04/Apr/2021 18:54:33] \"\u001b[37mPOST /_dash-update-component HTTP/1.1\u001b[0m\" 200 -\n",
      "127.0.0.1 - - [04/Apr/2021 18:54:38] \"\u001b[37mPOST /_dash-update-component HTTP/1.1\u001b[0m\" 200 -\n",
      "127.0.0.1 - - [04/Apr/2021 18:54:56] \"\u001b[37mPOST /_dash-update-component HTTP/1.1\u001b[0m\" 200 -\n",
      "127.0.0.1 - - [04/Apr/2021 18:55:01] \"\u001b[37mPOST /_dash-update-component HTTP/1.1\u001b[0m\" 200 -\n",
      "127.0.0.1 - - [04/Apr/2021 18:55:04] \"\u001b[37mPOST /_dash-update-component HTTP/1.1\u001b[0m\" 200 -\n",
      "127.0.0.1 - - [04/Apr/2021 18:55:31] \"\u001b[37mPOST /_dash-update-component HTTP/1.1\u001b[0m\" 200 -\n",
      "127.0.0.1 - - [04/Apr/2021 18:55:57] \"\u001b[37mPOST /_dash-update-component HTTP/1.1\u001b[0m\" 200 -\n"
     ]
    }
   ],
   "source": [
    "if __name__ == '__main__':\n",
    "    app.run_server()"
   ]
  },
  {
   "cell_type": "code",
   "execution_count": null,
   "metadata": {
    "scrolled": true
   },
   "outputs": [],
   "source": [
    "# Kill process\n",
    "# !ps -a\n",
    "# kill -9 (processID)"
   ]
  }
 ],
 "metadata": {
  "kernelspec": {
   "display_name": "Python 3",
   "language": "python",
   "name": "python3"
  },
  "language_info": {
   "codemirror_mode": {
    "name": "ipython",
    "version": 3
   },
   "file_extension": ".py",
   "mimetype": "text/x-python",
   "name": "python",
   "nbconvert_exporter": "python",
   "pygments_lexer": "ipython3",
   "version": "3.8.5"
  }
 },
 "nbformat": 4,
 "nbformat_minor": 4
}
