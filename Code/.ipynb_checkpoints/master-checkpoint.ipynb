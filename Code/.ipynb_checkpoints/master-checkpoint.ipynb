{
 "cells": [
  {
   "cell_type": "code",
   "execution_count": 1,
   "metadata": {},
   "outputs": [],
   "source": [
    "# importing necessary libraries\n",
    "import dash\n",
    "import dash_core_components as dcc\n",
    "import dash_html_components as html\n",
    "import plotly.graph_objs as go\n",
    "import pandas as pd\n",
    "from dash.dependencies import Input, Output\n",
    "import plotly.express as px"
   ]
  },
  {
   "cell_type": "code",
   "execution_count": 2,
   "metadata": {},
   "outputs": [],
   "source": [
    "# Adding in a CSS stylesheet for placement of visualizations\n",
    "df = pd.read_csv(\"/Users/srijeevsarkar/Desktop/IAT/Datasets/nutrition/all_nutrition.csv\")\n",
    "income = pd.read_csv(\"/Users/srijeevsarkar/Desktop/IAT/Datasets/map/income_per_state.csv\")\n",
    "obesity = pd.read_csv(\"/Users/srijeevsarkar/Desktop/IAT/Datasets/map/obesity_per_state.csv\")\n",
    "population = pd.read_csv(\"/Users/srijeevsarkar/Desktop/IAT/Datasets/map/population_per_state.csv\")\n",
    "number_bk = pd.read_csv(\"/Users/srijeevsarkar/Desktop/IAT/Datasets/locations/burgerking_locations.csv\")\n",
    "number_chick = pd.read_csv(\"/Users/srijeevsarkar/Desktop/IAT/Datasets/locations/chick-fil-a_locations.csv\")\n",
    "number_mcdonalds = pd.read_csv(\"/Users/srijeevsarkar/Desktop/IAT/Datasets/locations/mcdonalds_locations.csv\")\n",
    "number_starbucks = pd.read_csv(\"/Users/srijeevsarkar/Desktop/IAT/Datasets/locations/starbucks_locations.csv\")\n",
    "number_subway = pd.read_csv(\"/Users/srijeevsarkar/Desktop/IAT/Datasets/locations/subway_locations.csv\")\n",
    "\n",
    "\n",
    "external_stylesheets = ['https://codepen.io/chriddyp/pen/bWLwgP.css']\n",
    "app = dash.Dash(__name__, external_stylesheets=external_stylesheets)"
   ]
  },
  {
   "cell_type": "code",
   "execution_count": 3,
   "metadata": {},
   "outputs": [],
   "source": [
    "# merging datasets\n",
    "xf = pd.merge(income, obesity, on=['State'])\n",
    "master = pd.merge(xf, population, on=['State'])\n",
    "rest1 = pd.merge(number_bk,number_chick, on=['State'])\n",
    "rest2 = pd.merge(rest1,number_mcdonalds, on=['State'])\n",
    "rest3 = pd.merge(rest2,number_starbucks, on=['State'])\n",
    "rest4 = pd.merge(rest3,number_subway, on=['State'])\n",
    "rest = rest4\n",
    "\n",
    "# dictionary to add state codes to the dataframes\n",
    "master.rename(columns={'Average Income (in K)': 'Income', 'Percent of obesities': 'Obesity', 'Population (July)': 'Population'}, inplace=True)\n",
    "state_2 = {\n",
    "    'Alabama': 'AL',\n",
    "    'Alaska': 'AK',\n",
    "    'American Samoa': 'AS',\n",
    "    'Arizona': 'AZ',\n",
    "    'Arkansas': 'AR',\n",
    "    'California': 'CA',\n",
    "    'Colorado': 'CO',\n",
    "    'Connecticut': 'CT',\n",
    "    'Delaware': 'DE',\n",
    "    'District of Columbia': 'DC',\n",
    "    'Florida': 'FL',\n",
    "    'Georgia': 'GA',\n",
    "    'Guam': 'GU',\n",
    "    'Hawaii': 'HI',\n",
    "    'Idaho': 'ID',\n",
    "    'Illinois': 'IL',\n",
    "    'Indiana': 'IN',\n",
    "    'Iowa': 'IA',\n",
    "    'Kansas': 'KS',\n",
    "    'Kentucky': 'KY',\n",
    "    'Louisiana': 'LA',\n",
    "    'Maine': 'ME',\n",
    "    'Maryland': 'MD',\n",
    "    'Massachusetts': 'MA',\n",
    "    'Michigan': 'MI',\n",
    "    'Minnesota': 'MN',\n",
    "    'Mississippi': 'MS',\n",
    "    'Missouri': 'MO',\n",
    "    'Montana': 'MT',\n",
    "    'Nebraska': 'NE',\n",
    "    'Nevada': 'NV',\n",
    "    'New Hampshire': 'NH',\n",
    "    'New Jersey': 'NJ',\n",
    "    'New Mexico': 'NM',\n",
    "    'New York': 'NY',\n",
    "    'North Carolina': 'NC',\n",
    "    'North Dakota': 'ND',\n",
    "    'Northern Mariana Islands':'MP',\n",
    "    'Ohio': 'OH',\n",
    "    'Oklahoma': 'OK',\n",
    "    'Oregon': 'OR',\n",
    "    'Pennsylvania': 'PA',\n",
    "    'Puerto Rico': 'PR',\n",
    "    'Rhode Island': 'RI',\n",
    "    'South Carolina': 'SC',\n",
    "    'South Dakota': 'SD',\n",
    "    'Tennessee': 'TN',\n",
    "    'Texas': 'TX',\n",
    "    'Utah': 'UT',\n",
    "    'Vermont': 'VT',\n",
    "    'Virgin Islands': 'VI',\n",
    "    'Virginia': 'VA',\n",
    "    'Washington': 'WA',\n",
    "    'West Virginia': 'WV',\n",
    "    'Wisconsin': 'WI',\n",
    "    'Wyoming': 'WY'\n",
    "}\n",
    "\n",
    "state_2 = {state: abbrev for abbrev, state in state_2.items()}\n",
    "\n",
    "df_new = pd.DataFrame(list(state_2.items()),columns = ['State Code','State'])\n",
    "\n",
    "final = pd.merge(master,df_new,on=['State'])\n",
    "\n",
    "rest = pd.merge(rest,df_new,on=['State'])"
   ]
  },
  {
   "cell_type": "code",
   "execution_count": 4,
   "metadata": {},
   "outputs": [],
   "source": [
    "# App layout \n",
    "app.layout = html.Div([\n",
    "\n",
    "    html.H1(\"Fast Food Analysis Dashboard\", style={'text-align': 'center'}),\n",
    "    \n",
    "    dcc.Dropdown(id='dpdn2', value=['burgerking', 'mcdonalds', 'starbucks'], multi=True,\n",
    "                 options=[{'label': x, 'value': x} for x in\n",
    "                          df.Restaurant.unique()]),\n",
    "    html.Div([\n",
    "        dcc.Graph(id='pie-graph', figure={}, className='six columns'),\n",
    "        dcc.Graph(id='my-graph', figure={}, clickData=None, hoverData=None, # I assigned None for tutorial purposes. By defualt, these are None, unless you specify otherwise.\n",
    "                  config={\n",
    "                      'staticPlot': False,     # True, False\n",
    "                      'scrollZoom': True,      # True, False\n",
    "                      'doubleClick': 'reset',  # 'reset', 'autosize' or 'reset+autosize', False\n",
    "                      'showTips': False,       # True, False\n",
    "                      'displayModeBar': True,  # True, False, 'hover'\n",
    "                      'watermark': True,\n",
    "                      # 'modeBarButtonsToRemove': ['pan2d','select2d'],\n",
    "                        },\n",
    "                  className='six columns'\n",
    "                  )\n",
    "    ]),\n",
    "    \n",
    "    \n",
    "    dcc.Dropdown(id=\"select_category\",\n",
    "                 options=[\n",
    "                     {\"label\": \"Income per state\", \"value\": 'Income'},\n",
    "                     {\"label\": \"Obesity per state\", \"value\": 'Obesity'},\n",
    "                     {\"label\": \"Population per state\", \"value\": 'Population'}],\n",
    "                 multi=False,\n",
    "                 value=\"Income\",\n",
    "                 style={'width': \"40%\"}\n",
    "                 ),\n",
    "     \n",
    "    dcc.Dropdown(id=\"select_restaurant\",\n",
    "                 options=[\n",
    "                     {\"label\": \"McDonalds\", \"value\": 'Number of McDonalds'},\n",
    "                     {\"label\": \"Burger King\", \"value\": 'Number of Buger King'},\n",
    "                     {\"label\": \"Subway\", \"value\": 'Number of Subway'},\n",
    "                     {\"label\": \"Starbucks\", \"value\": 'Number of Starbucks'},\n",
    "                     {\"label\": \"Chick-fil-A\", \"value\": 'Number of Chick-fil-A'}],\n",
    "                 multi=False,\n",
    "                 value=\"Number of McDonalds\",\n",
    "                 style={'width': \"40%\"}\n",
    "                 ),\n",
    "\n",
    "    html.Div(id='output_container', children=[]),\n",
    "    html.Br(),\n",
    "    dcc.Graph(id='fast_food_map', figure={}),\n",
    "\n",
    "\n",
    "])"
   ]
  },
  {
   "cell_type": "code",
   "execution_count": null,
   "metadata": {},
   "outputs": [
    {
     "name": "stdout",
     "output_type": "stream",
     "text": [
      "Dash is running on http://127.0.0.1:8050/\n",
      "\n",
      " * Serving Flask app \"__main__\" (lazy loading)\n",
      " * Environment: production\n",
      "\u001b[31m   WARNING: This is a development server. Do not use it in a production deployment.\u001b[0m\n",
      "\u001b[2m   Use a production WSGI server instead.\u001b[0m\n",
      " * Debug mode: off\n"
     ]
    },
    {
     "name": "stderr",
     "output_type": "stream",
     "text": [
      " * Running on http://127.0.0.1:8050/ (Press CTRL+C to quit)\n",
      "127.0.0.1 - - [06/Apr/2021 20:39:52] \"\u001b[37mGET / HTTP/1.1\u001b[0m\" 200 -\n",
      "127.0.0.1 - - [06/Apr/2021 20:39:52] \"\u001b[37mGET /_dash-layout HTTP/1.1\u001b[0m\" 200 -\n",
      "127.0.0.1 - - [06/Apr/2021 20:39:52] \"\u001b[37mGET /_dash-dependencies HTTP/1.1\u001b[0m\" 200 -\n"
     ]
    },
    {
     "name": "stdout",
     "output_type": "stream",
     "text": [
      "['Protein (g)', 'Fat (g)', 'Carbs (g)', 'Sugar (g)', 'Sodium (g)']\n"
     ]
    },
    {
     "name": "stderr",
     "output_type": "stream",
     "text": [
      "127.0.0.1 - - [06/Apr/2021 20:39:53] \"\u001b[37mPOST /_dash-update-component HTTP/1.1\u001b[0m\" 200 -\n",
      "127.0.0.1 - - [06/Apr/2021 20:39:53] \"\u001b[37mPOST /_dash-update-component HTTP/1.1\u001b[0m\" 200 -\n",
      "127.0.0.1 - - [06/Apr/2021 20:39:53] \"\u001b[37mPOST /_dash-update-component HTTP/1.1\u001b[0m\" 200 -\n",
      "127.0.0.1 - - [06/Apr/2021 20:40:04] \"\u001b[37mPOST /_dash-update-component HTTP/1.1\u001b[0m\" 200 -\n",
      "127.0.0.1 - - [06/Apr/2021 20:40:04] \"\u001b[37mPOST /_dash-update-component HTTP/1.1\u001b[0m\" 200 -\n"
     ]
    },
    {
     "name": "stdout",
     "output_type": "stream",
     "text": [
      "['Protein (g)', 'Fat (g)', 'Carbs (g)', 'Sugar (g)', 'Sodium (g)']\n"
     ]
    },
    {
     "name": "stderr",
     "output_type": "stream",
     "text": [
      "127.0.0.1 - - [06/Apr/2021 20:40:05] \"\u001b[37mPOST /_dash-update-component HTTP/1.1\u001b[0m\" 200 -\n",
      "127.0.0.1 - - [06/Apr/2021 20:40:05] \"\u001b[37mPOST /_dash-update-component HTTP/1.1\u001b[0m\" 200 -\n"
     ]
    },
    {
     "name": "stdout",
     "output_type": "stream",
     "text": [
      "['Protein (g)', 'Fat (g)', 'Carbs (g)', 'Sugar (g)', 'Sodium (g)']\n"
     ]
    },
    {
     "name": "stderr",
     "output_type": "stream",
     "text": [
      "127.0.0.1 - - [06/Apr/2021 20:40:06] \"\u001b[37mPOST /_dash-update-component HTTP/1.1\u001b[0m\" 200 -\n",
      "127.0.0.1 - - [06/Apr/2021 20:40:06] \"\u001b[37mPOST /_dash-update-component HTTP/1.1\u001b[0m\" 200 -\n"
     ]
    },
    {
     "name": "stdout",
     "output_type": "stream",
     "text": [
      "hover data: {'points': [{'curveNumber': 0, 'pointNumber': 6, 'pointIndex': 6, 'x': 'French Toast Sticks (3 piece) - BK', 'y': 1, 'label': 'French Toast Sticks (3 piece) - BK', 'value': 1}]}\n",
      "hover data: {'points': [{'curveNumber': 0, 'pointNumber': 11, 'pointIndex': 11, 'x': 'Sausage, Egg, & Cheese Biscuit', 'y': 2.99, 'label': 'Sausage, Egg, & Cheese Biscuit', 'value': 2.99}]}\n"
     ]
    },
    {
     "name": "stderr",
     "output_type": "stream",
     "text": [
      "127.0.0.1 - - [06/Apr/2021 20:40:06] \"\u001b[37mPOST /_dash-update-component HTTP/1.1\u001b[0m\" 200 -\n"
     ]
    },
    {
     "name": "stdout",
     "output_type": "stream",
     "text": [
      "hover data: {'points': [{'curveNumber': 0, 'pointNumber': 19, 'pointIndex': 19, 'x': 'BK® Café Decaf Coffee- 16 fl oz', 'y': 1.79, 'label': 'BK® Café Decaf Coffee- 16 fl oz', 'value': 1.79}]}\n"
     ]
    },
    {
     "name": "stderr",
     "output_type": "stream",
     "text": [
      "127.0.0.1 - - [06/Apr/2021 20:40:07] \"\u001b[37mPOST /_dash-update-component HTTP/1.1\u001b[0m\" 200 -\n"
     ]
    },
    {
     "name": "stdout",
     "output_type": "stream",
     "text": [
      "hover data: {'points': [{'curveNumber': 0, 'pointNumber': 22, 'pointIndex': 22, 'x': 'BK® Café Mocha Frappe- 16 fl oz', 'y': 2.89, 'label': 'BK® Café Mocha Frappe- 16 fl oz', 'value': 2.89}]}\n"
     ]
    },
    {
     "name": "stderr",
     "output_type": "stream",
     "text": [
      "127.0.0.1 - - [06/Apr/2021 20:40:08] \"\u001b[37mPOST /_dash-update-component HTTP/1.1\u001b[0m\" 200 -\n"
     ]
    },
    {
     "name": "stdout",
     "output_type": "stream",
     "text": [
      "hover data: {'points': [{'curveNumber': 0, 'pointNumber': 21, 'pointIndex': 21, 'x': 'BK® Café Iced Vanilla Coffee- 16 fl oz', 'y': 2.89, 'label': 'BK® Café Iced Vanilla Coffee- 16 fl oz', 'value': 2.89}]}\n"
     ]
    },
    {
     "name": "stderr",
     "output_type": "stream",
     "text": [
      "127.0.0.1 - - [06/Apr/2021 20:40:08] \"\u001b[37mPOST /_dash-update-component HTTP/1.1\u001b[0m\" 200 -\n"
     ]
    },
    {
     "name": "stdout",
     "output_type": "stream",
     "text": [
      "hover data: {'points': [{'curveNumber': 0, 'pointNumber': 21, 'pointIndex': 21, 'x': 'BK® Café Iced Vanilla Coffee- 16 fl oz', 'y': 2.89, 'label': 'BK® Café Iced Vanilla Coffee- 16 fl oz', 'value': 2.89}]}\n"
     ]
    },
    {
     "name": "stderr",
     "output_type": "stream",
     "text": [
      "127.0.0.1 - - [06/Apr/2021 20:40:13] \"\u001b[37mPOST /_dash-update-component HTTP/1.1\u001b[0m\" 200 -\n",
      "127.0.0.1 - - [06/Apr/2021 20:40:18] \"\u001b[37mPOST /_dash-update-component HTTP/1.1\u001b[0m\" 200 -\n",
      "127.0.0.1 - - [06/Apr/2021 20:40:18] \"\u001b[37mPOST /_dash-update-component HTTP/1.1\u001b[0m\" 200 -\n"
     ]
    },
    {
     "name": "stdout",
     "output_type": "stream",
     "text": [
      "hover data: {'points': [{'curveNumber': 0, 'pointNumber': 21, 'pointIndex': 21, 'x': 'BK® Café Iced Vanilla Coffee- 16 fl oz', 'y': 2.89, 'label': 'BK® Café Iced Vanilla Coffee- 16 fl oz', 'value': 2.89}]}\n"
     ]
    }
   ],
   "source": [
    "@app.callback(\n",
    "    Output(component_id='my-graph', component_property='figure'),\n",
    "    Input(component_id='dpdn2', component_property='value'),\n",
    ")\n",
    "def update_graph(rest_chosen):\n",
    "    dff = df[df.Restaurant.isin(rest_chosen)]\n",
    "    fig = px.bar(data_frame=dff, x='Items', y='Cost (USD)', color='Restaurant')\n",
    "    return fig\n",
    "\n",
    "\n",
    "# Dash version 1.16.0 or higher\n",
    "@app.callback(\n",
    "    Output(component_id='pie-graph', component_property='figure'),\n",
    "    Input(component_id='my-graph', component_property='hoverData'),\n",
    "    Input(component_id='my-graph', component_property='clickData'),\n",
    "    Input(component_id='my-graph', component_property='selectedData'),\n",
    "    Input(component_id='dpdn2', component_property='value')\n",
    ")\n",
    "def update_side_graph(hov_data, clk_data, slct_data, rest_chosen):\n",
    "    if hov_data is None:\n",
    "        dff2 = df[df.Restaurant.isin(rest_chosen)]\n",
    "        dff2 = dff2[dff2.Items == 'Club Salad with Crispy Chicken – no dressing']\n",
    "        test1 = dff2[['Protein (g)','Fat (g)', 'Carbs (g)', 'Sugar (g)', 'Sodium (g)']]\n",
    "        test2 = test1.values.tolist() \n",
    "        test3= test2[0]\n",
    "        labels = ['Protein (g)','Fat (g)', 'Carbs (g)', 'Sugar (g)', 'Sodium (g)']\n",
    "        print(labels)\n",
    "        fig2 = px.pie(data_frame=dff2, labels = labels , values= test3, names=labels,\n",
    "                      title='Nutrition')\n",
    "        return fig2\n",
    "    else:\n",
    "        print(f'hover data: {hov_data}')\n",
    "        # print(hov_data['points'][0]['customdata'][0])\n",
    "        # print(f'click data: {clk_data}')\n",
    "        # print(f'selected data: {slct_data}')\n",
    "        dff2 = df[df.Restaurant.isin(rest_chosen)]\n",
    "\n",
    "        labels = ['Protein (g)','Fat (g)', 'Carbs (g)', 'Sugar (g)', 'Sodium (g)']\n",
    "        hov_year = hov_data['points'][0]['x']\n",
    "        dff2 = dff2[dff2.Items == hov_year]\n",
    "        test1 = dff2[['Protein (g)','Fat (g)', 'Carbs (g)', 'Sugar (g)', 'Sodium (g)']]\n",
    "        test2 = test1.values.tolist() \n",
    "        test3= test2[0]\n",
    "        fig2 = px.pie(data_frame=dff2, values=test3, names=labels,labels = labels , title=f'Nutrition: {hov_year}')\n",
    "        return fig2\n",
    "\n",
    "#\n",
    "@app.callback(\n",
    "    [Output(component_id='output_container', component_property='children'),\n",
    "     Output(component_id='fast_food_map', component_property='figure')],\n",
    "    [Input(component_id='select_category', component_property='value'),\n",
    "     Input(component_id='select_restaurant',component_property='value')]\n",
    ")\n",
    "def update_map_graph(option_slctd,option_slctd_2):\n",
    "    \n",
    "    container = \"The option chosen by user was: {}\".format(option_slctd)\n",
    "    \n",
    "    dfff = final.copy()\n",
    "\n",
    "    figg = px.choropleth(\n",
    "        data_frame=dfff,\n",
    "        locationmode='USA-states',\n",
    "        locations='State Code',\n",
    "        scope=\"usa\",\n",
    "        color=option_slctd,\n",
    "        color_continuous_scale=\"Viridis\",\n",
    "        hover_data=['State', option_slctd],\n",
    "        template='plotly_dark'\n",
    "    )\n",
    "\n",
    "    dfff2 = rest.copy()\n",
    "\n",
    "    figg2 = px.scatter_geo(\n",
    "         data_frame=dfff2,\n",
    "         locationmode='USA-states',\n",
    "         scope=\"usa\",\n",
    "         locations=\"State Code\",\n",
    "         size=option_slctd_2,\n",
    "         template='plotly_dark',\n",
    "                       )\n",
    "    figg.add_trace(\n",
    "        figg2.data[0]\n",
    "    )\n",
    "\n",
    "    return container,figg\n",
    "\n",
    "\n",
    "\n",
    "if __name__ == \"__main__\":\n",
    "    app.run_server(host = '127.0.0.1')"
   ]
  }
 ],
 "metadata": {
  "kernelspec": {
   "display_name": "Python 3",
   "language": "python",
   "name": "python3"
  },
  "language_info": {
   "codemirror_mode": {
    "name": "ipython",
    "version": 3
   },
   "file_extension": ".py",
   "mimetype": "text/x-python",
   "name": "python",
   "nbconvert_exporter": "python",
   "pygments_lexer": "ipython3",
   "version": "3.8.5"
  }
 },
 "nbformat": 4,
 "nbformat_minor": 4
}
