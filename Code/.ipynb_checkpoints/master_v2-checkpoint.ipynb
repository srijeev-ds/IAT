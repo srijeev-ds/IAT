{
 "cells": [
  {
   "cell_type": "code",
   "execution_count": 1,
   "metadata": {},
   "outputs": [],
   "source": [
    "# importing necessary libraries\n",
    "import dash\n",
    "import dash_core_components as dcc\n",
    "import dash_html_components as html\n",
    "import plotly.graph_objs as go\n",
    "import pandas as pd\n",
    "from dash.dependencies import Input, Output\n",
    "import plotly.express as px"
   ]
  },
  {
   "cell_type": "code",
   "execution_count": 2,
   "metadata": {},
   "outputs": [],
   "source": [
    "# Adding in a CSS stylesheet for placement of visualizations\n",
    "#df = pd.read_csv(\"/Users/kennethlau/Desktop/IAT_project/IAT_2/IAT/Datasets/nutrition/all_nutrition.csv\")\n",
    "df = pd.read_csv(\"/Users/srijeevsarkar/Desktop/IAT/Datasets/nutrition/all_nutrition.csv\")\n",
    "\n",
    "#income = pd.read_csv(\"/Users/kennethlau/Desktop/IAT_project/IAT_2/IAT/Datasets/map/income_per_state.csv\")\n",
    "income = pd.read_csv(\"/Users/srijeevsarkar/Desktop/IAT/Datasets/map/income_per_state.csv\")\n",
    "\n",
    "#obesity = pd.read_csv(\"/Users/kennethlau/Desktop/IAT_project/IAT_2/IAT/Datasets/map/obesity_per_state.csv\")\n",
    "obesity = pd.read_csv(\"/Users/srijeevsarkar/Desktop/IAT/Datasets/map/obesity_per_state.csv\")\n",
    "\n",
    "#population = pd.read_csv(\"/Users/kennethlau/Desktop/IAT_project/IAT_2/IAT/Datasets/map/population_per_state.csv\")\n",
    "population = pd.read_csv(\"/Users/srijeevsarkar/Desktop/IAT/Datasets/map/population_per_state.csv\")\n",
    "\n",
    "#number_bk = pd.read_csv(\"/Users/kennethlau/Desktop/IAT_project/IAT_2/IAT/Datasets/locations/burgerking_locations.csv\")\n",
    "number_bk = pd.read_csv(\"/Users/srijeevsarkar/Desktop/IAT/Datasets/locations/burgerking_locations.csv\")\n",
    "\n",
    "#number_chick = pd.read_csv(\"/Users/kennethlau/Desktop/IAT_project/IAT_2/IAT/Datasets/locations/chick-fil-a_locations.csv\")\n",
    "number_chick = pd.read_csv(\"/Users/srijeevsarkar/Desktop/IAT/Datasets/locations/chick-fil-a_locations.csv\")\n",
    "\n",
    "#number_mcdonalds = pd.read_csv(\"/Users/kennethlau/Desktop/IAT_project/IAT_2/IAT/Datasets/locations/mcdonalds_locations.csv\")\n",
    "number_mcdonalds = pd.read_csv(\"/Users/srijeevsarkar/Desktop/IAT/Datasets/locations/mcdonalds_locations.csv\")\n",
    "\n",
    "#number_starbucks = pd.read_csv(\"/Users/kennethlau/Desktop/IAT_project/IAT_2/IAT/Datasets/locations/starbucks_locations.csv\")\n",
    "number_starbucks = pd.read_csv(\"/Users/srijeevsarkar/Desktop/IAT/Datasets/locations/starbucks_locations.csv\")\n",
    "\n",
    "#number_subway = pd.read_csv(\"/Users/kennethlau/Desktop/IAT_project/IAT_2/IAT/Datasets/locations/subway_locations.csv\")\n",
    "number_subway = pd.read_csv(\"/Users/srijeevsarkar/Desktop/IAT/Datasets/locations/subway_locations.csv\")\n",
    "\n",
    "#foodo = pd.read_csv(\"/Users/kennethlau/Desktop/IAT_project/IAT_2/IAT/Datasets/nutrition/all_nutrition.csv\")\n",
    "foodo = pd.read_csv(\"/Users/srijeevsarkar/Desktop/IAT/Datasets/nutrition/all_nutrition.csv\")\n",
    "\n",
    "#drinko = pd.read_csv(\"/Users/kennethlau/Desktop/IAT_project/IAT_2/IAT/Datasets/nutrition/all_nutrition.csv\")\n",
    "drinko = pd.read_csv(\"/Users/srijeevsarkar/Desktop/IAT/Datasets/nutrition/all_nutrition.csv\")\n",
    "\n",
    "external_stylesheets = ['https://codepen.io/chriddyp/pen/bWLwgP.css']\n",
    "app = dash.Dash(__name__, external_stylesheets=external_stylesheets)\n",
    "path = [\"Restaurant\", \"Category\", \"Items\"]"
   ]
  },
  {
   "cell_type": "code",
   "execution_count": 3,
   "metadata": {},
   "outputs": [],
   "source": [
    "# merging datasets\n",
    "xf = pd.merge(income, obesity, on=['State'])\n",
    "master = pd.merge(xf, population, on=['State'])\n",
    "rest1 = pd.merge(number_bk,number_chick, on=['State'])\n",
    "rest2 = pd.merge(rest1,number_mcdonalds, on=['State'])\n",
    "rest3 = pd.merge(rest2,number_starbucks, on=['State'])\n",
    "rest4 = pd.merge(rest3,number_subway, on=['State'])\n",
    "rest = rest4\n",
    "\n",
    "# dictionary to add state codes to the dataframes\n",
    "master.rename(columns={'Average Income (in K)': 'Income', 'Percent of obesities': 'Obesity', 'Population (July)': 'Population'}, inplace=True)\n",
    "state_2 = {\n",
    "    'Alabama': 'AL',\n",
    "    'Alaska': 'AK',\n",
    "    'American Samoa': 'AS',\n",
    "    'Arizona': 'AZ',\n",
    "    'Arkansas': 'AR',\n",
    "    'California': 'CA',\n",
    "    'Colorado': 'CO',\n",
    "    'Connecticut': 'CT',\n",
    "    'Delaware': 'DE',\n",
    "    'District of Columbia': 'DC',\n",
    "    'Florida': 'FL',\n",
    "    'Georgia': 'GA',\n",
    "    'Guam': 'GU',\n",
    "    'Hawaii': 'HI',\n",
    "    'Idaho': 'ID',\n",
    "    'Illinois': 'IL',\n",
    "    'Indiana': 'IN',\n",
    "    'Iowa': 'IA',\n",
    "    'Kansas': 'KS',\n",
    "    'Kentucky': 'KY',\n",
    "    'Louisiana': 'LA',\n",
    "    'Maine': 'ME',\n",
    "    'Maryland': 'MD',\n",
    "    'Massachusetts': 'MA',\n",
    "    'Michigan': 'MI',\n",
    "    'Minnesota': 'MN',\n",
    "    'Mississippi': 'MS',\n",
    "    'Missouri': 'MO',\n",
    "    'Montana': 'MT',\n",
    "    'Nebraska': 'NE',\n",
    "    'Nevada': 'NV',\n",
    "    'New Hampshire': 'NH',\n",
    "    'New Jersey': 'NJ',\n",
    "    'New Mexico': 'NM',\n",
    "    'New York': 'NY',\n",
    "    'North Carolina': 'NC',\n",
    "    'North Dakota': 'ND',\n",
    "    'Northern Mariana Islands':'MP',\n",
    "    'Ohio': 'OH',\n",
    "    'Oklahoma': 'OK',\n",
    "    'Oregon': 'OR',\n",
    "    'Pennsylvania': 'PA',\n",
    "    'Puerto Rico': 'PR',\n",
    "    'Rhode Island': 'RI',\n",
    "    'South Carolina': 'SC',\n",
    "    'South Dakota': 'SD',\n",
    "    'Tennessee': 'TN',\n",
    "    'Texas': 'TX',\n",
    "    'Utah': 'UT',\n",
    "    'Vermont': 'VT',\n",
    "    'Virgin Islands': 'VI',\n",
    "    'Virginia': 'VA',\n",
    "    'Washington': 'WA',\n",
    "    'West Virginia': 'WV',\n",
    "    'Wisconsin': 'WI',\n",
    "    'Wyoming': 'WY'\n",
    "}\n",
    "\n",
    "state_2 = {state: abbrev for abbrev, state in state_2.items()}\n",
    "\n",
    "df_new = pd.DataFrame(list(state_2.items()),columns = ['State Code','State'])\n",
    "\n",
    "final = pd.merge(master,df_new,on=['State'])\n",
    "\n",
    "rest = pd.merge(rest,df_new,on=['State'])\n",
    "\n",
    "is_sandwich =  foodo['Category']==\"Sandwich\"\n",
    "sando = foodo[is_sandwich]\n",
    "is_drink =  drinko['Category']==\"Drink\"\n",
    "drink = drinko[is_drink]"
   ]
  },
  {
   "cell_type": "code",
   "execution_count": 4,
   "metadata": {},
   "outputs": [],
   "source": [
    "# App layout \n",
    "app.layout = html.Div([\n",
    "\n",
    "    html.H1(\"Fast Food Analysis Dashboard\", style={'text-align': 'center'}),\n",
    "    \n",
    "    dcc.Dropdown(id='dpdn2', value=['burgerking', 'mcdonalds', 'starbucks'], multi=True,\n",
    "                 options=[{'label': x, 'value': x} for x in\n",
    "                          df.Restaurant.unique()]),\n",
    "    html.Div([\n",
    "        dcc.Graph(id='pie-graph', figure={}, className='five columns'),\n",
    "        dcc.Graph(id='my-graph', figure={}, clickData=None, hoverData=None, # I assigned None for tutorial purposes. By defualt, these are None, unless you specify otherwise.\n",
    "                  config={\n",
    "                      'staticPlot': False,     # True, False\n",
    "                      'scrollZoom': True,      # True, False\n",
    "                      'doubleClick': 'reset',  # 'reset', 'autosize' or 'reset+autosize', False\n",
    "                      'showTips': False,       # True, False\n",
    "                      'displayModeBar': True,  # True, False, 'hover'\n",
    "                      'watermark': True,\n",
    "                      # 'modeBarButtonsToRemove': ['pan2d','select2d'],\n",
    "                        },\n",
    "                  className='seven columns'\n",
    "                  )\n",
    "    ]),\n",
    "    \n",
    "    \n",
    "\n",
    "    html.Br(),\n",
    "#     html.Div([dcc.Graph(id=\"sunburst\",style= {'height': 800},figure=px.sunburst(df, path=path, values=\"Cost (USD)\")),])\n",
    "\n",
    "\n",
    "    dcc.Dropdown(id=\"select_category\",\n",
    "                 options=[\n",
    "                     {\"label\": \"Income per state\", \"value\": 'Income'},\n",
    "                     {\"label\": \"Obesity per state\", \"value\": 'Obesity'},\n",
    "                     {\"label\": \"Population per state\", \"value\": 'Population'}],\n",
    "                 multi=False,\n",
    "                 value=\"Income\",\n",
    "                 style={'width': \"40%\"}\n",
    "                 ),\n",
    "     \n",
    "    dcc.Dropdown(id=\"select_restaurant\",\n",
    "                 options=[\n",
    "                     {\"label\": \"McDonalds\", \"value\": 'Number of McDonalds'},\n",
    "                     {\"label\": \"Burger King\", \"value\": 'Number of Buger King'},\n",
    "                     {\"label\": \"Subway\", \"value\": 'Number of Subway'},\n",
    "                     {\"label\": \"Starbucks\", \"value\": 'Number of Starbucks'},\n",
    "                     {\"label\": \"Chick-fil-A\", \"value\": 'Number of Chick-fil-A'}],\n",
    "                 multi=False,\n",
    "                 value=\"Number of McDonalds\",\n",
    "                 style={'width': \"40%\"}\n",
    "                 ),\n",
    "\n",
    "    html.Div(id='output_container', children=[]),\n",
    "    html.Br(),\n",
    "    dcc.Graph(id='fast_food_map', figure={}),\n",
    "    dcc.Graph(id=\"sunburst\",style= {'height': 800},figure=px.sunburst(df, path=path, values=\"Cost (USD)\")),\n",
    "    \n",
    "    \n",
    "    \n",
    "    html.Div([\n",
    "    \n",
    "    dcc.Dropdown(id='opt1', value=['BK - Bacon & Cheese Crispy Chicken Sandwich'], multi=False,\n",
    "                 options=[{'label': x, 'value': x} for x in\n",
    "                          sando.Items.unique()],\n",
    "                        style={'width': \"50%\"}),\n",
    "    dcc.Dropdown(id='opt2', value=['CFA - Spicy Chicken Deluxe Sandwich'], multi=False,\n",
    "                 options=[{'label': x, 'value': x} for x in\n",
    "                          sando.Items.unique()],\n",
    "                          style={'width': \"50%\"}),\n",
    "    dcc.Dropdown(id='opt3', value=['McD - Big Mac'], multi=False,\n",
    "                 options=[{'label': x, 'value': x} for x in\n",
    "                          sando.Items.unique()],\n",
    "                          style={'width': \"50%\"}),\n",
    "    dcc.Dropdown(id='opt4', value=['SB - Ham & Swiss Panini'], multi=False,\n",
    "                 options=[{'label': x, 'value': x} for x in\n",
    "                          sando.Items.unique()],\n",
    "                          style={'width': \"50%\"}),\n",
    "    dcc.Dropdown(id='opt5', value=['SW - Veggie Delite® Sandwich'], multi=False,\n",
    "                 options=[{'label': x, 'value': x} for x in\n",
    "                          sando.Items.unique()],\n",
    "                          style={'width': \"50%\"}),\n",
    "    \n",
    "    dcc.Graph(id='sando_map', figure={}),\n",
    "    \n",
    "    \n",
    "]),\n",
    "    html.Div([\n",
    "    \n",
    "    dcc.Dropdown(id='dpt1', value=['BK - Barq’s® Root Beer'], multi=False,\n",
    "                 options=[{'label': x, 'value': x} for x in\n",
    "                          drink.Items.unique()]\n",
    "                  ,style={'width': \"60%\"},\n",
    "                ),\n",
    "    dcc.Dropdown(id='dpt2', value=['McD - Mocha'], multi=False,\n",
    "                 options=[{'label': x, 'value': x} for x in\n",
    "                          drink.Items.unique()]\n",
    "                 ,style={'width': \"60%\"},\n",
    "                ),\n",
    "    dcc.Dropdown(id='dpt3', value=['SB - Cinnamon Dolce Crème'], multi=False,\n",
    "                 options=[{'label': x, 'value': x} for x in\n",
    "                          drink.Items.unique()]\n",
    "                                 ,style={'width': \"60%\"},\n",
    "                ),\n",
    "    dcc.Dropdown(id='dpt4', value=['SB - Mocha Frappuccino® Blended Coffee',], multi=False,\n",
    "                 options=[{'label': x, 'value': x} for x in\n",
    "                          drink.Items.unique()]\n",
    "                                 ,style={'width': \"60%\"},),\n",
    "    dcc.Dropdown(id='dpt5', value=['SB - Starbucks® Blonde Flat White'], multi=False,\n",
    "                 options=[{'label': x, 'value': x} for x in\n",
    "                          drink.Items.unique()]\n",
    "                                 ,style={'width': \"60%\"},),\n",
    "    \n",
    "    dcc.Graph(id='drink_map', figure={}),\n",
    "    \n",
    "    \n",
    "])\n",
    "    \n",
    "\n",
    "])"
   ]
  },
  {
   "cell_type": "code",
   "execution_count": null,
   "metadata": {},
   "outputs": [
    {
     "name": "stdout",
     "output_type": "stream",
     "text": [
      "Dash is running on http://127.0.0.1:8050/\n",
      "\n",
      " * Serving Flask app \"__main__\" (lazy loading)\n",
      " * Environment: production\n",
      "\u001b[31m   WARNING: This is a development server. Do not use it in a production deployment.\u001b[0m\n",
      "\u001b[2m   Use a production WSGI server instead.\u001b[0m\n",
      " * Debug mode: off\n"
     ]
    },
    {
     "name": "stderr",
     "output_type": "stream",
     "text": [
      " * Running on http://127.0.0.1:8050/ (Press CTRL+C to quit)\n",
      "127.0.0.1 - - [07/Apr/2021 17:42:20] \"\u001b[37mGET / HTTP/1.1\u001b[0m\" 200 -\n",
      "127.0.0.1 - - [07/Apr/2021 17:42:20] \"\u001b[37mGET /_dash-dependencies HTTP/1.1\u001b[0m\" 200 -\n",
      "127.0.0.1 - - [07/Apr/2021 17:42:20] \"\u001b[37mGET /_dash-layout HTTP/1.1\u001b[0m\" 200 -\n"
     ]
    },
    {
     "name": "stdout",
     "output_type": "stream",
     "text": [
      "Exception on /_dash-update-component [POST]\n",
      "Traceback (most recent call last):\n",
      "  File \"/Users/srijeevsarkar/opt/anaconda3/lib/python3.8/site-packages/flask/app.py\", line 2447, in wsgi_app\n",
      "    response = self.full_dispatch_request()\n",
      "  File \"/Users/srijeevsarkar/opt/anaconda3/lib/python3.8/site-packages/flask/app.py\", line 1952, in full_dispatch_request\n",
      "    rv = self.handle_user_exception(e)\n",
      "  File \"/Users/srijeevsarkar/opt/anaconda3/lib/python3.8/site-packages/flask/app.py\", line 1821, in handle_user_exception\n",
      "    reraise(exc_type, exc_value, tb)\n",
      "  File \"/Users/srijeevsarkar/opt/anaconda3/lib/python3.8/site-packages/flask/_compat.py\", line 39, in reraise\n",
      "    raise value\n",
      "  File \"/Users/srijeevsarkar/opt/anaconda3/lib/python3.8/site-packages/flask/app.py\", line 1950, in full_dispatch_request\n",
      "    rv = self.dispatch_request()\n",
      "  File \"/Users/srijeevsarkar/opt/anaconda3/lib/python3.8/site-packages/flask/app.py\", line 1936, in dispatch_request\n",
      "    return self.view_functions[rule.endpoint](**req.view_args)\n",
      "  File \"/Users/srijeevsarkar/opt/anaconda3/lib/python3.8/site-packages/dash/dash.py\", line 1078, in dispatch\n",
      "    response.set_data(func(*args, outputs_list=outputs_list))\n",
      "  File \"/Users/srijeevsarkar/opt/anaconda3/lib/python3.8/site-packages/dash/dash.py\", line 1009, in add_context\n",
      "    output_value = func(*args, **kwargs)  # %% callback invoked %%\n",
      "  File \"<ipython-input-5-1174b3524c63>\", line 100, in group_graph\n",
      "    a = sando[sando[\"Items\"]==choice1]\n",
      "  File \"/Users/srijeevsarkar/opt/anaconda3/lib/python3.8/site-packages/pandas/core/ops/common.py\", line 65, in new_method\n",
      "    return method(self, other)\n",
      "  File \"/Users/srijeevsarkar/opt/anaconda3/lib/python3.8/site-packages/pandas/core/ops/__init__.py\", line 370, in wrapper\n",
      "    res_values = comparison_op(lvalues, rvalues, op)\n",
      "  File \"/Users/srijeevsarkar/opt/anaconda3/lib/python3.8/site-packages/pandas/core/ops/array_ops.py\", line 224, in comparison_op\n",
      "    raise ValueError(\n",
      "ValueError: ('Lengths must match to compare', (77,), (1,))\n"
     ]
    },
    {
     "name": "stderr",
     "output_type": "stream",
     "text": [
      "127.0.0.1 - - [07/Apr/2021 17:42:21] \"\u001b[35m\u001b[1mPOST /_dash-update-component HTTP/1.1\u001b[0m\" 500 -\n"
     ]
    },
    {
     "name": "stdout",
     "output_type": "stream",
     "text": [
      "Exception on /_dash-update-component [POST]\n",
      "Traceback (most recent call last):\n",
      "  File \"/Users/srijeevsarkar/opt/anaconda3/lib/python3.8/site-packages/flask/app.py\", line 2447, in wsgi_app\n",
      "    response = self.full_dispatch_request()\n",
      "  File \"/Users/srijeevsarkar/opt/anaconda3/lib/python3.8/site-packages/flask/app.py\", line 1952, in full_dispatch_request\n",
      "    rv = self.handle_user_exception(e)\n",
      "  File \"/Users/srijeevsarkar/opt/anaconda3/lib/python3.8/site-packages/flask/app.py\", line 1821, in handle_user_exception\n",
      "    reraise(exc_type, exc_value, tb)\n",
      "  File \"/Users/srijeevsarkar/opt/anaconda3/lib/python3.8/site-packages/flask/_compat.py\", line 39, in reraise\n",
      "    raise value\n",
      "  File \"/Users/srijeevsarkar/opt/anaconda3/lib/python3.8/site-packages/flask/app.py\", line 1950, in full_dispatch_request\n",
      "    rv = self.dispatch_request()\n",
      "  File \"/Users/srijeevsarkar/opt/anaconda3/lib/python3.8/site-packages/flask/app.py\", line 1936, in dispatch_request\n",
      "    return self.view_functions[rule.endpoint](**req.view_args)\n",
      "  File \"/Users/srijeevsarkar/opt/anaconda3/lib/python3.8/site-packages/dash/dash.py\", line 1078, in dispatch\n",
      "    response.set_data(func(*args, outputs_list=outputs_list))\n",
      "  File \"/Users/srijeevsarkar/opt/anaconda3/lib/python3.8/site-packages/dash/dash.py\", line 1009, in add_context\n",
      "    output_value = func(*args, **kwargs)  # %% callback invoked %%\n",
      "  File \"<ipython-input-5-1174b3524c63>\", line 161, in group_graph\n",
      "    a = drink[drink[\"Items\"]==choice1]\n",
      "  File \"/Users/srijeevsarkar/opt/anaconda3/lib/python3.8/site-packages/pandas/core/ops/common.py\", line 65, in new_method\n",
      "    return method(self, other)\n",
      "  File \"/Users/srijeevsarkar/opt/anaconda3/lib/python3.8/site-packages/pandas/core/ops/__init__.py\", line 370, in wrapper\n",
      "    res_values = comparison_op(lvalues, rvalues, op)\n",
      "  File \"/Users/srijeevsarkar/opt/anaconda3/lib/python3.8/site-packages/pandas/core/ops/array_ops.py\", line 224, in comparison_op\n",
      "    raise ValueError(\n",
      "ValueError: ('Lengths must match to compare', (150,), (1,))\n"
     ]
    },
    {
     "name": "stderr",
     "output_type": "stream",
     "text": [
      "127.0.0.1 - - [07/Apr/2021 17:42:21] \"\u001b[35m\u001b[1mPOST /_dash-update-component HTTP/1.1\u001b[0m\" 500 -\n",
      "127.0.0.1 - - [07/Apr/2021 17:42:21] \"\u001b[37mPOST /_dash-update-component HTTP/1.1\u001b[0m\" 200 -\n",
      "127.0.0.1 - - [07/Apr/2021 17:42:21] \"\u001b[37mPOST /_dash-update-component HTTP/1.1\u001b[0m\" 200 -\n",
      "127.0.0.1 - - [07/Apr/2021 17:42:23] \"\u001b[37mPOST /_dash-update-component HTTP/1.1\u001b[0m\" 200 -\n"
     ]
    },
    {
     "name": "stdout",
     "output_type": "stream",
     "text": [
      "['Protein (g)', 'Fat (g)', 'Carbs (g)', 'Sugar (g)', 'Sodium (g)']\n",
      "Exception on /_dash-update-component [POST]\n",
      "Traceback (most recent call last):\n",
      "  File \"/Users/srijeevsarkar/opt/anaconda3/lib/python3.8/site-packages/flask/app.py\", line 2447, in wsgi_app\n",
      "    response = self.full_dispatch_request()\n",
      "  File \"/Users/srijeevsarkar/opt/anaconda3/lib/python3.8/site-packages/flask/app.py\", line 1952, in full_dispatch_request\n",
      "    rv = self.handle_user_exception(e)\n",
      "  File \"/Users/srijeevsarkar/opt/anaconda3/lib/python3.8/site-packages/flask/app.py\", line 1821, in handle_user_exception\n",
      "    reraise(exc_type, exc_value, tb)\n",
      "  File \"/Users/srijeevsarkar/opt/anaconda3/lib/python3.8/site-packages/flask/_compat.py\", line 39, in reraise\n",
      "    raise value\n",
      "  File \"/Users/srijeevsarkar/opt/anaconda3/lib/python3.8/site-packages/flask/app.py\", line 1950, in full_dispatch_request\n",
      "    rv = self.dispatch_request()\n",
      "  File \"/Users/srijeevsarkar/opt/anaconda3/lib/python3.8/site-packages/flask/app.py\", line 1936, in dispatch_request\n",
      "    return self.view_functions[rule.endpoint](**req.view_args)\n",
      "  File \"/Users/srijeevsarkar/opt/anaconda3/lib/python3.8/site-packages/dash/dash.py\", line 1078, in dispatch\n",
      "    response.set_data(func(*args, outputs_list=outputs_list))\n",
      "  File \"/Users/srijeevsarkar/opt/anaconda3/lib/python3.8/site-packages/dash/dash.py\", line 1009, in add_context\n",
      "    output_value = func(*args, **kwargs)  # %% callback invoked %%\n",
      "  File \"<ipython-input-5-1174b3524c63>\", line 107, in group_graph\n",
      "    b = sando[sando[\"Items\"]==choice2]\n",
      "  File \"/Users/srijeevsarkar/opt/anaconda3/lib/python3.8/site-packages/pandas/core/ops/common.py\", line 65, in new_method\n",
      "    return method(self, other)\n",
      "  File \"/Users/srijeevsarkar/opt/anaconda3/lib/python3.8/site-packages/pandas/core/ops/__init__.py\", line 370, in wrapper\n",
      "    res_values = comparison_op(lvalues, rvalues, op)\n",
      "  File \"/Users/srijeevsarkar/opt/anaconda3/lib/python3.8/site-packages/pandas/core/ops/array_ops.py\", line 224, in comparison_op\n",
      "    raise ValueError(\n",
      "ValueError: ('Lengths must match to compare', (77,), (1,))\n"
     ]
    },
    {
     "name": "stderr",
     "output_type": "stream",
     "text": [
      "127.0.0.1 - - [07/Apr/2021 17:42:38] \"\u001b[35m\u001b[1mPOST /_dash-update-component HTTP/1.1\u001b[0m\" 500 -\n"
     ]
    },
    {
     "name": "stdout",
     "output_type": "stream",
     "text": [
      "Exception on /_dash-update-component [POST]\n",
      "Traceback (most recent call last):\n",
      "  File \"/Users/srijeevsarkar/opt/anaconda3/lib/python3.8/site-packages/flask/app.py\", line 2447, in wsgi_app\n",
      "    response = self.full_dispatch_request()\n",
      "  File \"/Users/srijeevsarkar/opt/anaconda3/lib/python3.8/site-packages/flask/app.py\", line 1952, in full_dispatch_request\n",
      "    rv = self.handle_user_exception(e)\n",
      "  File \"/Users/srijeevsarkar/opt/anaconda3/lib/python3.8/site-packages/flask/app.py\", line 1821, in handle_user_exception\n",
      "    reraise(exc_type, exc_value, tb)\n",
      "  File \"/Users/srijeevsarkar/opt/anaconda3/lib/python3.8/site-packages/flask/_compat.py\", line 39, in reraise\n",
      "    raise value\n",
      "  File \"/Users/srijeevsarkar/opt/anaconda3/lib/python3.8/site-packages/flask/app.py\", line 1950, in full_dispatch_request\n",
      "    rv = self.dispatch_request()\n",
      "  File \"/Users/srijeevsarkar/opt/anaconda3/lib/python3.8/site-packages/flask/app.py\", line 1936, in dispatch_request\n",
      "    return self.view_functions[rule.endpoint](**req.view_args)\n",
      "  File \"/Users/srijeevsarkar/opt/anaconda3/lib/python3.8/site-packages/dash/dash.py\", line 1078, in dispatch\n",
      "    response.set_data(func(*args, outputs_list=outputs_list))\n",
      "  File \"/Users/srijeevsarkar/opt/anaconda3/lib/python3.8/site-packages/dash/dash.py\", line 1009, in add_context\n",
      "    output_value = func(*args, **kwargs)  # %% callback invoked %%\n",
      "  File \"<ipython-input-5-1174b3524c63>\", line 114, in group_graph\n",
      "    c = sando[sando[\"Items\"]==choice3]\n",
      "  File \"/Users/srijeevsarkar/opt/anaconda3/lib/python3.8/site-packages/pandas/core/ops/common.py\", line 65, in new_method\n",
      "    return method(self, other)\n",
      "  File \"/Users/srijeevsarkar/opt/anaconda3/lib/python3.8/site-packages/pandas/core/ops/__init__.py\", line 370, in wrapper\n",
      "    res_values = comparison_op(lvalues, rvalues, op)\n",
      "  File \"/Users/srijeevsarkar/opt/anaconda3/lib/python3.8/site-packages/pandas/core/ops/array_ops.py\", line 224, in comparison_op\n",
      "    raise ValueError(\n",
      "ValueError: ('Lengths must match to compare', (77,), (1,))\n"
     ]
    },
    {
     "name": "stderr",
     "output_type": "stream",
     "text": [
      "127.0.0.1 - - [07/Apr/2021 17:42:40] \"\u001b[35m\u001b[1mPOST /_dash-update-component HTTP/1.1\u001b[0m\" 500 -\n"
     ]
    },
    {
     "name": "stdout",
     "output_type": "stream",
     "text": [
      "Exception on /_dash-update-component [POST]\n",
      "Traceback (most recent call last):\n",
      "  File \"/Users/srijeevsarkar/opt/anaconda3/lib/python3.8/site-packages/flask/app.py\", line 2447, in wsgi_app\n",
      "    response = self.full_dispatch_request()\n",
      "  File \"/Users/srijeevsarkar/opt/anaconda3/lib/python3.8/site-packages/flask/app.py\", line 1952, in full_dispatch_request\n",
      "    rv = self.handle_user_exception(e)\n",
      "  File \"/Users/srijeevsarkar/opt/anaconda3/lib/python3.8/site-packages/flask/app.py\", line 1821, in handle_user_exception\n",
      "    reraise(exc_type, exc_value, tb)\n",
      "  File \"/Users/srijeevsarkar/opt/anaconda3/lib/python3.8/site-packages/flask/_compat.py\", line 39, in reraise\n",
      "    raise value\n",
      "  File \"/Users/srijeevsarkar/opt/anaconda3/lib/python3.8/site-packages/flask/app.py\", line 1950, in full_dispatch_request\n",
      "    rv = self.dispatch_request()\n",
      "  File \"/Users/srijeevsarkar/opt/anaconda3/lib/python3.8/site-packages/flask/app.py\", line 1936, in dispatch_request\n",
      "    return self.view_functions[rule.endpoint](**req.view_args)\n",
      "  File \"/Users/srijeevsarkar/opt/anaconda3/lib/python3.8/site-packages/dash/dash.py\", line 1078, in dispatch\n",
      "    response.set_data(func(*args, outputs_list=outputs_list))\n",
      "  File \"/Users/srijeevsarkar/opt/anaconda3/lib/python3.8/site-packages/dash/dash.py\", line 1009, in add_context\n",
      "    output_value = func(*args, **kwargs)  # %% callback invoked %%\n",
      "  File \"<ipython-input-5-1174b3524c63>\", line 121, in group_graph\n",
      "    d = sando[sando[\"Items\"]==choice4]\n",
      "  File \"/Users/srijeevsarkar/opt/anaconda3/lib/python3.8/site-packages/pandas/core/ops/common.py\", line 65, in new_method\n",
      "    return method(self, other)\n",
      "  File \"/Users/srijeevsarkar/opt/anaconda3/lib/python3.8/site-packages/pandas/core/ops/__init__.py\", line 370, in wrapper\n",
      "    res_values = comparison_op(lvalues, rvalues, op)\n",
      "  File \"/Users/srijeevsarkar/opt/anaconda3/lib/python3.8/site-packages/pandas/core/ops/array_ops.py\", line 224, in comparison_op\n",
      "    raise ValueError(\n",
      "ValueError: ('Lengths must match to compare', (77,), (1,))\n"
     ]
    },
    {
     "name": "stderr",
     "output_type": "stream",
     "text": [
      "127.0.0.1 - - [07/Apr/2021 17:42:42] \"\u001b[35m\u001b[1mPOST /_dash-update-component HTTP/1.1\u001b[0m\" 500 -\n"
     ]
    },
    {
     "name": "stdout",
     "output_type": "stream",
     "text": [
      "Exception on /_dash-update-component [POST]\n",
      "Traceback (most recent call last):\n",
      "  File \"/Users/srijeevsarkar/opt/anaconda3/lib/python3.8/site-packages/flask/app.py\", line 2447, in wsgi_app\n",
      "    response = self.full_dispatch_request()\n",
      "  File \"/Users/srijeevsarkar/opt/anaconda3/lib/python3.8/site-packages/flask/app.py\", line 1952, in full_dispatch_request\n",
      "    rv = self.handle_user_exception(e)\n",
      "  File \"/Users/srijeevsarkar/opt/anaconda3/lib/python3.8/site-packages/flask/app.py\", line 1821, in handle_user_exception\n",
      "    reraise(exc_type, exc_value, tb)\n",
      "  File \"/Users/srijeevsarkar/opt/anaconda3/lib/python3.8/site-packages/flask/_compat.py\", line 39, in reraise\n",
      "    raise value\n",
      "  File \"/Users/srijeevsarkar/opt/anaconda3/lib/python3.8/site-packages/flask/app.py\", line 1950, in full_dispatch_request\n",
      "    rv = self.dispatch_request()\n",
      "  File \"/Users/srijeevsarkar/opt/anaconda3/lib/python3.8/site-packages/flask/app.py\", line 1936, in dispatch_request\n",
      "    return self.view_functions[rule.endpoint](**req.view_args)\n",
      "  File \"/Users/srijeevsarkar/opt/anaconda3/lib/python3.8/site-packages/dash/dash.py\", line 1078, in dispatch\n",
      "    response.set_data(func(*args, outputs_list=outputs_list))\n",
      "  File \"/Users/srijeevsarkar/opt/anaconda3/lib/python3.8/site-packages/dash/dash.py\", line 1009, in add_context\n",
      "    output_value = func(*args, **kwargs)  # %% callback invoked %%\n",
      "  File \"<ipython-input-5-1174b3524c63>\", line 128, in group_graph\n",
      "    e = sando[sando[\"Items\"]==choice5]\n",
      "  File \"/Users/srijeevsarkar/opt/anaconda3/lib/python3.8/site-packages/pandas/core/ops/common.py\", line 65, in new_method\n",
      "    return method(self, other)\n",
      "  File \"/Users/srijeevsarkar/opt/anaconda3/lib/python3.8/site-packages/pandas/core/ops/__init__.py\", line 370, in wrapper\n",
      "    res_values = comparison_op(lvalues, rvalues, op)\n",
      "  File \"/Users/srijeevsarkar/opt/anaconda3/lib/python3.8/site-packages/pandas/core/ops/array_ops.py\", line 224, in comparison_op\n",
      "    raise ValueError(\n",
      "ValueError: ('Lengths must match to compare', (77,), (1,))\n"
     ]
    },
    {
     "name": "stderr",
     "output_type": "stream",
     "text": [
      "127.0.0.1 - - [07/Apr/2021 17:42:45] \"\u001b[35m\u001b[1mPOST /_dash-update-component HTTP/1.1\u001b[0m\" 500 -\n",
      "127.0.0.1 - - [07/Apr/2021 17:42:47] \"\u001b[37mPOST /_dash-update-component HTTP/1.1\u001b[0m\" 200 -\n"
     ]
    },
    {
     "name": "stdout",
     "output_type": "stream",
     "text": [
      "Exception on /_dash-update-component [POST]\n",
      "Traceback (most recent call last):\n",
      "  File \"/Users/srijeevsarkar/opt/anaconda3/lib/python3.8/site-packages/flask/app.py\", line 2447, in wsgi_app\n",
      "    response = self.full_dispatch_request()\n",
      "  File \"/Users/srijeevsarkar/opt/anaconda3/lib/python3.8/site-packages/flask/app.py\", line 1952, in full_dispatch_request\n",
      "    rv = self.handle_user_exception(e)\n",
      "  File \"/Users/srijeevsarkar/opt/anaconda3/lib/python3.8/site-packages/flask/app.py\", line 1821, in handle_user_exception\n",
      "    reraise(exc_type, exc_value, tb)\n",
      "  File \"/Users/srijeevsarkar/opt/anaconda3/lib/python3.8/site-packages/flask/_compat.py\", line 39, in reraise\n",
      "    raise value\n",
      "  File \"/Users/srijeevsarkar/opt/anaconda3/lib/python3.8/site-packages/flask/app.py\", line 1950, in full_dispatch_request\n",
      "    rv = self.dispatch_request()\n",
      "  File \"/Users/srijeevsarkar/opt/anaconda3/lib/python3.8/site-packages/flask/app.py\", line 1936, in dispatch_request\n",
      "    return self.view_functions[rule.endpoint](**req.view_args)\n",
      "  File \"/Users/srijeevsarkar/opt/anaconda3/lib/python3.8/site-packages/dash/dash.py\", line 1078, in dispatch\n",
      "    response.set_data(func(*args, outputs_list=outputs_list))\n",
      "  File \"/Users/srijeevsarkar/opt/anaconda3/lib/python3.8/site-packages/dash/dash.py\", line 1009, in add_context\n",
      "    output_value = func(*args, **kwargs)  # %% callback invoked %%\n",
      "  File \"<ipython-input-5-1174b3524c63>\", line 168, in group_graph\n",
      "    b = drink[drink[\"Items\"]==choice2]\n",
      "  File \"/Users/srijeevsarkar/opt/anaconda3/lib/python3.8/site-packages/pandas/core/ops/common.py\", line 65, in new_method\n",
      "    return method(self, other)\n",
      "  File \"/Users/srijeevsarkar/opt/anaconda3/lib/python3.8/site-packages/pandas/core/ops/__init__.py\", line 370, in wrapper\n",
      "    res_values = comparison_op(lvalues, rvalues, op)\n",
      "  File \"/Users/srijeevsarkar/opt/anaconda3/lib/python3.8/site-packages/pandas/core/ops/array_ops.py\", line 224, in comparison_op\n",
      "    raise ValueError(\n",
      "ValueError: ('Lengths must match to compare', (150,), (1,))\n"
     ]
    },
    {
     "name": "stderr",
     "output_type": "stream",
     "text": [
      "127.0.0.1 - - [07/Apr/2021 17:42:50] \"\u001b[35m\u001b[1mPOST /_dash-update-component HTTP/1.1\u001b[0m\" 500 -\n"
     ]
    },
    {
     "name": "stdout",
     "output_type": "stream",
     "text": [
      "Exception on /_dash-update-component [POST]\n",
      "Traceback (most recent call last):\n",
      "  File \"/Users/srijeevsarkar/opt/anaconda3/lib/python3.8/site-packages/flask/app.py\", line 2447, in wsgi_app\n",
      "    response = self.full_dispatch_request()\n",
      "  File \"/Users/srijeevsarkar/opt/anaconda3/lib/python3.8/site-packages/flask/app.py\", line 1952, in full_dispatch_request\n",
      "    rv = self.handle_user_exception(e)\n",
      "  File \"/Users/srijeevsarkar/opt/anaconda3/lib/python3.8/site-packages/flask/app.py\", line 1821, in handle_user_exception\n",
      "    reraise(exc_type, exc_value, tb)\n",
      "  File \"/Users/srijeevsarkar/opt/anaconda3/lib/python3.8/site-packages/flask/_compat.py\", line 39, in reraise\n",
      "    raise value\n",
      "  File \"/Users/srijeevsarkar/opt/anaconda3/lib/python3.8/site-packages/flask/app.py\", line 1950, in full_dispatch_request\n",
      "    rv = self.dispatch_request()\n",
      "  File \"/Users/srijeevsarkar/opt/anaconda3/lib/python3.8/site-packages/flask/app.py\", line 1936, in dispatch_request\n",
      "    return self.view_functions[rule.endpoint](**req.view_args)\n",
      "  File \"/Users/srijeevsarkar/opt/anaconda3/lib/python3.8/site-packages/dash/dash.py\", line 1078, in dispatch\n",
      "    response.set_data(func(*args, outputs_list=outputs_list))\n",
      "  File \"/Users/srijeevsarkar/opt/anaconda3/lib/python3.8/site-packages/dash/dash.py\", line 1009, in add_context\n",
      "    output_value = func(*args, **kwargs)  # %% callback invoked %%\n",
      "  File \"<ipython-input-5-1174b3524c63>\", line 175, in group_graph\n",
      "    c = drink[drink[\"Items\"]==choice3]\n",
      "  File \"/Users/srijeevsarkar/opt/anaconda3/lib/python3.8/site-packages/pandas/core/ops/common.py\", line 65, in new_method\n",
      "    return method(self, other)\n",
      "  File \"/Users/srijeevsarkar/opt/anaconda3/lib/python3.8/site-packages/pandas/core/ops/__init__.py\", line 370, in wrapper\n",
      "    res_values = comparison_op(lvalues, rvalues, op)\n",
      "  File \"/Users/srijeevsarkar/opt/anaconda3/lib/python3.8/site-packages/pandas/core/ops/array_ops.py\", line 224, in comparison_op\n",
      "    raise ValueError(\n",
      "ValueError: ('Lengths must match to compare', (150,), (1,))\n"
     ]
    },
    {
     "name": "stderr",
     "output_type": "stream",
     "text": [
      "127.0.0.1 - - [07/Apr/2021 17:42:52] \"\u001b[35m\u001b[1mPOST /_dash-update-component HTTP/1.1\u001b[0m\" 500 -\n"
     ]
    },
    {
     "name": "stdout",
     "output_type": "stream",
     "text": [
      "Exception on /_dash-update-component [POST]\n",
      "Traceback (most recent call last):\n",
      "  File \"/Users/srijeevsarkar/opt/anaconda3/lib/python3.8/site-packages/flask/app.py\", line 2447, in wsgi_app\n",
      "    response = self.full_dispatch_request()\n",
      "  File \"/Users/srijeevsarkar/opt/anaconda3/lib/python3.8/site-packages/flask/app.py\", line 1952, in full_dispatch_request\n",
      "    rv = self.handle_user_exception(e)\n",
      "  File \"/Users/srijeevsarkar/opt/anaconda3/lib/python3.8/site-packages/flask/app.py\", line 1821, in handle_user_exception\n",
      "    reraise(exc_type, exc_value, tb)\n",
      "  File \"/Users/srijeevsarkar/opt/anaconda3/lib/python3.8/site-packages/flask/_compat.py\", line 39, in reraise\n",
      "    raise value\n",
      "  File \"/Users/srijeevsarkar/opt/anaconda3/lib/python3.8/site-packages/flask/app.py\", line 1950, in full_dispatch_request\n",
      "    rv = self.dispatch_request()\n",
      "  File \"/Users/srijeevsarkar/opt/anaconda3/lib/python3.8/site-packages/flask/app.py\", line 1936, in dispatch_request\n",
      "    return self.view_functions[rule.endpoint](**req.view_args)\n",
      "  File \"/Users/srijeevsarkar/opt/anaconda3/lib/python3.8/site-packages/dash/dash.py\", line 1078, in dispatch\n",
      "    response.set_data(func(*args, outputs_list=outputs_list))\n",
      "  File \"/Users/srijeevsarkar/opt/anaconda3/lib/python3.8/site-packages/dash/dash.py\", line 1009, in add_context\n",
      "    output_value = func(*args, **kwargs)  # %% callback invoked %%\n",
      "  File \"<ipython-input-5-1174b3524c63>\", line 182, in group_graph\n",
      "    d = drink[drink[\"Items\"]==choice4]\n",
      "  File \"/Users/srijeevsarkar/opt/anaconda3/lib/python3.8/site-packages/pandas/core/ops/common.py\", line 65, in new_method\n",
      "    return method(self, other)\n",
      "  File \"/Users/srijeevsarkar/opt/anaconda3/lib/python3.8/site-packages/pandas/core/ops/__init__.py\", line 370, in wrapper\n",
      "    res_values = comparison_op(lvalues, rvalues, op)\n",
      "  File \"/Users/srijeevsarkar/opt/anaconda3/lib/python3.8/site-packages/pandas/core/ops/array_ops.py\", line 224, in comparison_op\n",
      "    raise ValueError(\n",
      "ValueError: ('Lengths must match to compare', (150,), (1,))\n"
     ]
    },
    {
     "name": "stderr",
     "output_type": "stream",
     "text": [
      "127.0.0.1 - - [07/Apr/2021 17:42:54] \"\u001b[35m\u001b[1mPOST /_dash-update-component HTTP/1.1\u001b[0m\" 500 -\n"
     ]
    },
    {
     "name": "stdout",
     "output_type": "stream",
     "text": [
      "Exception on /_dash-update-component [POST]\n",
      "Traceback (most recent call last):\n",
      "  File \"/Users/srijeevsarkar/opt/anaconda3/lib/python3.8/site-packages/flask/app.py\", line 2447, in wsgi_app\n",
      "    response = self.full_dispatch_request()\n",
      "  File \"/Users/srijeevsarkar/opt/anaconda3/lib/python3.8/site-packages/flask/app.py\", line 1952, in full_dispatch_request\n",
      "    rv = self.handle_user_exception(e)\n",
      "  File \"/Users/srijeevsarkar/opt/anaconda3/lib/python3.8/site-packages/flask/app.py\", line 1821, in handle_user_exception\n",
      "    reraise(exc_type, exc_value, tb)\n",
      "  File \"/Users/srijeevsarkar/opt/anaconda3/lib/python3.8/site-packages/flask/_compat.py\", line 39, in reraise\n",
      "    raise value\n",
      "  File \"/Users/srijeevsarkar/opt/anaconda3/lib/python3.8/site-packages/flask/app.py\", line 1950, in full_dispatch_request\n",
      "    rv = self.dispatch_request()\n",
      "  File \"/Users/srijeevsarkar/opt/anaconda3/lib/python3.8/site-packages/flask/app.py\", line 1936, in dispatch_request\n",
      "    return self.view_functions[rule.endpoint](**req.view_args)\n",
      "  File \"/Users/srijeevsarkar/opt/anaconda3/lib/python3.8/site-packages/dash/dash.py\", line 1078, in dispatch\n",
      "    response.set_data(func(*args, outputs_list=outputs_list))\n",
      "  File \"/Users/srijeevsarkar/opt/anaconda3/lib/python3.8/site-packages/dash/dash.py\", line 1009, in add_context\n",
      "    output_value = func(*args, **kwargs)  # %% callback invoked %%\n",
      "  File \"<ipython-input-5-1174b3524c63>\", line 189, in group_graph\n",
      "    e = drink[drink[\"Items\"]==choice5]\n",
      "  File \"/Users/srijeevsarkar/opt/anaconda3/lib/python3.8/site-packages/pandas/core/ops/common.py\", line 65, in new_method\n",
      "    return method(self, other)\n",
      "  File \"/Users/srijeevsarkar/opt/anaconda3/lib/python3.8/site-packages/pandas/core/ops/__init__.py\", line 370, in wrapper\n",
      "    res_values = comparison_op(lvalues, rvalues, op)\n",
      "  File \"/Users/srijeevsarkar/opt/anaconda3/lib/python3.8/site-packages/pandas/core/ops/array_ops.py\", line 224, in comparison_op\n",
      "    raise ValueError(\n",
      "ValueError: ('Lengths must match to compare', (150,), (1,))\n"
     ]
    },
    {
     "name": "stderr",
     "output_type": "stream",
     "text": [
      "127.0.0.1 - - [07/Apr/2021 17:42:56] \"\u001b[35m\u001b[1mPOST /_dash-update-component HTTP/1.1\u001b[0m\" 500 -\n",
      "127.0.0.1 - - [07/Apr/2021 17:42:58] \"\u001b[37mPOST /_dash-update-component HTTP/1.1\u001b[0m\" 200 -\n"
     ]
    },
    {
     "name": "stdout",
     "output_type": "stream",
     "text": [
      "hover data: {'points': [{'curveNumber': 1, 'pointNumber': 35, 'pointIndex': 35, 'x': 'McD - French Vanilla Latte', 'y': 1.79, 'label': 'McD - French Vanilla Latte', 'value': 1.79}]}\n",
      "hover data: {'points': [{'curveNumber': 1, 'pointNumber': 34, 'pointIndex': 34, 'x': 'McD - French Vanilla Iced Coffee', 'y': 1.79, 'label': 'McD - French Vanilla Iced Coffee', 'value': 1.79}]}\n"
     ]
    },
    {
     "name": "stderr",
     "output_type": "stream",
     "text": [
      "127.0.0.1 - - [07/Apr/2021 17:43:27] \"\u001b[37mPOST /_dash-update-component HTTP/1.1\u001b[0m\" 200 -\n",
      "127.0.0.1 - - [07/Apr/2021 17:43:27] \"\u001b[37mPOST /_dash-update-component HTTP/1.1\u001b[0m\" 200 -\n"
     ]
    },
    {
     "name": "stdout",
     "output_type": "stream",
     "text": [
      "hover data: {'points': [{'curveNumber': 1, 'pointNumber': 33, 'pointIndex': 33, 'x': 'McD - Frappé Mocha', 'y': 1.79, 'label': 'McD - Frappé Mocha', 'value': 1.79}]}\n",
      "hover data: {'points': [{'curveNumber': 1, 'pointNumber': 32, 'pointIndex': 32, 'x': 'McD - Frappé Caramel', 'y': 1.79, 'label': 'McD - Frappé Caramel', 'value': 1.79}]}\n",
      "hover data: {'points': [{'curveNumber': 1, 'pointNumber': 19, 'pointIndex': 19, 'x': 'McD - Chicken McNuggets (40 piece)', 'y': 8.99, 'label': 'McD - Chicken McNuggets (40 piece)', 'value': 8.99}]}\n",
      "hover data: {'points': [{'curveNumber': 1, 'pointNumber': 18, 'pointIndex': 18, 'x': 'McD - Chicken McNuggets (20 piece)', 'y': 5, 'label': 'McD - Chicken McNuggets (20 piece)', 'value': 5}]}\n"
     ]
    },
    {
     "name": "stderr",
     "output_type": "stream",
     "text": [
      "127.0.0.1 - - [07/Apr/2021 17:43:27] \"\u001b[37mPOST /_dash-update-component HTTP/1.1\u001b[0m\" 200 -\n",
      "127.0.0.1 - - [07/Apr/2021 17:43:27] \"\u001b[37mPOST /_dash-update-component HTTP/1.1\u001b[0m\" 200 -\n",
      "127.0.0.1 - - [07/Apr/2021 17:43:27] \"\u001b[37mPOST /_dash-update-component HTTP/1.1\u001b[0m\" 200 -\n",
      "127.0.0.1 - - [07/Apr/2021 17:43:27] \"\u001b[37mPOST /_dash-update-component HTTP/1.1\u001b[0m\" 200 -\n",
      "127.0.0.1 - - [07/Apr/2021 17:43:28] \"\u001b[37mPOST /_dash-update-component HTTP/1.1\u001b[0m\" 200 -\n"
     ]
    },
    {
     "name": "stdout",
     "output_type": "stream",
     "text": [
      "hover data: {'points': [{'curveNumber': 1, 'pointNumber': 19, 'pointIndex': 19, 'x': 'McD - Chicken McNuggets (40 piece)', 'y': 8.99, 'label': 'McD - Chicken McNuggets (40 piece)', 'value': 8.99}]}\n"
     ]
    },
    {
     "name": "stderr",
     "output_type": "stream",
     "text": [
      "127.0.0.1 - - [07/Apr/2021 17:43:39] \"\u001b[37mPOST /_dash-update-component HTTP/1.1\u001b[0m\" 200 -\n"
     ]
    },
    {
     "name": "stdout",
     "output_type": "stream",
     "text": [
      "hover data: {'points': [{'curveNumber': 1, 'pointNumber': 7, 'pointIndex': 7, 'x': 'McD - Bacon, Egg & Cheese McGriddles', 'y': 2.79, 'label': 'McD - Bacon, Egg & Cheese McGriddles', 'value': 2.79}]}\n"
     ]
    },
    {
     "name": "stderr",
     "output_type": "stream",
     "text": [
      "127.0.0.1 - - [07/Apr/2021 17:43:40] \"\u001b[37mPOST /_dash-update-component HTTP/1.1\u001b[0m\" 200 -\n"
     ]
    },
    {
     "name": "stdout",
     "output_type": "stream",
     "text": [
      "hover data: {'points': [{'curveNumber': 1, 'pointNumber': 2, 'pointIndex': 2, 'x': 'McD - Bacon Clubhouse Burger', 'y': 4.49, 'label': 'McD - Bacon Clubhouse Burger', 'value': 4.49}]}\n"
     ]
    },
    {
     "name": "stderr",
     "output_type": "stream",
     "text": [
      "127.0.0.1 - - [07/Apr/2021 17:43:41] \"\u001b[37mPOST /_dash-update-component HTTP/1.1\u001b[0m\" 200 -\n"
     ]
    },
    {
     "name": "stdout",
     "output_type": "stream",
     "text": [
      "hover data: {'points': [{'curveNumber': 0, 'pointNumber': 43, 'pointIndex': 43, 'x': 'BK - Crispy Chicken Jr.', 'y': 1.19, 'label': 'BK - Crispy Chicken Jr.', 'value': 1.19}]}\n"
     ]
    },
    {
     "name": "stderr",
     "output_type": "stream",
     "text": [
      "127.0.0.1 - - [07/Apr/2021 17:43:41] \"\u001b[37mPOST /_dash-update-component HTTP/1.1\u001b[0m\" 200 -\n",
      "127.0.0.1 - - [07/Apr/2021 17:43:41] \"\u001b[37mPOST /_dash-update-component HTTP/1.1\u001b[0m\" 200 -\n"
     ]
    },
    {
     "name": "stdout",
     "output_type": "stream",
     "text": [
      "hover data: {'points': [{'curveNumber': 0, 'pointNumber': 31, 'pointIndex': 31, 'x': 'BK - Sweet Tea', 'y': 2.09, 'label': 'BK - Sweet Tea', 'value': 2.09}]}\n",
      "hover data: {'points': [{'curveNumber': 0, 'pointNumber': 30, 'pointIndex': 30, 'x': 'BK - Sprite®', 'y': 2.09, 'label': 'BK - Sprite®', 'value': 2.09}]}\n"
     ]
    },
    {
     "name": "stderr",
     "output_type": "stream",
     "text": [
      "127.0.0.1 - - [07/Apr/2021 17:43:48] \"\u001b[37mPOST /_dash-update-component HTTP/1.1\u001b[0m\" 200 -\n",
      "127.0.0.1 - - [07/Apr/2021 17:43:48] \"\u001b[37mPOST /_dash-update-component HTTP/1.1\u001b[0m\" 200 -\n"
     ]
    },
    {
     "name": "stdout",
     "output_type": "stream",
     "text": [
      "hover data: {'points': [{'curveNumber': 0, 'pointNumber': 30, 'pointIndex': 30, 'x': 'BK - Sprite®', 'y': 2.09, 'label': 'BK - Sprite®', 'value': 2.09}]}\n"
     ]
    },
    {
     "name": "stderr",
     "output_type": "stream",
     "text": [
      "127.0.0.1 - - [07/Apr/2021 17:43:49] \"\u001b[37mPOST /_dash-update-component HTTP/1.1\u001b[0m\" 200 -\n",
      "127.0.0.1 - - [07/Apr/2021 17:43:49] \"\u001b[37mPOST /_dash-update-component HTTP/1.1\u001b[0m\" 200 -\n"
     ]
    },
    {
     "name": "stdout",
     "output_type": "stream",
     "text": [
      "hover data: {'points': [{'curveNumber': 0, 'pointNumber': 30, 'pointIndex': 30, 'x': 'BK - Sprite®', 'y': 2.09, 'label': 'BK - Sprite®', 'value': 2.09}]}\n",
      "hover data: {'points': [{'curveNumber': 0, 'pointNumber': 30, 'pointIndex': 30, 'x': 'BK - Sprite®', 'y': 2.09, 'label': 'BK - Sprite®', 'value': 2.09}]}\n",
      "Exception on /_dash-update-component [POST]\n",
      "Traceback (most recent call last):\n",
      "  File \"/Users/srijeevsarkar/opt/anaconda3/lib/python3.8/site-packages/flask/app.py\", line 2447, in wsgi_app\n",
      "    response = self.full_dispatch_request()\n",
      "  File \"/Users/srijeevsarkar/opt/anaconda3/lib/python3.8/site-packages/flask/app.py\", line 1952, in full_dispatch_request\n",
      "    rv = self.handle_user_exception(e)\n",
      "  File \"/Users/srijeevsarkar/opt/anaconda3/lib/python3.8/site-packages/flask/app.py\", line 1821, in handle_user_exception\n",
      "    reraise(exc_type, exc_value, tb)\n",
      "  File \"/Users/srijeevsarkar/opt/anaconda3/lib/python3.8/site-packages/flask/_compat.py\", line 39, in reraise\n",
      "    raise value\n",
      "  File \"/Users/srijeevsarkar/opt/anaconda3/lib/python3.8/site-packages/flask/app.py\", line 1950, in full_dispatch_request\n",
      "    rv = self.dispatch_request()\n",
      "  File \"/Users/srijeevsarkar/opt/anaconda3/lib/python3.8/site-packages/flask/app.py\", line 1936, in dispatch_request\n",
      "    return self.view_functions[rule.endpoint](**req.view_args)\n",
      "  File \"/Users/srijeevsarkar/opt/anaconda3/lib/python3.8/site-packages/dash/dash.py\", line 1078, in dispatch\n",
      "    response.set_data(func(*args, outputs_list=outputs_list))\n",
      "  File \"/Users/srijeevsarkar/opt/anaconda3/lib/python3.8/site-packages/dash/dash.py\", line 1009, in add_context\n",
      "    output_value = func(*args, **kwargs)  # %% callback invoked %%\n",
      "  File \"<ipython-input-5-1174b3524c63>\", line 7, in update_graph\n",
      "    fig = px.bar(data_frame=dff, x='Items', y='Cost (USD)', color='Restaurant')\n",
      "  File \"/Users/srijeevsarkar/opt/anaconda3/lib/python3.8/site-packages/plotly/express/_chart_types.py\", line 350, in bar\n",
      "    return make_figure(\n",
      "  File \"/Users/srijeevsarkar/opt/anaconda3/lib/python3.8/site-packages/plotly/express/_core.py\", line 1889, in make_figure\n",
      "    for val in sorted_group_values[m.grouper]:\n",
      "KeyError: 'Restaurant'\n",
      "Exception on /_dash-update-component [POST]\n",
      "Traceback (most recent call last):\n",
      "  File \"/Users/srijeevsarkar/opt/anaconda3/lib/python3.8/site-packages/flask/app.py\", line 2447, in wsgi_app\n",
      "    response = self.full_dispatch_request()\n",
      "  File \"/Users/srijeevsarkar/opt/anaconda3/lib/python3.8/site-packages/flask/app.py\", line 1952, in full_dispatch_request\n",
      "    rv = self.handle_user_exception(e)\n",
      "  File \"/Users/srijeevsarkar/opt/anaconda3/lib/python3.8/site-packages/flask/app.py\", line 1821, in handle_user_exception\n",
      "    reraise(exc_type, exc_value, tb)\n",
      "  File \"/Users/srijeevsarkar/opt/anaconda3/lib/python3.8/site-packages/flask/_compat.py\", line 39, in reraise\n",
      "    raise value\n",
      "  File \"/Users/srijeevsarkar/opt/anaconda3/lib/python3.8/site-packages/flask/app.py\", line 1950, in full_dispatch_request\n",
      "    rv = self.dispatch_request()\n",
      "  File \"/Users/srijeevsarkar/opt/anaconda3/lib/python3.8/site-packages/flask/app.py\", line 1936, in dispatch_request\n",
      "    return self.view_functions[rule.endpoint](**req.view_args)\n",
      "  File \"/Users/srijeevsarkar/opt/anaconda3/lib/python3.8/site-packages/dash/dash.py\", line 1078, in dispatch\n",
      "    response.set_data(func(*args, outputs_list=outputs_list))\n",
      "  File \"/Users/srijeevsarkar/opt/anaconda3/lib/python3.8/site-packages/dash/dash.py\", line 1009, in add_context\n",
      "    output_value = func(*args, **kwargs)  # %% callback invoked %%\n",
      "  File \"<ipython-input-5-1174b3524c63>\", line 43, in update_side_graph\n",
      "    test3= test2[0]\n",
      "IndexError: list index out of range\n"
     ]
    },
    {
     "name": "stderr",
     "output_type": "stream",
     "text": [
      "127.0.0.1 - - [07/Apr/2021 17:43:54] \"\u001b[35m\u001b[1mPOST /_dash-update-component HTTP/1.1\u001b[0m\" 500 -\n",
      "127.0.0.1 - - [07/Apr/2021 17:43:54] \"\u001b[35m\u001b[1mPOST /_dash-update-component HTTP/1.1\u001b[0m\" 500 -\n"
     ]
    },
    {
     "name": "stdout",
     "output_type": "stream",
     "text": [
      "hover data: {'points': [{'curveNumber': 0, 'pointNumber': 30, 'pointIndex': 30, 'x': 'BK - Sprite®', 'y': 2.09, 'label': 'BK - Sprite®', 'value': 2.09}]}\n",
      "Exception on /_dash-update-component [POST]\n",
      "Traceback (most recent call last):\n",
      "  File \"/Users/srijeevsarkar/opt/anaconda3/lib/python3.8/site-packages/flask/app.py\", line 2447, in wsgi_app\n",
      "    response = self.full_dispatch_request()\n",
      "  File \"/Users/srijeevsarkar/opt/anaconda3/lib/python3.8/site-packages/flask/app.py\", line 1952, in full_dispatch_request\n",
      "    rv = self.handle_user_exception(e)\n",
      "  File \"/Users/srijeevsarkar/opt/anaconda3/lib/python3.8/site-packages/flask/app.py\", line 1821, in handle_user_exception\n",
      "    reraise(exc_type, exc_value, tb)\n",
      "  File \"/Users/srijeevsarkar/opt/anaconda3/lib/python3.8/site-packages/flask/_compat.py\", line 39, in reraise\n",
      "    raise value\n",
      "  File \"/Users/srijeevsarkar/opt/anaconda3/lib/python3.8/site-packages/flask/app.py\", line 1950, in full_dispatch_request\n",
      "    rv = self.dispatch_request()\n",
      "  File \"/Users/srijeevsarkar/opt/anaconda3/lib/python3.8/site-packages/flask/app.py\", line 1936, in dispatch_request\n",
      "    return self.view_functions[rule.endpoint](**req.view_args)\n",
      "  File \"/Users/srijeevsarkar/opt/anaconda3/lib/python3.8/site-packages/dash/dash.py\", line 1078, in dispatch\n",
      "    response.set_data(func(*args, outputs_list=outputs_list))\n",
      "  File \"/Users/srijeevsarkar/opt/anaconda3/lib/python3.8/site-packages/dash/dash.py\", line 1009, in add_context\n",
      "    output_value = func(*args, **kwargs)  # %% callback invoked %%\n",
      "  File \"<ipython-input-5-1174b3524c63>\", line 43, in update_side_graph\n",
      "    test3= test2[0]\n",
      "IndexError: list index out of range\n"
     ]
    },
    {
     "name": "stderr",
     "output_type": "stream",
     "text": [
      "127.0.0.1 - - [07/Apr/2021 17:43:59] \"\u001b[35m\u001b[1mPOST /_dash-update-component HTTP/1.1\u001b[0m\" 500 -\n",
      "127.0.0.1 - - [07/Apr/2021 17:43:59] \"\u001b[37mPOST /_dash-update-component HTTP/1.1\u001b[0m\" 200 -\n",
      "127.0.0.1 - - [07/Apr/2021 17:44:05] \"\u001b[37mPOST /_dash-update-component HTTP/1.1\u001b[0m\" 200 -\n",
      "127.0.0.1 - - [07/Apr/2021 17:44:05] \"\u001b[37mPOST /_dash-update-component HTTP/1.1\u001b[0m\" 200 -\n"
     ]
    },
    {
     "name": "stdout",
     "output_type": "stream",
     "text": [
      "hover data: {'points': [{'curveNumber': 0, 'pointNumber': 30, 'pointIndex': 30, 'x': 'BK - Sprite®', 'y': 2.09, 'label': 'BK - Sprite®', 'value': 2.09}]}\n"
     ]
    },
    {
     "name": "stderr",
     "output_type": "stream",
     "text": [
      "127.0.0.1 - - [07/Apr/2021 17:44:06] \"\u001b[37mPOST /_dash-update-component HTTP/1.1\u001b[0m\" 200 -\n",
      "127.0.0.1 - - [07/Apr/2021 17:44:06] \"\u001b[37mPOST /_dash-update-component HTTP/1.1\u001b[0m\" 200 -\n"
     ]
    },
    {
     "name": "stdout",
     "output_type": "stream",
     "text": [
      "hover data: {'points': [{'curveNumber': 0, 'pointNumber': 30, 'pointIndex': 30, 'x': 'BK - Sprite®', 'y': 2.09, 'label': 'BK - Sprite®', 'value': 2.09}]}\n"
     ]
    },
    {
     "name": "stderr",
     "output_type": "stream",
     "text": [
      "127.0.0.1 - - [07/Apr/2021 17:44:07] \"\u001b[37mPOST /_dash-update-component HTTP/1.1\u001b[0m\" 200 -\n",
      "127.0.0.1 - - [07/Apr/2021 17:44:08] \"\u001b[37mPOST /_dash-update-component HTTP/1.1\u001b[0m\" 200 -\n"
     ]
    },
    {
     "name": "stdout",
     "output_type": "stream",
     "text": [
      "hover data: {'points': [{'curveNumber': 0, 'pointNumber': 30, 'pointIndex': 30, 'x': 'BK - Sprite®', 'y': 2.09, 'label': 'BK - Sprite®', 'value': 2.09}]}\n"
     ]
    },
    {
     "name": "stderr",
     "output_type": "stream",
     "text": [
      "127.0.0.1 - - [07/Apr/2021 17:44:10] \"\u001b[37mPOST /_dash-update-component HTTP/1.1\u001b[0m\" 200 -\n",
      "127.0.0.1 - - [07/Apr/2021 17:44:10] \"\u001b[37mPOST /_dash-update-component HTTP/1.1\u001b[0m\" 200 -\n"
     ]
    },
    {
     "name": "stdout",
     "output_type": "stream",
     "text": [
      "hover data: {'points': [{'curveNumber': 0, 'pointNumber': 30, 'pointIndex': 30, 'x': 'BK - Sprite®', 'y': 2.09, 'label': 'BK - Sprite®', 'value': 2.09}]}\n"
     ]
    },
    {
     "name": "stderr",
     "output_type": "stream",
     "text": [
      "127.0.0.1 - - [07/Apr/2021 17:44:11] \"\u001b[37mPOST /_dash-update-component HTTP/1.1\u001b[0m\" 200 -\n"
     ]
    },
    {
     "name": "stdout",
     "output_type": "stream",
     "text": [
      "hover data: {'points': [{'curveNumber': 4, 'pointNumber': 40, 'pointIndex': 40, 'x': 'SW - Subway Club® Sandwich', 'y': 6.29, 'label': 'SW - Subway Club® Sandwich', 'value': 6.29}]}\n"
     ]
    },
    {
     "name": "stderr",
     "output_type": "stream",
     "text": [
      "127.0.0.1 - - [07/Apr/2021 17:44:12] \"\u001b[37mPOST /_dash-update-component HTTP/1.1\u001b[0m\" 200 -\n"
     ]
    },
    {
     "name": "stdout",
     "output_type": "stream",
     "text": [
      "hover data: {'points': [{'curveNumber': 2, 'pointNumber': 50, 'pointIndex': 50, 'x': 'McD - McFlurry with Oreo Cookies', 'y': 2.39, 'label': 'McD - McFlurry with Oreo Cookies', 'value': 2.39}]}\n",
      "hover data: {'points': [{'curveNumber': 2, 'pointNumber': 26, 'pointIndex': 26, 'x': 'McD - Double Quarter Pounder with Cheese', 'y': 4.79, 'label': 'McD - Double Quarter Pounder with Cheese', 'value': 4.79}]}\n"
     ]
    },
    {
     "name": "stderr",
     "output_type": "stream",
     "text": [
      "127.0.0.1 - - [07/Apr/2021 17:44:13] \"\u001b[37mPOST /_dash-update-component HTTP/1.1\u001b[0m\" 200 -\n",
      "127.0.0.1 - - [07/Apr/2021 17:44:13] \"\u001b[37mPOST /_dash-update-component HTTP/1.1\u001b[0m\" 200 -\n"
     ]
    },
    {
     "name": "stdout",
     "output_type": "stream",
     "text": [
      "hover data: {'points': [{'curveNumber': 2, 'pointNumber': 18, 'pointIndex': 18, 'x': 'McD - Chicken McNuggets (20 piece)', 'y': 5, 'label': 'McD - Chicken McNuggets (20 piece)', 'value': 5}]}\n"
     ]
    },
    {
     "name": "stderr",
     "output_type": "stream",
     "text": [
      "127.0.0.1 - - [07/Apr/2021 17:44:15] \"\u001b[37mPOST /_dash-update-component HTTP/1.1\u001b[0m\" 200 -\n"
     ]
    },
    {
     "name": "stdout",
     "output_type": "stream",
     "text": [
      "hover data: {'points': [{'curveNumber': 3, 'pointNumber': 21, 'pointIndex': 21, 'x': 'SB - Cinnamon Raisin Bagel', 'y': 3, 'label': 'SB - Cinnamon Raisin Bagel', 'value': 3}]}\n"
     ]
    },
    {
     "name": "stderr",
     "output_type": "stream",
     "text": [
      "127.0.0.1 - - [07/Apr/2021 17:44:16] \"\u001b[37mPOST /_dash-update-component HTTP/1.1\u001b[0m\" 200 -\n"
     ]
    },
    {
     "name": "stdout",
     "output_type": "stream",
     "text": [
      "hover data: {'points': [{'curveNumber': 2, 'pointNumber': 65, 'pointIndex': 65, 'x': 'McD - Southwest Salad (without Chicken)', 'y': 4.79, 'label': 'McD - Southwest Salad (without Chicken)', 'value': 4.79}]}\n",
      "hover data: {'points': [{'curveNumber': 3, 'pointNumber': 7, 'pointIndex': 7, 'x': 'SB - Hearty Blueberry Oatmeal', 'y': 3.99, 'label': 'SB - Hearty Blueberry Oatmeal', 'value': 3.99}]}\n",
      "hover data: {'points': [{'curveNumber': 3, 'pointNumber': 15, 'pointIndex': 15, 'x': 'SB - Blueberry Muffin', 'y': 3.19, 'label': 'SB - Blueberry Muffin', 'value': 3.19}]}\n",
      "hover data: {'points': [{'curveNumber': 3, 'pointNumber': 17, 'pointIndex': 17, 'x': 'SB - Blueberry Scone', 'y': 2.45, 'label': 'SB - Blueberry Scone', 'value': 2.45}]}\n",
      "hover data: {'points': [{'curveNumber': 3, 'pointNumber': 19, 'pointIndex': 19, 'x': 'SB - Chocolate Chip Cookie', 'y': 1.95, 'label': 'SB - Chocolate Chip Cookie', 'value': 1.95}]}\n",
      "hover data: {'points': [{'curveNumber': 3, 'pointNumber': 23, 'pointIndex': 23, 'x': 'SB - Confetti Sugar Cookie', 'y': 1.95, 'label': 'SB - Confetti Sugar Cookie', 'value': 1.95}]}\n",
      "hover data: {'points': [{'curveNumber': 3, 'pointNumber': 28, 'pointIndex': 28, 'x': \"SB - Justin's Chocolate Hazelnut Butter\", 'y': 2.75, 'label': \"SB - Justin's Chocolate Hazelnut Butter\", 'value': 2.75}]}\n"
     ]
    },
    {
     "name": "stderr",
     "output_type": "stream",
     "text": [
      "127.0.0.1 - - [07/Apr/2021 17:44:16] \"\u001b[37mPOST /_dash-update-component HTTP/1.1\u001b[0m\" 200 -\n",
      "127.0.0.1 - - [07/Apr/2021 17:44:16] \"\u001b[37mPOST /_dash-update-component HTTP/1.1\u001b[0m\" 200 -\n"
     ]
    },
    {
     "name": "stdout",
     "output_type": "stream",
     "text": [
      "hover data: {'points': [{'curveNumber': 3, 'pointNumber': 29, 'pointIndex': 29, 'x': \"SB - Justin's Classic Almond Butter\", 'y': 2.75, 'label': \"SB - Justin's Classic Almond Butter\", 'value': 2.75}]}\n",
      "hover data: {'points': [{'curveNumber': 3, 'pointNumber': 15, 'pointIndex': 15, 'x': 'SB - Blueberry Muffin', 'y': 3.19, 'label': 'SB - Blueberry Muffin', 'value': 3.19}]}\n"
     ]
    },
    {
     "name": "stderr",
     "output_type": "stream",
     "text": [
      "127.0.0.1 - - [07/Apr/2021 17:44:16] \"\u001b[37mPOST /_dash-update-component HTTP/1.1\u001b[0m\" 200 -\n",
      "127.0.0.1 - - [07/Apr/2021 17:44:16] \"\u001b[37mPOST /_dash-update-component HTTP/1.1\u001b[0m\" 200 -\n",
      "127.0.0.1 - - [07/Apr/2021 17:44:16] \"\u001b[37mPOST /_dash-update-component HTTP/1.1\u001b[0m\" 200 -\n",
      "127.0.0.1 - - [07/Apr/2021 17:44:16] \"\u001b[37mPOST /_dash-update-component HTTP/1.1\u001b[0m\" 200 -\n",
      "127.0.0.1 - - [07/Apr/2021 17:44:17] \"\u001b[37mPOST /_dash-update-component HTTP/1.1\u001b[0m\" 200 -\n",
      "127.0.0.1 - - [07/Apr/2021 17:44:17] \"\u001b[37mPOST /_dash-update-component HTTP/1.1\u001b[0m\" 200 -\n",
      "127.0.0.1 - - [07/Apr/2021 17:44:21] \"\u001b[37mPOST /_dash-update-component HTTP/1.1\u001b[0m\" 200 -\n"
     ]
    },
    {
     "name": "stdout",
     "output_type": "stream",
     "text": [
      "hover data: {'points': [{'curveNumber': 3, 'pointNumber': 54, 'pointIndex': 54, 'x': 'SB - Iced Coffee', 'y': 2.65, 'label': 'SB - Iced Coffee', 'value': 2.65}]}\n"
     ]
    },
    {
     "name": "stderr",
     "output_type": "stream",
     "text": [
      "127.0.0.1 - - [07/Apr/2021 17:44:21] \"\u001b[37mPOST /_dash-update-component HTTP/1.1\u001b[0m\" 200 -\n"
     ]
    },
    {
     "name": "stdout",
     "output_type": "stream",
     "text": [
      "hover data: {'points': [{'curveNumber': 3, 'pointNumber': 32, 'pointIndex': 32, 'x': 'SB - Old-Fashioned Glazed Doughnut', 'y': 1.95, 'label': 'SB - Old-Fashioned Glazed Doughnut', 'value': 1.95}]}\n"
     ]
    },
    {
     "name": "stderr",
     "output_type": "stream",
     "text": [
      "127.0.0.1 - - [07/Apr/2021 17:44:22] \"\u001b[37mPOST /_dash-update-component HTTP/1.1\u001b[0m\" 200 -\n"
     ]
    },
    {
     "name": "stdout",
     "output_type": "stream",
     "text": [
      "hover data: {'points': [{'curveNumber': 3, 'pointNumber': 27, 'pointIndex': 27, 'x': 'SB - Iced Lemon Loaf Cake', 'y': 2.45, 'label': 'SB - Iced Lemon Loaf Cake', 'value': 2.45}]}\n"
     ]
    },
    {
     "name": "stderr",
     "output_type": "stream",
     "text": [
      "127.0.0.1 - - [07/Apr/2021 17:44:31] \"\u001b[37mPOST /_dash-update-component HTTP/1.1\u001b[0m\" 200 -\n"
     ]
    },
    {
     "name": "stdout",
     "output_type": "stream",
     "text": [
      "hover data: {'points': [{'curveNumber': 2, 'pointNumber': 78, 'pointIndex': 78, 'x': 'McD - Steak & Egg McMuffin', 'y': 3.99, 'label': 'McD - Steak & Egg McMuffin', 'value': 3.99}]}\n"
     ]
    },
    {
     "name": "stderr",
     "output_type": "stream",
     "text": [
      "127.0.0.1 - - [07/Apr/2021 17:44:32] \"\u001b[37mPOST /_dash-update-component HTTP/1.1\u001b[0m\" 200 -\n"
     ]
    },
    {
     "name": "stdout",
     "output_type": "stream",
     "text": [
      "hover data: {'points': [{'curveNumber': 2, 'pointNumber': 77, 'pointIndex': 77, 'x': 'McD - Sprite', 'y': 1.29, 'label': 'McD - Sprite', 'value': 1.29}]}\n",
      "hover data: {'points': [{'curveNumber': 2, 'pointNumber': 76, 'pointIndex': 76, 'x': 'McD - Southern Style Chicken Biscuit', 'y': 2.99, 'label': 'McD - Southern Style Chicken Biscuit', 'value': 2.99}]}\n",
      "hover data: {'points': [{'curveNumber': 2, 'pointNumber': 75, 'pointIndex': 75, 'x': 'McD - Shamrock Shake', 'y': 2.59, 'label': 'McD - Shamrock Shake', 'value': 2.59}]}\n"
     ]
    },
    {
     "name": "stderr",
     "output_type": "stream",
     "text": [
      "127.0.0.1 - - [07/Apr/2021 17:44:32] \"\u001b[37mPOST /_dash-update-component HTTP/1.1\u001b[0m\" 200 -\n",
      "127.0.0.1 - - [07/Apr/2021 17:44:32] \"\u001b[37mPOST /_dash-update-component HTTP/1.1\u001b[0m\" 200 -\n",
      "127.0.0.1 - - [07/Apr/2021 17:44:32] \"\u001b[37mPOST /_dash-update-component HTTP/1.1\u001b[0m\" 200 -\n"
     ]
    },
    {
     "name": "stdout",
     "output_type": "stream",
     "text": [
      "hover data: {'points': [{'curveNumber': 2, 'pointNumber': 76, 'pointIndex': 76, 'x': 'McD - Southern Style Chicken Biscuit', 'y': 2.99, 'label': 'McD - Southern Style Chicken Biscuit', 'value': 2.99}]}\n"
     ]
    },
    {
     "name": "stderr",
     "output_type": "stream",
     "text": [
      "127.0.0.1 - - [07/Apr/2021 17:44:33] \"\u001b[37mPOST /_dash-update-component HTTP/1.1\u001b[0m\" 200 -\n"
     ]
    },
    {
     "name": "stdout",
     "output_type": "stream",
     "text": [
      "hover data: {'points': [{'curveNumber': 2, 'pointNumber': 76, 'pointIndex': 76, 'x': 'McD - Southern Style Chicken Biscuit', 'y': 2.99, 'label': 'McD - Southern Style Chicken Biscuit', 'value': 2.99}]}\n"
     ]
    },
    {
     "name": "stderr",
     "output_type": "stream",
     "text": [
      "127.0.0.1 - - [07/Apr/2021 17:44:34] \"\u001b[37mPOST /_dash-update-component HTTP/1.1\u001b[0m\" 200 -\n"
     ]
    },
    {
     "name": "stdout",
     "output_type": "stream",
     "text": [
      "hover data: {'points': [{'curveNumber': 1, 'pointNumber': 21, 'pointIndex': 21, 'x': 'CFA - Dr. Pepper', 'y': 1.85, 'label': 'CFA - Dr. Pepper', 'value': 1.85}]}\n"
     ]
    },
    {
     "name": "stderr",
     "output_type": "stream",
     "text": [
      "127.0.0.1 - - [07/Apr/2021 17:44:34] \"\u001b[37mPOST /_dash-update-component HTTP/1.1\u001b[0m\" 200 -\n"
     ]
    },
    {
     "name": "stdout",
     "output_type": "stream",
     "text": [
      "hover data: {'points': [{'curveNumber': 1, 'pointNumber': 27, 'pointIndex': 27, 'x': 'CFA - Orange Juice', 'y': 2.15, 'label': 'CFA - Orange Juice', 'value': 2.15}]}\n"
     ]
    },
    {
     "name": "stderr",
     "output_type": "stream",
     "text": [
      "127.0.0.1 - - [07/Apr/2021 17:44:36] \"\u001b[37mPOST /_dash-update-component HTTP/1.1\u001b[0m\" 200 -\n"
     ]
    },
    {
     "name": "stdout",
     "output_type": "stream",
     "text": [
      "hover data: {'points': [{'curveNumber': 1, 'pointNumber': 28, 'pointIndex': 28, 'x': 'CFA - Chargrilled & Fruit Salad', 'y': 8.19, 'label': 'CFA - Chargrilled & Fruit Salad', 'value': 8.19}]}\n",
      "hover data: {'points': [{'curveNumber': 1, 'pointNumber': 36, 'pointIndex': 36, 'x': 'CFA - Chargrilled Chicken Club Sandwich', 'y': 5.59, 'label': 'CFA - Chargrilled Chicken Club Sandwich', 'value': 5.59}]}\n",
      "hover data: {'points': [{'curveNumber': 1, 'pointNumber': 37, 'pointIndex': 37, 'x': 'CFA - Chargrilled Chicken Cool Wrap', 'y': 5.19, 'label': 'CFA - Chargrilled Chicken Cool Wrap', 'value': 5.19}]}\n"
     ]
    },
    {
     "name": "stderr",
     "output_type": "stream",
     "text": [
      "127.0.0.1 - - [07/Apr/2021 17:44:37] \"\u001b[37mPOST /_dash-update-component HTTP/1.1\u001b[0m\" 200 -\n",
      "127.0.0.1 - - [07/Apr/2021 17:44:37] \"\u001b[37mPOST /_dash-update-component HTTP/1.1\u001b[0m\" 200 -\n"
     ]
    },
    {
     "name": "stdout",
     "output_type": "stream",
     "text": [
      "hover data: {'points': [{'curveNumber': 1, 'pointNumber': 38, 'pointIndex': 38, 'x': 'CFA - Chargrilled Chicken Sandwich', 'y': 5.59, 'label': 'CFA - Chargrilled Chicken Sandwich', 'value': 5.59}]}\n",
      "hover data: {'points': [{'curveNumber': 1, 'pointNumber': 36, 'pointIndex': 36, 'x': 'CFA - Chargrilled Chicken Club Sandwich', 'y': 5.59, 'label': 'CFA - Chargrilled Chicken Club Sandwich', 'value': 5.59}]}\n"
     ]
    },
    {
     "name": "stderr",
     "output_type": "stream",
     "text": [
      "127.0.0.1 - - [07/Apr/2021 17:44:37] \"\u001b[37mPOST /_dash-update-component HTTP/1.1\u001b[0m\" 200 -\n",
      "127.0.0.1 - - [07/Apr/2021 17:44:37] \"\u001b[37mPOST /_dash-update-component HTTP/1.1\u001b[0m\" 200 -\n",
      "127.0.0.1 - - [07/Apr/2021 17:44:38] \"\u001b[37mPOST /_dash-update-component HTTP/1.1\u001b[0m\" 200 -\n"
     ]
    },
    {
     "name": "stdout",
     "output_type": "stream",
     "text": [
      "hover data: {'points': [{'curveNumber': 1, 'pointNumber': 36, 'pointIndex': 36, 'x': 'CFA - Chargrilled Chicken Club Sandwich', 'y': 5.59, 'label': 'CFA - Chargrilled Chicken Club Sandwich', 'value': 5.59}]}\n"
     ]
    },
    {
     "name": "stderr",
     "output_type": "stream",
     "text": [
      "127.0.0.1 - - [07/Apr/2021 17:44:45] \"\u001b[37mPOST /_dash-update-component HTTP/1.1\u001b[0m\" 200 -\n",
      "127.0.0.1 - - [07/Apr/2021 17:47:18] \"\u001b[37mPOST /_dash-update-component HTTP/1.1\u001b[0m\" 200 -\n",
      "127.0.0.1 - - [07/Apr/2021 17:47:34] \"\u001b[37mPOST /_dash-update-component HTTP/1.1\u001b[0m\" 200 -\n",
      "127.0.0.1 - - [07/Apr/2021 17:47:40] \"\u001b[37mPOST /_dash-update-component HTTP/1.1\u001b[0m\" 200 -\n",
      "127.0.0.1 - - [07/Apr/2021 17:48:18] \"\u001b[37mPOST /_dash-update-component HTTP/1.1\u001b[0m\" 200 -\n",
      "127.0.0.1 - - [07/Apr/2021 17:50:22] \"\u001b[37mPOST /_dash-update-component HTTP/1.1\u001b[0m\" 200 -\n",
      "127.0.0.1 - - [07/Apr/2021 17:50:25] \"\u001b[37mPOST /_dash-update-component HTTP/1.1\u001b[0m\" 200 -\n",
      "127.0.0.1 - - [07/Apr/2021 17:50:29] \"\u001b[37mPOST /_dash-update-component HTTP/1.1\u001b[0m\" 200 -\n",
      "127.0.0.1 - - [07/Apr/2021 17:50:34] \"\u001b[37mPOST /_dash-update-component HTTP/1.1\u001b[0m\" 200 -\n",
      "127.0.0.1 - - [07/Apr/2021 17:50:37] \"\u001b[37mPOST /_dash-update-component HTTP/1.1\u001b[0m\" 200 -\n",
      "127.0.0.1 - - [07/Apr/2021 17:50:44] \"\u001b[37mPOST /_dash-update-component HTTP/1.1\u001b[0m\" 200 -\n",
      "127.0.0.1 - - [07/Apr/2021 17:50:46] \"\u001b[37mPOST /_dash-update-component HTTP/1.1\u001b[0m\" 200 -\n",
      "127.0.0.1 - - [07/Apr/2021 17:50:49] \"\u001b[37mPOST /_dash-update-component HTTP/1.1\u001b[0m\" 200 -\n",
      "127.0.0.1 - - [07/Apr/2021 17:50:52] \"\u001b[37mPOST /_dash-update-component HTTP/1.1\u001b[0m\" 200 -\n",
      "127.0.0.1 - - [07/Apr/2021 17:50:55] \"\u001b[37mPOST /_dash-update-component HTTP/1.1\u001b[0m\" 200 -\n",
      "127.0.0.1 - - [07/Apr/2021 17:51:02] \"\u001b[37mPOST /_dash-update-component HTTP/1.1\u001b[0m\" 200 -\n",
      "127.0.0.1 - - [07/Apr/2021 17:51:14] \"\u001b[37mPOST /_dash-update-component HTTP/1.1\u001b[0m\" 200 -\n",
      "127.0.0.1 - - [07/Apr/2021 17:51:17] \"\u001b[37mPOST /_dash-update-component HTTP/1.1\u001b[0m\" 200 -\n",
      "127.0.0.1 - - [07/Apr/2021 17:51:37] \"\u001b[37mPOST /_dash-update-component HTTP/1.1\u001b[0m\" 200 -\n"
     ]
    }
   ],
   "source": [
    "@app.callback(\n",
    "    Output(component_id='my-graph', component_property='figure'),\n",
    "    Input(component_id='dpdn2', component_property='value'),\n",
    ")\n",
    "def update_graph(rest_chosen):\n",
    "    dff = df[df.Restaurant.isin(rest_chosen)]\n",
    "    fig = px.bar(data_frame=dff, x='Items', y='Cost (USD)', color='Restaurant')\n",
    "    return fig\n",
    "\n",
    "\n",
    "# Dash version 1.16.0 or higher\n",
    "@app.callback(\n",
    "    Output(component_id='pie-graph', component_property='figure'),\n",
    "    Input(component_id='my-graph', component_property='hoverData'),\n",
    "    Input(component_id='my-graph', component_property='clickData'),\n",
    "    Input(component_id='my-graph', component_property='selectedData'),\n",
    "    Input(component_id='dpdn2', component_property='value')\n",
    ")\n",
    "def update_side_graph(hov_data, clk_data, slct_data, rest_chosen):\n",
    "    if hov_data is None:\n",
    "        dff2 = df[df.Restaurant.isin(rest_chosen)]\n",
    "        dff2 = dff2[dff2.Items == 'BK - Bacon Double Cheeseburger']\n",
    "        test1 = dff2[['Protein (g)','Fat (g)', 'Carbs (g)', 'Sugar (g)', 'Sodium (g)']]\n",
    "        test2 = test1.values.tolist() \n",
    "        test3= test2[0]\n",
    "        labels = ['Protein (g)','Fat (g)', 'Carbs (g)', 'Sugar (g)', 'Sodium (g)']\n",
    "        print(labels)\n",
    "        fig2 = px.pie(data_frame=dff2, labels = labels , values= test3, names=labels,\n",
    "                      title='Nutrition')\n",
    "        return fig2\n",
    "    else:\n",
    "        print(f'hover data: {hov_data}')\n",
    "        # print(hov_data['points'][0]['customdata'][0])\n",
    "        # print(f'click data: {clk_data}')\n",
    "        # print(f'selected data: {slct_data}')\n",
    "        dff2 = df[df.Restaurant.isin(rest_chosen)]\n",
    "\n",
    "        labels = ['Protein (g)','Fat (g)', 'Carbs (g)', 'Sugar (g)', 'Sodium (g)']\n",
    "        hov_year = hov_data['points'][0]['x']\n",
    "        dff2 = dff2[dff2.Items == hov_year]\n",
    "        test1 = dff2[['Protein (g)','Fat (g)', 'Carbs (g)', 'Sugar (g)', 'Sodium (g)']]\n",
    "        test2 = test1.values.tolist() \n",
    "        test3= test2[0]\n",
    "        fig2 = px.pie(data_frame=dff2, values=test3, names=labels,labels = labels , title=f'Nutrition: {hov_year}')\n",
    "        return fig2\n",
    "\n",
    "#\n",
    "@app.callback(\n",
    "    [Output(component_id='output_container', component_property='children'),\n",
    "     Output(component_id='fast_food_map', component_property='figure')],\n",
    "    [Input(component_id='select_category', component_property='value'),\n",
    "     Input(component_id='select_restaurant',component_property='value')]\n",
    ")\n",
    "def update_map_graph(option_slctd,option_slctd_2):\n",
    "    \n",
    "    container = \"The option chosen by user was: {}\".format(option_slctd)\n",
    "    \n",
    "    dfff = final.copy()\n",
    "\n",
    "    figg = px.choropleth(\n",
    "        data_frame=dfff,\n",
    "        locationmode='USA-states',\n",
    "        locations='State Code',\n",
    "        scope=\"usa\",\n",
    "        color=option_slctd,\n",
    "        color_continuous_scale=\"Viridis\",\n",
    "        hover_data=['State', option_slctd],\n",
    "#         template='plotly_dark'\n",
    "    )\n",
    "\n",
    "    dfff2 = rest.copy()\n",
    "\n",
    "    figg2 = px.scatter_geo(\n",
    "         data_frame=dfff2,\n",
    "         locationmode='USA-states',\n",
    "         scope=\"usa\",\n",
    "         locations=\"State Code\",\n",
    "         size=option_slctd_2,\n",
    "         template='plotly_dark',\n",
    "                       )\n",
    "    figg.add_trace(\n",
    "        figg2.data[0]\n",
    "    )\n",
    "\n",
    "    return container,figg\n",
    "nutrition=['Protein (g)', 'Fat (g)', 'Carbs (g)', 'Sugar (g)', 'Sodium (g)']\n",
    "\n",
    "@app.callback(\n",
    "    Output(component_id='sando_map', component_property='figure'),\n",
    "    Input(component_id='opt1', component_property='value'),\n",
    "    Input(component_id='opt2', component_property='value'),\n",
    "    Input(component_id='opt3', component_property='value'),\n",
    "    Input(component_id='opt4', component_property='value'),\n",
    "    Input(component_id='opt5', component_property='value'),\n",
    ")\n",
    "\n",
    "def group_graph(choice1,choice2,choice3,choice4,choice5):\n",
    "    \n",
    "    \n",
    "    a = sando[sando[\"Items\"]==choice1]\n",
    "    protein_a = a.iloc[0][5]\n",
    "    fat_a = a.iloc[0][6]\n",
    "    carb_a = a.iloc[0][7]\n",
    "    sugar_a= a.iloc[0][8]\n",
    "    sodium_a = a.iloc[0][9]\n",
    "    \n",
    "    b = sando[sando[\"Items\"]==choice2]\n",
    "    protein_b = b.iloc[0][5]\n",
    "    fat_b = b.iloc[0][6]\n",
    "    carb_b = b.iloc[0][7]\n",
    "    sugar_b= b.iloc[0][8]\n",
    "    sodium_b = b.iloc[0][9]\n",
    "    \n",
    "    c = sando[sando[\"Items\"]==choice3]\n",
    "    protein_c = c.iloc[0][5]\n",
    "    fat_c = c.iloc[0][6]\n",
    "    carb_c = c.iloc[0][7]\n",
    "    sugar_c= c.iloc[0][8]\n",
    "    sodium_c = c.iloc[0][9]\n",
    "    \n",
    "    d = sando[sando[\"Items\"]==choice4]\n",
    "    protein_d = d.iloc[0][5]\n",
    "    fat_d = d.iloc[0][6]\n",
    "    carb_d = d.iloc[0][7]\n",
    "    sugar_d = d.iloc[0][8]\n",
    "    sodium_d = d.iloc[0][9]\n",
    "    \n",
    "    e = sando[sando[\"Items\"]==choice5]\n",
    "    protein_e = e.iloc[0][5]\n",
    "    fat_e = e.iloc[0][6]\n",
    "    carb_e = e.iloc[0][7]\n",
    "    sugar_e = e.iloc[0][8]\n",
    "    sodium_e = e.iloc[0][9]\n",
    "\n",
    "    \n",
    "    sfig = go.Figure(data=[\n",
    "    go.Bar(name=choice1, x=nutrition, y=[protein_a,protein_b,protein_c,protein_d,protein_e]),\n",
    "    go.Bar(name=choice2, x=nutrition, y=[fat_a,fat_b,fat_c,fat_d,fat_e]),\n",
    "    go.Bar(name=choice3, x=nutrition, y=[carb_a,carb_b,carb_c,carb_d,carb_e]),\n",
    "    go.Bar(name=choice4, x=nutrition, y=[sugar_a,sugar_b,sugar_c,sugar_d,sugar_e]),\n",
    "    go.Bar(name=choice5, x=nutrition, y=[sodium_a,sodium_b,sodium_c,sodium_d,sodium_e])\n",
    "    ])\n",
    "    \n",
    "    sfig.update_layout(barmode='group')\n",
    "    sfig.update_layout(title_text='Favourite sandwich comparison')\n",
    "    return sfig\n",
    "\n",
    "nutrition=['Protein (g)', 'Fat (g)', 'Carbs (g)', 'Sugar (g)', 'Sodium (g)']\n",
    "\n",
    "@app.callback(\n",
    "    Output(component_id='drink_map', component_property='figure'),\n",
    "    Input(component_id='dpt1', component_property='value'),\n",
    "    Input(component_id='dpt2', component_property='value'),\n",
    "    Input(component_id='dpt3', component_property='value'),\n",
    "    Input(component_id='dpt4', component_property='value'),\n",
    "    Input(component_id='dpt5', component_property='value'),\n",
    ")\n",
    "\n",
    "def group_graph(choice1,choice2,choice3,choice4,choice5):\n",
    "    \n",
    "    a = drink[drink[\"Items\"]==choice1]\n",
    "    protein_a = a.iloc[0][5]\n",
    "    fat_a = a.iloc[0][6]\n",
    "    carb_a = a.iloc[0][7]\n",
    "    sugar_a= a.iloc[0][8]\n",
    "    sodium_a = a.iloc[0][9]\n",
    "    \n",
    "    b = drink[drink[\"Items\"]==choice2]\n",
    "    protein_b = b.iloc[0][5]\n",
    "    fat_b = b.iloc[0][6]\n",
    "    carb_b = b.iloc[0][7]\n",
    "    sugar_b= b.iloc[0][8]\n",
    "    sodium_b = b.iloc[0][9]\n",
    "    \n",
    "    c = drink[drink[\"Items\"]==choice3]\n",
    "    protein_c = c.iloc[0][5]\n",
    "    fat_c = c.iloc[0][6]\n",
    "    carb_c = c.iloc[0][7]\n",
    "    sugar_c= c.iloc[0][8]\n",
    "    sodium_c = c.iloc[0][9]\n",
    "    \n",
    "    d = drink[drink[\"Items\"]==choice4]\n",
    "    protein_d = d.iloc[0][5]\n",
    "    fat_d = d.iloc[0][6]\n",
    "    carb_d = d.iloc[0][7]\n",
    "    sugar_d = d.iloc[0][8]\n",
    "    sodium_d = d.iloc[0][9]\n",
    "    \n",
    "    e = drink[drink[\"Items\"]==choice5]\n",
    "    protein_e = e.iloc[0][5]\n",
    "    fat_e = e.iloc[0][6]\n",
    "    carb_e = e.iloc[0][7]\n",
    "    sugar_e = e.iloc[0][8]\n",
    "    sodium_e = e.iloc[0][9]\n",
    "\n",
    "    \n",
    "    dfig = go.Figure(data=[\n",
    "    go.Bar(name=choice1, x=nutrition, y=[protein_a,protein_b,protein_c,protein_d,protein_e]),\n",
    "    go.Bar(name=choice2, x=nutrition, y=[fat_a,fat_b,fat_c,fat_d,fat_e]),\n",
    "    go.Bar(name=choice3, x=nutrition, y=[carb_a,carb_b,carb_c,carb_d,carb_e]),\n",
    "    go.Bar(name=choice4, x=nutrition, y=[sugar_a,sugar_b,sugar_c,sugar_d,sugar_e]),\n",
    "    go.Bar(name=choice5, x=nutrition, y=[sodium_a,sodium_b,sodium_c,sodium_d,sodium_e])\n",
    "    ])\n",
    "    \n",
    "    dfig.update_layout(barmode='group')\n",
    "    dfig.update_layout(title_text='Favourite drinks comparison')\n",
    "    return dfig\n",
    "\n",
    "if __name__ == \"__main__\":\n",
    "    app.run_server(host = '127.0.0.1')"
   ]
  },
  {
   "cell_type": "code",
   "execution_count": null,
   "metadata": {},
   "outputs": [],
   "source": []
  }
 ],
 "metadata": {
  "kernelspec": {
   "display_name": "Python 3",
   "language": "python",
   "name": "python3"
  },
  "language_info": {
   "codemirror_mode": {
    "name": "ipython",
    "version": 3
   },
   "file_extension": ".py",
   "mimetype": "text/x-python",
   "name": "python",
   "nbconvert_exporter": "python",
   "pygments_lexer": "ipython3",
   "version": "3.8.5"
  }
 },
 "nbformat": 4,
 "nbformat_minor": 4
}
