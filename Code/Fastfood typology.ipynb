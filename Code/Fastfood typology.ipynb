{
 "cells": [
  {
   "cell_type": "code",
   "execution_count": 1,
   "metadata": {},
   "outputs": [],
   "source": [
    "import dash\n",
    "import dash_core_components as dcc\n",
    "import dash_html_components as html\n",
    "import plotly.graph_objs as go\n",
    "import pandas as pd\n",
    "from dash.dependencies import Input, Output"
   ]
  },
  {
   "cell_type": "code",
   "execution_count": 2,
   "metadata": {},
   "outputs": [],
   "source": [
    "df = pd.read_csv(\"IAT_2/IAT/Datasets/nutrition/all_nutrition.csv\")\n",
    "df[\"quantity\"] = 1"
   ]
  },
  {
   "cell_type": "code",
   "execution_count": 3,
   "metadata": {},
   "outputs": [
    {
     "data": {
      "text/html": [
       "<div>\n",
       "<style scoped>\n",
       "    .dataframe tbody tr th:only-of-type {\n",
       "        vertical-align: middle;\n",
       "    }\n",
       "\n",
       "    .dataframe tbody tr th {\n",
       "        vertical-align: top;\n",
       "    }\n",
       "\n",
       "    .dataframe thead th {\n",
       "        text-align: right;\n",
       "    }\n",
       "</style>\n",
       "<table border=\"1\" class=\"dataframe\">\n",
       "  <thead>\n",
       "    <tr style=\"text-align: right;\">\n",
       "      <th></th>\n",
       "      <th>Restaurant</th>\n",
       "      <th>Category</th>\n",
       "      <th>Items</th>\n",
       "      <th>Cost (USD)</th>\n",
       "      <th>Calories</th>\n",
       "      <th>Protein (g)</th>\n",
       "      <th>Fat (g)</th>\n",
       "      <th>Carbs (g)</th>\n",
       "      <th>Sugar (g)</th>\n",
       "      <th>Sodium (g)</th>\n",
       "      <th>quantity</th>\n",
       "    </tr>\n",
       "  </thead>\n",
       "  <tbody>\n",
       "    <tr>\n",
       "      <th>0</th>\n",
       "      <td>burgerking</td>\n",
       "      <td>Sandwich</td>\n",
       "      <td>Whopper® Sandwich</td>\n",
       "      <td>4.19</td>\n",
       "      <td>660</td>\n",
       "      <td>28.0</td>\n",
       "      <td>40.0</td>\n",
       "      <td>49</td>\n",
       "      <td>11</td>\n",
       "      <td>0.98</td>\n",
       "      <td>1</td>\n",
       "    </tr>\n",
       "    <tr>\n",
       "      <th>1</th>\n",
       "      <td>burgerking</td>\n",
       "      <td>Sandwich</td>\n",
       "      <td>Double Whopper® Sandwich</td>\n",
       "      <td>5.29</td>\n",
       "      <td>900</td>\n",
       "      <td>48.0</td>\n",
       "      <td>58.0</td>\n",
       "      <td>49</td>\n",
       "      <td>11</td>\n",
       "      <td>1.05</td>\n",
       "      <td>1</td>\n",
       "    </tr>\n",
       "    <tr>\n",
       "      <th>2</th>\n",
       "      <td>burgerking</td>\n",
       "      <td>Sandwich</td>\n",
       "      <td>Triple Whopper® Sandwich</td>\n",
       "      <td>6.39</td>\n",
       "      <td>1130</td>\n",
       "      <td>67.0</td>\n",
       "      <td>75.0</td>\n",
       "      <td>49</td>\n",
       "      <td>11</td>\n",
       "      <td>1.12</td>\n",
       "      <td>1</td>\n",
       "    </tr>\n",
       "    <tr>\n",
       "      <th>3</th>\n",
       "      <td>burgerking</td>\n",
       "      <td>Sandwich</td>\n",
       "      <td>Whopper JR.® Sandwich</td>\n",
       "      <td>2.19</td>\n",
       "      <td>310</td>\n",
       "      <td>13.0</td>\n",
       "      <td>18.0</td>\n",
       "      <td>27</td>\n",
       "      <td>7</td>\n",
       "      <td>0.39</td>\n",
       "      <td>1</td>\n",
       "    </tr>\n",
       "    <tr>\n",
       "      <th>4</th>\n",
       "      <td>burgerking</td>\n",
       "      <td>Sandwich</td>\n",
       "      <td>Bacon King Sandwich</td>\n",
       "      <td>6.99</td>\n",
       "      <td>1150</td>\n",
       "      <td>61.0</td>\n",
       "      <td>79.0</td>\n",
       "      <td>49</td>\n",
       "      <td>10</td>\n",
       "      <td>2.15</td>\n",
       "      <td>1</td>\n",
       "    </tr>\n",
       "    <tr>\n",
       "      <th>...</th>\n",
       "      <td>...</td>\n",
       "      <td>...</td>\n",
       "      <td>...</td>\n",
       "      <td>...</td>\n",
       "      <td>...</td>\n",
       "      <td>...</td>\n",
       "      <td>...</td>\n",
       "      <td>...</td>\n",
       "      <td>...</td>\n",
       "      <td>...</td>\n",
       "      <td>...</td>\n",
       "    </tr>\n",
       "    <tr>\n",
       "      <th>506</th>\n",
       "      <td>subway</td>\n",
       "      <td>Dessert</td>\n",
       "      <td>Oatmeal Raisin Cookie</td>\n",
       "      <td>0.60</td>\n",
       "      <td>200</td>\n",
       "      <td>8.0</td>\n",
       "      <td>30.0</td>\n",
       "      <td>16</td>\n",
       "      <td>3</td>\n",
       "      <td>0.13</td>\n",
       "      <td>1</td>\n",
       "    </tr>\n",
       "    <tr>\n",
       "      <th>507</th>\n",
       "      <td>subway</td>\n",
       "      <td>Dessert</td>\n",
       "      <td>Raspberry Cheesecake Cookie</td>\n",
       "      <td>0.60</td>\n",
       "      <td>200</td>\n",
       "      <td>9.0</td>\n",
       "      <td>29.0</td>\n",
       "      <td>16</td>\n",
       "      <td>2</td>\n",
       "      <td>0.12</td>\n",
       "      <td>1</td>\n",
       "    </tr>\n",
       "    <tr>\n",
       "      <th>508</th>\n",
       "      <td>subway</td>\n",
       "      <td>Dessert</td>\n",
       "      <td>Raspberry Lemonade Cookie</td>\n",
       "      <td>0.60</td>\n",
       "      <td>230</td>\n",
       "      <td>11.0</td>\n",
       "      <td>31.0</td>\n",
       "      <td>20</td>\n",
       "      <td>2</td>\n",
       "      <td>0.10</td>\n",
       "      <td>1</td>\n",
       "    </tr>\n",
       "    <tr>\n",
       "      <th>509</th>\n",
       "      <td>subway</td>\n",
       "      <td>Dessert</td>\n",
       "      <td>Sugar Cookie</td>\n",
       "      <td>0.60</td>\n",
       "      <td>230</td>\n",
       "      <td>12.0</td>\n",
       "      <td>28.0</td>\n",
       "      <td>14</td>\n",
       "      <td>2</td>\n",
       "      <td>0.13</td>\n",
       "      <td>1</td>\n",
       "    </tr>\n",
       "    <tr>\n",
       "      <th>510</th>\n",
       "      <td>subway</td>\n",
       "      <td>Dessert</td>\n",
       "      <td>White Chip Macadamia Nut Cookie</td>\n",
       "      <td>0.60</td>\n",
       "      <td>220</td>\n",
       "      <td>11.0</td>\n",
       "      <td>28.0</td>\n",
       "      <td>17</td>\n",
       "      <td>2</td>\n",
       "      <td>0.13</td>\n",
       "      <td>1</td>\n",
       "    </tr>\n",
       "  </tbody>\n",
       "</table>\n",
       "<p>511 rows × 11 columns</p>\n",
       "</div>"
      ],
      "text/plain": [
       "     Restaurant  Category                            Items  Cost (USD)  \\\n",
       "0    burgerking  Sandwich                Whopper® Sandwich        4.19   \n",
       "1    burgerking  Sandwich         Double Whopper® Sandwich        5.29   \n",
       "2    burgerking  Sandwich         Triple Whopper® Sandwich        6.39   \n",
       "3    burgerking  Sandwich            Whopper JR.® Sandwich        2.19   \n",
       "4    burgerking  Sandwich              Bacon King Sandwich        6.99   \n",
       "..          ...       ...                              ...         ...   \n",
       "506      subway   Dessert            Oatmeal Raisin Cookie        0.60   \n",
       "507      subway   Dessert      Raspberry Cheesecake Cookie        0.60   \n",
       "508      subway   Dessert        Raspberry Lemonade Cookie        0.60   \n",
       "509      subway   Dessert                     Sugar Cookie        0.60   \n",
       "510      subway   Dessert  White Chip Macadamia Nut Cookie        0.60   \n",
       "\n",
       "     Calories  Protein (g)  Fat (g)  Carbs (g)  Sugar (g)  Sodium (g)  \\\n",
       "0         660         28.0     40.0         49         11        0.98   \n",
       "1         900         48.0     58.0         49         11        1.05   \n",
       "2        1130         67.0     75.0         49         11        1.12   \n",
       "3         310         13.0     18.0         27          7        0.39   \n",
       "4        1150         61.0     79.0         49         10        2.15   \n",
       "..        ...          ...      ...        ...        ...         ...   \n",
       "506       200          8.0     30.0         16          3        0.13   \n",
       "507       200          9.0     29.0         16          2        0.12   \n",
       "508       230         11.0     31.0         20          2        0.10   \n",
       "509       230         12.0     28.0         14          2        0.13   \n",
       "510       220         11.0     28.0         17          2        0.13   \n",
       "\n",
       "     quantity  \n",
       "0           1  \n",
       "1           1  \n",
       "2           1  \n",
       "3           1  \n",
       "4           1  \n",
       "..        ...  \n",
       "506         1  \n",
       "507         1  \n",
       "508         1  \n",
       "509         1  \n",
       "510         1  \n",
       "\n",
       "[511 rows x 11 columns]"
      ]
     },
     "execution_count": 3,
     "metadata": {},
     "output_type": "execute_result"
    }
   ],
   "source": [
    "df"
   ]
  },
  {
   "cell_type": "code",
   "execution_count": 4,
   "metadata": {},
   "outputs": [],
   "source": [
    "cols = ['Restaurant']\n",
    "parts = [df.groupby([col, 'Category']).quantity.sum() for col in cols]\n",
    "df2 = pd.concat(parts).unstack(fill_value=0)\n",
    "options1 = df[\"Restaurant\"].unique()"
   ]
  },
  {
   "cell_type": "code",
   "execution_count": 5,
   "metadata": {},
   "outputs": [
    {
     "data": {
      "text/html": [
       "<div>\n",
       "<style scoped>\n",
       "    .dataframe tbody tr th:only-of-type {\n",
       "        vertical-align: middle;\n",
       "    }\n",
       "\n",
       "    .dataframe tbody tr th {\n",
       "        vertical-align: top;\n",
       "    }\n",
       "\n",
       "    .dataframe thead th {\n",
       "        text-align: right;\n",
       "    }\n",
       "</style>\n",
       "<table border=\"1\" class=\"dataframe\">\n",
       "  <thead>\n",
       "    <tr style=\"text-align: right;\">\n",
       "      <th>Category</th>\n",
       "      <th>Breakfast</th>\n",
       "      <th>Dessert</th>\n",
       "      <th>Drink</th>\n",
       "      <th>Salad</th>\n",
       "      <th>Sandwich</th>\n",
       "      <th>Side</th>\n",
       "    </tr>\n",
       "    <tr>\n",
       "      <th>Restaurant</th>\n",
       "      <th></th>\n",
       "      <th></th>\n",
       "      <th></th>\n",
       "      <th></th>\n",
       "      <th></th>\n",
       "      <th></th>\n",
       "    </tr>\n",
       "  </thead>\n",
       "  <tbody>\n",
       "    <tr>\n",
       "      <th>burgerking</th>\n",
       "      <td>0</td>\n",
       "      <td>3</td>\n",
       "      <td>45</td>\n",
       "      <td>3</td>\n",
       "      <td>20</td>\n",
       "      <td>6</td>\n",
       "    </tr>\n",
       "    <tr>\n",
       "      <th>chick-fil-a</th>\n",
       "      <td>25</td>\n",
       "      <td>6</td>\n",
       "      <td>13</td>\n",
       "      <td>8</td>\n",
       "      <td>10</td>\n",
       "      <td>4</td>\n",
       "    </tr>\n",
       "    <tr>\n",
       "      <th>mcdonalds</th>\n",
       "      <td>27</td>\n",
       "      <td>12</td>\n",
       "      <td>93</td>\n",
       "      <td>2</td>\n",
       "      <td>22</td>\n",
       "      <td>4</td>\n",
       "    </tr>\n",
       "    <tr>\n",
       "      <th>starbucks</th>\n",
       "      <td>12</td>\n",
       "      <td>23</td>\n",
       "      <td>97</td>\n",
       "      <td>18</td>\n",
       "      <td>12</td>\n",
       "      <td>0</td>\n",
       "    </tr>\n",
       "    <tr>\n",
       "      <th>subway</th>\n",
       "      <td>4</td>\n",
       "      <td>11</td>\n",
       "      <td>0</td>\n",
       "      <td>13</td>\n",
       "      <td>18</td>\n",
       "      <td>0</td>\n",
       "    </tr>\n",
       "  </tbody>\n",
       "</table>\n",
       "</div>"
      ],
      "text/plain": [
       "Category     Breakfast  Dessert  Drink  Salad  Sandwich  Side\n",
       "Restaurant                                                   \n",
       "burgerking           0        3     45      3        20     6\n",
       "chick-fil-a         25        6     13      8        10     4\n",
       "mcdonalds           27       12     93      2        22     4\n",
       "starbucks           12       23     97     18        12     0\n",
       "subway               4       11      0     13        18     0"
      ]
     },
     "execution_count": 5,
     "metadata": {},
     "output_type": "execute_result"
    }
   ],
   "source": [
    "df2"
   ]
  },
  {
   "cell_type": "code",
   "execution_count": 37,
   "metadata": {},
   "outputs": [],
   "source": [
    "app = dash.Dash()\n",
    "app.layout = html.Div([\n",
    "\n",
    "    html.H1(\"Fast Food Analysis Dashboard\", style={'text-align': 'center'}),\n",
    "\n",
    "    dcc.Dropdown(id=\"select_category\",\n",
    "                 #options=[\n",
    "                 #    {\"label\": \"burgerking\", \"value\": 'burgerking'},\n",
    "                 #    {\"label\": \"chick-fil-a\", \"value\": 'chick-fil-a'},\n",
    "                 #    {\"label\": \"mcdonalds\", \"value\": 'mcdonalds'},\n",
    "                 #    {\"label\": \"starbucks\", \"value\": 'starbucks'},\n",
    "                 #    {\"label\": \"subway\", \"value\": 'subway'}],\n",
    "                 options=[{'label': i, 'value': i} for i in options1],\n",
    "                 multi=False,\n",
    "                 value=\"All Restaurant\",\n",
    "                 style={'width': \"40%\"}\n",
    "                 ),\n",
    "\n",
    "    html.Div(id='output_container', children=[]),\n",
    "    html.Br(),\n",
    "    dcc.Graph(id='fast_food_map', figure={})\n",
    "#        html.Div(\n",
    "#        [\n",
    "#            dcc.Dropdown(\n",
    "#                id=\"Manager\",\n",
    "#                options=[{\n",
    "#                    'label': i,\n",
    "#                    'value': i\n",
    "#                } for i in mgr_options],\n",
    "#                value='All Managers'),\n",
    "#        ],\n",
    "#        style={'width': '25%',\n",
    "#               'display': 'inline-block'}),\n",
    "#    dcc.Graph(id='funnel-graph'),\n",
    "#])\n",
    "])"
   ]
  },
  {
   "cell_type": "code",
   "execution_count": 38,
   "metadata": {},
   "outputs": [],
   "source": [
    "@app.callback(\n",
    "    Output('fast_food_map', 'figure'),\n",
    "    #Output('output_container','children'),\n",
    "    [Input('select_category', 'value')]\n",
    ")\n",
    "\n",
    "#def update_figure(Restaurant):\n",
    "#    #dff = df.copy() - generated report\n",
    "#    dff = df[df['Restaurant'] == Restaurant]\n",
    "#    fig = px.histogram(dff, x=\"Category\", y=\"quantity\")\n",
    "#    return fig\n",
    "\n",
    "def update_figure(category_dropdown_name):\n",
    "    dff = df[df['Restaurant'] == category_dropdown_name]\n",
    "    fig = go.Figure()\n",
    "    fig.add_trace(go.Histogram(histfunc=\"count\",  x=dff['Category']))\n",
    "    return fig"
   ]
  },
  {
   "cell_type": "code",
   "execution_count": 39,
   "metadata": {},
   "outputs": [
    {
     "name": "stdout",
     "output_type": "stream",
     "text": [
      "Dash is running on http://127.0.0.1:8050/\n",
      "\n",
      "Dash is running on http://127.0.0.1:8050/\n",
      "\n",
      "Dash is running on http://127.0.0.1:8050/\n",
      "\n",
      "Dash is running on http://127.0.0.1:8050/\n",
      "\n",
      "Dash is running on http://127.0.0.1:8050/\n",
      "\n",
      "Dash is running on http://127.0.0.1:8050/\n",
      "\n",
      "Dash is running on http://127.0.0.1:8050/\n",
      "\n",
      " * Serving Flask app \"__main__\" (lazy loading)\n",
      " * Environment: production\n",
      "   WARNING: This is a development server. Do not use it in a production deployment.\n",
      "   Use a production WSGI server instead.\n",
      " * Debug mode: off\n"
     ]
    },
    {
     "name": "stderr",
     "output_type": "stream",
     "text": [
      " * Running on http://127.0.0.1:8050/ (Press CTRL+C to quit)\n",
      "127.0.0.1 - - [03/Apr/2021 13:19:22] \"\u001b[37mGET / HTTP/1.1\u001b[0m\" 200 -\n",
      "127.0.0.1 - - [03/Apr/2021 13:19:22] \"\u001b[37mGET /_dash-layout HTTP/1.1\u001b[0m\" 200 -\n",
      "127.0.0.1 - - [03/Apr/2021 13:19:22] \"\u001b[37mGET /_dash-dependencies HTTP/1.1\u001b[0m\" 200 -\n",
      "127.0.0.1 - - [03/Apr/2021 13:19:22] \"\u001b[37mPOST /_dash-update-component HTTP/1.1\u001b[0m\" 200 -\n",
      "127.0.0.1 - - [03/Apr/2021 13:19:24] \"\u001b[37mPOST /_dash-update-component HTTP/1.1\u001b[0m\" 200 -\n"
     ]
    }
   ],
   "source": [
    "if __name__ == '__main__':\n",
    "    app.run_server(host = '127.0.0.1')"
   ]
  },
  {
   "cell_type": "code",
   "execution_count": null,
   "metadata": {},
   "outputs": [],
   "source": [
    "import plotly.express as px\n",
    "fig = px.histogram(df, x=\"Category\", y=\"quantity\")\n",
    "fig.show()"
   ]
  },
  {
   "cell_type": "code",
   "execution_count": null,
   "metadata": {},
   "outputs": [],
   "source": [
    "[df['Restaurant'] == 'burgerking']"
   ]
  },
  {
   "cell_type": "code",
   "execution_count": null,
   "metadata": {},
   "outputs": [],
   "source": [
    "options1=[{'label': i, 'value': i} for i in options1]\n",
    "options1"
   ]
  },
  {
   "cell_type": "markdown",
   "metadata": {},
   "source": [
    "# Top 10 most expensive items"
   ]
  },
  {
   "cell_type": "code",
   "execution_count": 9,
   "metadata": {},
   "outputs": [
    {
     "data": {
      "text/html": [
       "<div>\n",
       "<style scoped>\n",
       "    .dataframe tbody tr th:only-of-type {\n",
       "        vertical-align: middle;\n",
       "    }\n",
       "\n",
       "    .dataframe tbody tr th {\n",
       "        vertical-align: top;\n",
       "    }\n",
       "\n",
       "    .dataframe thead th {\n",
       "        text-align: right;\n",
       "    }\n",
       "</style>\n",
       "<table border=\"1\" class=\"dataframe\">\n",
       "  <thead>\n",
       "    <tr style=\"text-align: right;\">\n",
       "      <th></th>\n",
       "      <th>Restaurant</th>\n",
       "      <th>Category</th>\n",
       "      <th>Items</th>\n",
       "      <th>Cost (USD)</th>\n",
       "      <th>Calories</th>\n",
       "      <th>Protein (g)</th>\n",
       "      <th>Fat (g)</th>\n",
       "      <th>Carbs (g)</th>\n",
       "      <th>Sugar (g)</th>\n",
       "      <th>Sodium (g)</th>\n",
       "      <th>quantity</th>\n",
       "    </tr>\n",
       "  </thead>\n",
       "  <tbody>\n",
       "    <tr>\n",
       "      <th>0</th>\n",
       "      <td>burgerking</td>\n",
       "      <td>Salad</td>\n",
       "      <td>Garden Chicken Salad with Crispy Chicken – no ...</td>\n",
       "      <td>7.09</td>\n",
       "      <td>440</td>\n",
       "      <td>25.0</td>\n",
       "      <td>25.0</td>\n",
       "      <td>31</td>\n",
       "      <td>4</td>\n",
       "      <td>0.930</td>\n",
       "      <td>1</td>\n",
       "    </tr>\n",
       "    <tr>\n",
       "      <th>1</th>\n",
       "      <td>burgerking</td>\n",
       "      <td>Salad</td>\n",
       "      <td>Club Salad with Crispy Chicken – no dressing</td>\n",
       "      <td>7.09</td>\n",
       "      <td>540</td>\n",
       "      <td>31.0</td>\n",
       "      <td>33.0</td>\n",
       "      <td>31</td>\n",
       "      <td>5</td>\n",
       "      <td>1.380</td>\n",
       "      <td>1</td>\n",
       "    </tr>\n",
       "    <tr>\n",
       "      <th>2</th>\n",
       "      <td>burgerking</td>\n",
       "      <td>Sandwich</td>\n",
       "      <td>Bacon King Sandwich</td>\n",
       "      <td>6.99</td>\n",
       "      <td>1150</td>\n",
       "      <td>61.0</td>\n",
       "      <td>79.0</td>\n",
       "      <td>49</td>\n",
       "      <td>10</td>\n",
       "      <td>2.150</td>\n",
       "      <td>1</td>\n",
       "    </tr>\n",
       "    <tr>\n",
       "      <th>3</th>\n",
       "      <td>burgerking</td>\n",
       "      <td>Sandwich</td>\n",
       "      <td>Triple Whopper® Sandwich</td>\n",
       "      <td>6.39</td>\n",
       "      <td>1130</td>\n",
       "      <td>67.0</td>\n",
       "      <td>75.0</td>\n",
       "      <td>49</td>\n",
       "      <td>11</td>\n",
       "      <td>1.120</td>\n",
       "      <td>1</td>\n",
       "    </tr>\n",
       "    <tr>\n",
       "      <th>4</th>\n",
       "      <td>burgerking</td>\n",
       "      <td>Sandwich</td>\n",
       "      <td>Bacon &amp; Cheese Crispy Chicken Sandwich</td>\n",
       "      <td>6.09</td>\n",
       "      <td>800</td>\n",
       "      <td>30.0</td>\n",
       "      <td>52.0</td>\n",
       "      <td>55</td>\n",
       "      <td>8</td>\n",
       "      <td>1.650</td>\n",
       "      <td>1</td>\n",
       "    </tr>\n",
       "    <tr>\n",
       "      <th>5</th>\n",
       "      <td>burgerking</td>\n",
       "      <td>Sandwich</td>\n",
       "      <td>BBQ Bacon Crispy Chicken Sandwich</td>\n",
       "      <td>6.09</td>\n",
       "      <td>790</td>\n",
       "      <td>28.0</td>\n",
       "      <td>49.0</td>\n",
       "      <td>60</td>\n",
       "      <td>13</td>\n",
       "      <td>1.630</td>\n",
       "      <td>1</td>\n",
       "    </tr>\n",
       "    <tr>\n",
       "      <th>6</th>\n",
       "      <td>burgerking</td>\n",
       "      <td>Sandwich</td>\n",
       "      <td>Spicy Crispy Chicken Sandwich</td>\n",
       "      <td>5.69</td>\n",
       "      <td>700</td>\n",
       "      <td>25.0</td>\n",
       "      <td>42.0</td>\n",
       "      <td>57</td>\n",
       "      <td>8</td>\n",
       "      <td>1.140</td>\n",
       "      <td>1</td>\n",
       "    </tr>\n",
       "    <tr>\n",
       "      <th>7</th>\n",
       "      <td>burgerking</td>\n",
       "      <td>Salad</td>\n",
       "      <td>Garden Side Salad – w/o dressing</td>\n",
       "      <td>5.59</td>\n",
       "      <td>60</td>\n",
       "      <td>4.0</td>\n",
       "      <td>4.0</td>\n",
       "      <td>3</td>\n",
       "      <td>2</td>\n",
       "      <td>0.095</td>\n",
       "      <td>1</td>\n",
       "    </tr>\n",
       "    <tr>\n",
       "      <th>8</th>\n",
       "      <td>burgerking</td>\n",
       "      <td>Sandwich</td>\n",
       "      <td>IMPOSSIBLE Whopper® Sandwich</td>\n",
       "      <td>5.49</td>\n",
       "      <td>630</td>\n",
       "      <td>25.0</td>\n",
       "      <td>34.0</td>\n",
       "      <td>58</td>\n",
       "      <td>12</td>\n",
       "      <td>1.080</td>\n",
       "      <td>1</td>\n",
       "    </tr>\n",
       "    <tr>\n",
       "      <th>9</th>\n",
       "      <td>burgerking</td>\n",
       "      <td>Sandwich</td>\n",
       "      <td>Double Whopper® Sandwich</td>\n",
       "      <td>5.29</td>\n",
       "      <td>900</td>\n",
       "      <td>48.0</td>\n",
       "      <td>58.0</td>\n",
       "      <td>49</td>\n",
       "      <td>11</td>\n",
       "      <td>1.050</td>\n",
       "      <td>1</td>\n",
       "    </tr>\n",
       "    <tr>\n",
       "      <th>77</th>\n",
       "      <td>chick-fil-a</td>\n",
       "      <td>Salad</td>\n",
       "      <td>Hearty Breast of Chicken Soup: large</td>\n",
       "      <td>8.35</td>\n",
       "      <td>220</td>\n",
       "      <td>12.0</td>\n",
       "      <td>6.0</td>\n",
       "      <td>30</td>\n",
       "      <td>5</td>\n",
       "      <td>1.760</td>\n",
       "      <td>1</td>\n",
       "    </tr>\n",
       "    <tr>\n",
       "      <th>78</th>\n",
       "      <td>chick-fil-a</td>\n",
       "      <td>Salad</td>\n",
       "      <td>Chick-n-Strip Salad</td>\n",
       "      <td>8.19</td>\n",
       "      <td>470</td>\n",
       "      <td>41.0</td>\n",
       "      <td>23.0</td>\n",
       "      <td>27</td>\n",
       "      <td>8</td>\n",
       "      <td>1.340</td>\n",
       "      <td>1</td>\n",
       "    </tr>\n",
       "    <tr>\n",
       "      <th>79</th>\n",
       "      <td>chick-fil-a</td>\n",
       "      <td>Salad</td>\n",
       "      <td>Chargrilled &amp; Fruit Salad</td>\n",
       "      <td>8.19</td>\n",
       "      <td>230</td>\n",
       "      <td>22.0</td>\n",
       "      <td>6.0</td>\n",
       "      <td>23</td>\n",
       "      <td>15</td>\n",
       "      <td>0.650</td>\n",
       "      <td>1</td>\n",
       "    </tr>\n",
       "    <tr>\n",
       "      <th>80</th>\n",
       "      <td>chick-fil-a</td>\n",
       "      <td>Salad</td>\n",
       "      <td>Southwest Chargrilled Salad</td>\n",
       "      <td>8.19</td>\n",
       "      <td>240</td>\n",
       "      <td>26.0</td>\n",
       "      <td>9.0</td>\n",
       "      <td>18</td>\n",
       "      <td>7</td>\n",
       "      <td>0.820</td>\n",
       "      <td>1</td>\n",
       "    </tr>\n",
       "    <tr>\n",
       "      <th>81</th>\n",
       "      <td>chick-fil-a</td>\n",
       "      <td>Salad</td>\n",
       "      <td>Chargrilled Chicken Garden Salad</td>\n",
       "      <td>8.19</td>\n",
       "      <td>180</td>\n",
       "      <td>22.0</td>\n",
       "      <td>6.0</td>\n",
       "      <td>11</td>\n",
       "      <td>6</td>\n",
       "      <td>0.650</td>\n",
       "      <td>1</td>\n",
       "    </tr>\n",
       "    <tr>\n",
       "      <th>82</th>\n",
       "      <td>chick-fil-a</td>\n",
       "      <td>Salad</td>\n",
       "      <td>Garlic and Butter Croutons</td>\n",
       "      <td>6.19</td>\n",
       "      <td>60</td>\n",
       "      <td>1.0</td>\n",
       "      <td>2.0</td>\n",
       "      <td>9</td>\n",
       "      <td>15</td>\n",
       "      <td>0.150</td>\n",
       "      <td>1</td>\n",
       "    </tr>\n",
       "    <tr>\n",
       "      <th>83</th>\n",
       "      <td>chick-fil-a</td>\n",
       "      <td>Sandwich</td>\n",
       "      <td>Chargrilled Chicken Club Sandwich</td>\n",
       "      <td>5.59</td>\n",
       "      <td>410</td>\n",
       "      <td>37.0</td>\n",
       "      <td>12.0</td>\n",
       "      <td>39</td>\n",
       "      <td>16</td>\n",
       "      <td>1.460</td>\n",
       "      <td>1</td>\n",
       "    </tr>\n",
       "    <tr>\n",
       "      <th>84</th>\n",
       "      <td>chick-fil-a</td>\n",
       "      <td>Sandwich</td>\n",
       "      <td>Chargrilled Chicken Sandwich</td>\n",
       "      <td>5.59</td>\n",
       "      <td>300</td>\n",
       "      <td>29.0</td>\n",
       "      <td>4.0</td>\n",
       "      <td>38</td>\n",
       "      <td>17</td>\n",
       "      <td>1.120</td>\n",
       "      <td>1</td>\n",
       "    </tr>\n",
       "    <tr>\n",
       "      <th>85</th>\n",
       "      <td>chick-fil-a</td>\n",
       "      <td>Sandwich</td>\n",
       "      <td>Spicy Chicken Cool Wrap</td>\n",
       "      <td>5.19</td>\n",
       "      <td>410</td>\n",
       "      <td>35.0</td>\n",
       "      <td>12.0</td>\n",
       "      <td>48</td>\n",
       "      <td>13</td>\n",
       "      <td>1.380</td>\n",
       "      <td>1</td>\n",
       "    </tr>\n",
       "    <tr>\n",
       "      <th>86</th>\n",
       "      <td>chick-fil-a</td>\n",
       "      <td>Sandwich</td>\n",
       "      <td>Chicken Caesar Cool Wrap</td>\n",
       "      <td>5.19</td>\n",
       "      <td>460</td>\n",
       "      <td>39.0</td>\n",
       "      <td>15.0</td>\n",
       "      <td>47</td>\n",
       "      <td>10</td>\n",
       "      <td>1.520</td>\n",
       "      <td>1</td>\n",
       "    </tr>\n",
       "    <tr>\n",
       "      <th>143</th>\n",
       "      <td>mcdonalds</td>\n",
       "      <td>Sandwich</td>\n",
       "      <td>Chicken McNuggets (40 piece)</td>\n",
       "      <td>8.99</td>\n",
       "      <td>1880</td>\n",
       "      <td>87.0</td>\n",
       "      <td>118.0</td>\n",
       "      <td>118</td>\n",
       "      <td>1</td>\n",
       "      <td>3.600</td>\n",
       "      <td>1</td>\n",
       "    </tr>\n",
       "    <tr>\n",
       "      <th>144</th>\n",
       "      <td>mcdonalds</td>\n",
       "      <td>Breakfast</td>\n",
       "      <td>Big Breakfast with Hotcakes (Regular Biscuit)</td>\n",
       "      <td>5.49</td>\n",
       "      <td>1090</td>\n",
       "      <td>36.0</td>\n",
       "      <td>56.0</td>\n",
       "      <td>111</td>\n",
       "      <td>17</td>\n",
       "      <td>2.150</td>\n",
       "      <td>1</td>\n",
       "    </tr>\n",
       "    <tr>\n",
       "      <th>145</th>\n",
       "      <td>mcdonalds</td>\n",
       "      <td>Breakfast</td>\n",
       "      <td>Big Breakfast with Egg Whites (Regular Biscuit)</td>\n",
       "      <td>5.49</td>\n",
       "      <td>640</td>\n",
       "      <td>26.0</td>\n",
       "      <td>37.0</td>\n",
       "      <td>50</td>\n",
       "      <td>3</td>\n",
       "      <td>1.590</td>\n",
       "      <td>1</td>\n",
       "    </tr>\n",
       "    <tr>\n",
       "      <th>146</th>\n",
       "      <td>mcdonalds</td>\n",
       "      <td>Breakfast</td>\n",
       "      <td>Big Breakfast (Large Biscuit)</td>\n",
       "      <td>5.49</td>\n",
       "      <td>800</td>\n",
       "      <td>28.0</td>\n",
       "      <td>52.0</td>\n",
       "      <td>56</td>\n",
       "      <td>3</td>\n",
       "      <td>1.680</td>\n",
       "      <td>1</td>\n",
       "    </tr>\n",
       "    <tr>\n",
       "      <th>147</th>\n",
       "      <td>mcdonalds</td>\n",
       "      <td>Breakfast</td>\n",
       "      <td>Big Breakfast with Hotcakes and Egg Whites (Re...</td>\n",
       "      <td>5.49</td>\n",
       "      <td>990</td>\n",
       "      <td>35.0</td>\n",
       "      <td>46.0</td>\n",
       "      <td>110</td>\n",
       "      <td>17</td>\n",
       "      <td>2.170</td>\n",
       "      <td>1</td>\n",
       "    </tr>\n",
       "    <tr>\n",
       "      <th>148</th>\n",
       "      <td>mcdonalds</td>\n",
       "      <td>Sandwich</td>\n",
       "      <td>Chicken McNuggets (20 piece)</td>\n",
       "      <td>5.00</td>\n",
       "      <td>940</td>\n",
       "      <td>44.0</td>\n",
       "      <td>59.0</td>\n",
       "      <td>59</td>\n",
       "      <td>0</td>\n",
       "      <td>1.800</td>\n",
       "      <td>1</td>\n",
       "    </tr>\n",
       "    <tr>\n",
       "      <th>149</th>\n",
       "      <td>mcdonalds</td>\n",
       "      <td>Salad</td>\n",
       "      <td>Premium Southwest Salad (without Chicken)</td>\n",
       "      <td>4.79</td>\n",
       "      <td>140</td>\n",
       "      <td>6.0</td>\n",
       "      <td>4.5</td>\n",
       "      <td>20</td>\n",
       "      <td>6</td>\n",
       "      <td>0.150</td>\n",
       "      <td>1</td>\n",
       "    </tr>\n",
       "    <tr>\n",
       "      <th>150</th>\n",
       "      <td>mcdonalds</td>\n",
       "      <td>Sandwich</td>\n",
       "      <td>Double Quarter Pounder with Cheese</td>\n",
       "      <td>4.79</td>\n",
       "      <td>750</td>\n",
       "      <td>48.0</td>\n",
       "      <td>43.0</td>\n",
       "      <td>42</td>\n",
       "      <td>10</td>\n",
       "      <td>1.280</td>\n",
       "      <td>1</td>\n",
       "    </tr>\n",
       "    <tr>\n",
       "      <th>151</th>\n",
       "      <td>mcdonalds</td>\n",
       "      <td>Salad</td>\n",
       "      <td>Premium Bacon Ranch Salad (without Chicken)</td>\n",
       "      <td>4.59</td>\n",
       "      <td>140</td>\n",
       "      <td>9.0</td>\n",
       "      <td>7.0</td>\n",
       "      <td>10</td>\n",
       "      <td>4</td>\n",
       "      <td>0.300</td>\n",
       "      <td>1</td>\n",
       "    </tr>\n",
       "    <tr>\n",
       "      <th>152</th>\n",
       "      <td>mcdonalds</td>\n",
       "      <td>Sandwich</td>\n",
       "      <td>Bacon Clubhouse Crispy Chicken Sandwich</td>\n",
       "      <td>4.49</td>\n",
       "      <td>750</td>\n",
       "      <td>36.0</td>\n",
       "      <td>38.0</td>\n",
       "      <td>65</td>\n",
       "      <td>16</td>\n",
       "      <td>1.720</td>\n",
       "      <td>1</td>\n",
       "    </tr>\n",
       "    <tr>\n",
       "      <th>303</th>\n",
       "      <td>starbucks</td>\n",
       "      <td>Salad</td>\n",
       "      <td>Cage-Free Eggs &amp; Seasoned Grains Side Salad</td>\n",
       "      <td>8.95</td>\n",
       "      <td>360</td>\n",
       "      <td>18.0</td>\n",
       "      <td>33.0</td>\n",
       "      <td>4</td>\n",
       "      <td>17</td>\n",
       "      <td>0.460</td>\n",
       "      <td>1</td>\n",
       "    </tr>\n",
       "    <tr>\n",
       "      <th>304</th>\n",
       "      <td>starbucks</td>\n",
       "      <td>Salad</td>\n",
       "      <td>Chicken &amp; Fig Spread</td>\n",
       "      <td>8.95</td>\n",
       "      <td>460</td>\n",
       "      <td>13.0</td>\n",
       "      <td>61.0</td>\n",
       "      <td>15</td>\n",
       "      <td>24</td>\n",
       "      <td>0.940</td>\n",
       "      <td>1</td>\n",
       "    </tr>\n",
       "    <tr>\n",
       "      <th>305</th>\n",
       "      <td>starbucks</td>\n",
       "      <td>Salad</td>\n",
       "      <td>Cauliflower Tabbouleh Side Salad</td>\n",
       "      <td>8.95</td>\n",
       "      <td>130</td>\n",
       "      <td>12.0</td>\n",
       "      <td>7.0</td>\n",
       "      <td>3</td>\n",
       "      <td>2</td>\n",
       "      <td>0.520</td>\n",
       "      <td>1</td>\n",
       "    </tr>\n",
       "    <tr>\n",
       "      <th>306</th>\n",
       "      <td>starbucks</td>\n",
       "      <td>Salad</td>\n",
       "      <td>Seasoned Turkey &amp; Green Pepper Pico</td>\n",
       "      <td>7.99</td>\n",
       "      <td>390</td>\n",
       "      <td>18.0</td>\n",
       "      <td>30.0</td>\n",
       "      <td>8</td>\n",
       "      <td>28</td>\n",
       "      <td>0.900</td>\n",
       "      <td>1</td>\n",
       "    </tr>\n",
       "    <tr>\n",
       "      <th>307</th>\n",
       "      <td>starbucks</td>\n",
       "      <td>Salad</td>\n",
       "      <td>Roasted Turkey &amp; Dill Havarti</td>\n",
       "      <td>7.45</td>\n",
       "      <td>580</td>\n",
       "      <td>31.0</td>\n",
       "      <td>46.0</td>\n",
       "      <td>4</td>\n",
       "      <td>32</td>\n",
       "      <td>0.860</td>\n",
       "      <td>1</td>\n",
       "    </tr>\n",
       "    <tr>\n",
       "      <th>308</th>\n",
       "      <td>starbucks</td>\n",
       "      <td>Salad</td>\n",
       "      <td>Smoked Mozzarella &amp; Roasted Peppers</td>\n",
       "      <td>6.99</td>\n",
       "      <td>540</td>\n",
       "      <td>28.0</td>\n",
       "      <td>53.0</td>\n",
       "      <td>8</td>\n",
       "      <td>19</td>\n",
       "      <td>1.190</td>\n",
       "      <td>1</td>\n",
       "    </tr>\n",
       "    <tr>\n",
       "      <th>309</th>\n",
       "      <td>starbucks</td>\n",
       "      <td>Salad</td>\n",
       "      <td>Smoked Pork Cubano</td>\n",
       "      <td>6.95</td>\n",
       "      <td>450</td>\n",
       "      <td>25.0</td>\n",
       "      <td>66.0</td>\n",
       "      <td>3</td>\n",
       "      <td>21</td>\n",
       "      <td>1.200</td>\n",
       "      <td>1</td>\n",
       "    </tr>\n",
       "    <tr>\n",
       "      <th>310</th>\n",
       "      <td>starbucks</td>\n",
       "      <td>Sandwich</td>\n",
       "      <td>Turkey Pesto Panini</td>\n",
       "      <td>6.45</td>\n",
       "      <td>540</td>\n",
       "      <td>21.0</td>\n",
       "      <td>55.0</td>\n",
       "      <td>3</td>\n",
       "      <td>33</td>\n",
       "      <td>1.190</td>\n",
       "      <td>1</td>\n",
       "    </tr>\n",
       "    <tr>\n",
       "      <th>311</th>\n",
       "      <td>starbucks</td>\n",
       "      <td>Sandwich</td>\n",
       "      <td>Ham &amp; Swiss Panini</td>\n",
       "      <td>5.95</td>\n",
       "      <td>490</td>\n",
       "      <td>24.0</td>\n",
       "      <td>42.0</td>\n",
       "      <td>2</td>\n",
       "      <td>25</td>\n",
       "      <td>1.250</td>\n",
       "      <td>1</td>\n",
       "    </tr>\n",
       "    <tr>\n",
       "      <th>312</th>\n",
       "      <td>starbucks</td>\n",
       "      <td>Sandwich</td>\n",
       "      <td>Chicken Caprese</td>\n",
       "      <td>5.95</td>\n",
       "      <td>500</td>\n",
       "      <td>18.0</td>\n",
       "      <td>58.0</td>\n",
       "      <td>3</td>\n",
       "      <td>28</td>\n",
       "      <td>0.900</td>\n",
       "      <td>1</td>\n",
       "    </tr>\n",
       "    <tr>\n",
       "      <th>465</th>\n",
       "      <td>subway</td>\n",
       "      <td>Salad</td>\n",
       "      <td>Roast Beef</td>\n",
       "      <td>8.78</td>\n",
       "      <td>140</td>\n",
       "      <td>3.5</td>\n",
       "      <td>10.0</td>\n",
       "      <td>5</td>\n",
       "      <td>19</td>\n",
       "      <td>0.460</td>\n",
       "      <td>1</td>\n",
       "    </tr>\n",
       "    <tr>\n",
       "      <th>466</th>\n",
       "      <td>subway</td>\n",
       "      <td>Salad</td>\n",
       "      <td>Subway Club®</td>\n",
       "      <td>8.78</td>\n",
       "      <td>140</td>\n",
       "      <td>3.0</td>\n",
       "      <td>11.0</td>\n",
       "      <td>5</td>\n",
       "      <td>19</td>\n",
       "      <td>0.610</td>\n",
       "      <td>1</td>\n",
       "    </tr>\n",
       "    <tr>\n",
       "      <th>467</th>\n",
       "      <td>subway</td>\n",
       "      <td>Salad</td>\n",
       "      <td>Chicken &amp; Bacon Ranch</td>\n",
       "      <td>8.78</td>\n",
       "      <td>460</td>\n",
       "      <td>33.0</td>\n",
       "      <td>13.0</td>\n",
       "      <td>7</td>\n",
       "      <td>32</td>\n",
       "      <td>1.000</td>\n",
       "      <td>1</td>\n",
       "    </tr>\n",
       "    <tr>\n",
       "      <th>468</th>\n",
       "      <td>subway</td>\n",
       "      <td>Salad</td>\n",
       "      <td>Steak &amp; Cheese</td>\n",
       "      <td>8.78</td>\n",
       "      <td>200</td>\n",
       "      <td>9.0</td>\n",
       "      <td>13.0</td>\n",
       "      <td>7</td>\n",
       "      <td>19</td>\n",
       "      <td>0.830</td>\n",
       "      <td>1</td>\n",
       "    </tr>\n",
       "    <tr>\n",
       "      <th>469</th>\n",
       "      <td>subway</td>\n",
       "      <td>Sandwich</td>\n",
       "      <td>Turkey &amp; Bacon Guacamole</td>\n",
       "      <td>8.29</td>\n",
       "      <td>780</td>\n",
       "      <td>27.0</td>\n",
       "      <td>87.0</td>\n",
       "      <td>11</td>\n",
       "      <td>49</td>\n",
       "      <td>2.200</td>\n",
       "      <td>1</td>\n",
       "    </tr>\n",
       "    <tr>\n",
       "      <th>470</th>\n",
       "      <td>subway</td>\n",
       "      <td>Salad</td>\n",
       "      <td>Black Forest Ham</td>\n",
       "      <td>7.99</td>\n",
       "      <td>120</td>\n",
       "      <td>3.0</td>\n",
       "      <td>12.0</td>\n",
       "      <td>6</td>\n",
       "      <td>13</td>\n",
       "      <td>0.550</td>\n",
       "      <td>1</td>\n",
       "    </tr>\n",
       "    <tr>\n",
       "      <th>471</th>\n",
       "      <td>subway</td>\n",
       "      <td>Salad</td>\n",
       "      <td>Steak Club Salad</td>\n",
       "      <td>7.99</td>\n",
       "      <td>480</td>\n",
       "      <td>26.0</td>\n",
       "      <td>21.0</td>\n",
       "      <td>9</td>\n",
       "      <td>44</td>\n",
       "      <td>2.050</td>\n",
       "      <td>1</td>\n",
       "    </tr>\n",
       "    <tr>\n",
       "      <th>472</th>\n",
       "      <td>subway</td>\n",
       "      <td>Salad</td>\n",
       "      <td>Rotisserie-Style Chicken</td>\n",
       "      <td>7.78</td>\n",
       "      <td>170</td>\n",
       "      <td>5.0</td>\n",
       "      <td>10.0</td>\n",
       "      <td>5</td>\n",
       "      <td>23</td>\n",
       "      <td>0.360</td>\n",
       "      <td>1</td>\n",
       "    </tr>\n",
       "    <tr>\n",
       "      <th>473</th>\n",
       "      <td>subway</td>\n",
       "      <td>Salad</td>\n",
       "      <td>Turkey Breast</td>\n",
       "      <td>7.78</td>\n",
       "      <td>110</td>\n",
       "      <td>2.0</td>\n",
       "      <td>11.0</td>\n",
       "      <td>5</td>\n",
       "      <td>14</td>\n",
       "      <td>0.520</td>\n",
       "      <td>1</td>\n",
       "    </tr>\n",
       "    <tr>\n",
       "      <th>474</th>\n",
       "      <td>subway</td>\n",
       "      <td>Salad</td>\n",
       "      <td>Tuna</td>\n",
       "      <td>7.78</td>\n",
       "      <td>310</td>\n",
       "      <td>24.0</td>\n",
       "      <td>10.0</td>\n",
       "      <td>5</td>\n",
       "      <td>15</td>\n",
       "      <td>0.370</td>\n",
       "      <td>1</td>\n",
       "    </tr>\n",
       "  </tbody>\n",
       "</table>\n",
       "</div>"
      ],
      "text/plain": [
       "      Restaurant   Category  \\\n",
       "0     burgerking      Salad   \n",
       "1     burgerking      Salad   \n",
       "2     burgerking   Sandwich   \n",
       "3     burgerking   Sandwich   \n",
       "4     burgerking   Sandwich   \n",
       "5     burgerking   Sandwich   \n",
       "6     burgerking   Sandwich   \n",
       "7     burgerking      Salad   \n",
       "8     burgerking   Sandwich   \n",
       "9     burgerking   Sandwich   \n",
       "77   chick-fil-a      Salad   \n",
       "78   chick-fil-a      Salad   \n",
       "79   chick-fil-a      Salad   \n",
       "80   chick-fil-a      Salad   \n",
       "81   chick-fil-a      Salad   \n",
       "82   chick-fil-a      Salad   \n",
       "83   chick-fil-a   Sandwich   \n",
       "84   chick-fil-a   Sandwich   \n",
       "85   chick-fil-a   Sandwich   \n",
       "86   chick-fil-a   Sandwich   \n",
       "143    mcdonalds   Sandwich   \n",
       "144    mcdonalds  Breakfast   \n",
       "145    mcdonalds  Breakfast   \n",
       "146    mcdonalds  Breakfast   \n",
       "147    mcdonalds  Breakfast   \n",
       "148    mcdonalds   Sandwich   \n",
       "149    mcdonalds      Salad   \n",
       "150    mcdonalds   Sandwich   \n",
       "151    mcdonalds      Salad   \n",
       "152    mcdonalds   Sandwich   \n",
       "303    starbucks      Salad   \n",
       "304    starbucks      Salad   \n",
       "305    starbucks      Salad   \n",
       "306    starbucks      Salad   \n",
       "307    starbucks      Salad   \n",
       "308    starbucks      Salad   \n",
       "309    starbucks      Salad   \n",
       "310    starbucks   Sandwich   \n",
       "311    starbucks   Sandwich   \n",
       "312    starbucks   Sandwich   \n",
       "465       subway      Salad   \n",
       "466       subway      Salad   \n",
       "467       subway      Salad   \n",
       "468       subway      Salad   \n",
       "469       subway   Sandwich   \n",
       "470       subway      Salad   \n",
       "471       subway      Salad   \n",
       "472       subway      Salad   \n",
       "473       subway      Salad   \n",
       "474       subway      Salad   \n",
       "\n",
       "                                                 Items  Cost (USD)  Calories  \\\n",
       "0    Garden Chicken Salad with Crispy Chicken – no ...        7.09       440   \n",
       "1         Club Salad with Crispy Chicken – no dressing        7.09       540   \n",
       "2                                  Bacon King Sandwich        6.99      1150   \n",
       "3                             Triple Whopper® Sandwich        6.39      1130   \n",
       "4               Bacon & Cheese Crispy Chicken Sandwich        6.09       800   \n",
       "5                    BBQ Bacon Crispy Chicken Sandwich        6.09       790   \n",
       "6                        Spicy Crispy Chicken Sandwich        5.69       700   \n",
       "7                     Garden Side Salad – w/o dressing        5.59        60   \n",
       "8                         IMPOSSIBLE Whopper® Sandwich        5.49       630   \n",
       "9                             Double Whopper® Sandwich        5.29       900   \n",
       "77                Hearty Breast of Chicken Soup: large        8.35       220   \n",
       "78                                 Chick-n-Strip Salad        8.19       470   \n",
       "79                           Chargrilled & Fruit Salad        8.19       230   \n",
       "80                         Southwest Chargrilled Salad        8.19       240   \n",
       "81                    Chargrilled Chicken Garden Salad        8.19       180   \n",
       "82                          Garlic and Butter Croutons        6.19        60   \n",
       "83                   Chargrilled Chicken Club Sandwich        5.59       410   \n",
       "84                        Chargrilled Chicken Sandwich        5.59       300   \n",
       "85                             Spicy Chicken Cool Wrap        5.19       410   \n",
       "86                            Chicken Caesar Cool Wrap        5.19       460   \n",
       "143                       Chicken McNuggets (40 piece)        8.99      1880   \n",
       "144      Big Breakfast with Hotcakes (Regular Biscuit)        5.49      1090   \n",
       "145    Big Breakfast with Egg Whites (Regular Biscuit)        5.49       640   \n",
       "146                      Big Breakfast (Large Biscuit)        5.49       800   \n",
       "147  Big Breakfast with Hotcakes and Egg Whites (Re...        5.49       990   \n",
       "148                       Chicken McNuggets (20 piece)        5.00       940   \n",
       "149          Premium Southwest Salad (without Chicken)        4.79       140   \n",
       "150                 Double Quarter Pounder with Cheese        4.79       750   \n",
       "151        Premium Bacon Ranch Salad (without Chicken)        4.59       140   \n",
       "152            Bacon Clubhouse Crispy Chicken Sandwich        4.49       750   \n",
       "303        Cage-Free Eggs & Seasoned Grains Side Salad        8.95       360   \n",
       "304                               Chicken & Fig Spread        8.95       460   \n",
       "305                   Cauliflower Tabbouleh Side Salad        8.95       130   \n",
       "306                Seasoned Turkey & Green Pepper Pico        7.99       390   \n",
       "307                      Roasted Turkey & Dill Havarti        7.45       580   \n",
       "308                Smoked Mozzarella & Roasted Peppers        6.99       540   \n",
       "309                                 Smoked Pork Cubano        6.95       450   \n",
       "310                                Turkey Pesto Panini        6.45       540   \n",
       "311                                 Ham & Swiss Panini        5.95       490   \n",
       "312                                    Chicken Caprese        5.95       500   \n",
       "465                                         Roast Beef        8.78       140   \n",
       "466                                       Subway Club®        8.78       140   \n",
       "467                              Chicken & Bacon Ranch        8.78       460   \n",
       "468                                     Steak & Cheese        8.78       200   \n",
       "469                           Turkey & Bacon Guacamole        8.29       780   \n",
       "470                                   Black Forest Ham        7.99       120   \n",
       "471                                   Steak Club Salad        7.99       480   \n",
       "472                           Rotisserie-Style Chicken        7.78       170   \n",
       "473                                      Turkey Breast        7.78       110   \n",
       "474                                               Tuna        7.78       310   \n",
       "\n",
       "     Protein (g)  Fat (g)  Carbs (g)  Sugar (g)  Sodium (g)  quantity  \n",
       "0           25.0     25.0         31          4       0.930         1  \n",
       "1           31.0     33.0         31          5       1.380         1  \n",
       "2           61.0     79.0         49         10       2.150         1  \n",
       "3           67.0     75.0         49         11       1.120         1  \n",
       "4           30.0     52.0         55          8       1.650         1  \n",
       "5           28.0     49.0         60         13       1.630         1  \n",
       "6           25.0     42.0         57          8       1.140         1  \n",
       "7            4.0      4.0          3          2       0.095         1  \n",
       "8           25.0     34.0         58         12       1.080         1  \n",
       "9           48.0     58.0         49         11       1.050         1  \n",
       "77          12.0      6.0         30          5       1.760         1  \n",
       "78          41.0     23.0         27          8       1.340         1  \n",
       "79          22.0      6.0         23         15       0.650         1  \n",
       "80          26.0      9.0         18          7       0.820         1  \n",
       "81          22.0      6.0         11          6       0.650         1  \n",
       "82           1.0      2.0          9         15       0.150         1  \n",
       "83          37.0     12.0         39         16       1.460         1  \n",
       "84          29.0      4.0         38         17       1.120         1  \n",
       "85          35.0     12.0         48         13       1.380         1  \n",
       "86          39.0     15.0         47         10       1.520         1  \n",
       "143         87.0    118.0        118          1       3.600         1  \n",
       "144         36.0     56.0        111         17       2.150         1  \n",
       "145         26.0     37.0         50          3       1.590         1  \n",
       "146         28.0     52.0         56          3       1.680         1  \n",
       "147         35.0     46.0        110         17       2.170         1  \n",
       "148         44.0     59.0         59          0       1.800         1  \n",
       "149          6.0      4.5         20          6       0.150         1  \n",
       "150         48.0     43.0         42         10       1.280         1  \n",
       "151          9.0      7.0         10          4       0.300         1  \n",
       "152         36.0     38.0         65         16       1.720         1  \n",
       "303         18.0     33.0          4         17       0.460         1  \n",
       "304         13.0     61.0         15         24       0.940         1  \n",
       "305         12.0      7.0          3          2       0.520         1  \n",
       "306         18.0     30.0          8         28       0.900         1  \n",
       "307         31.0     46.0          4         32       0.860         1  \n",
       "308         28.0     53.0          8         19       1.190         1  \n",
       "309         25.0     66.0          3         21       1.200         1  \n",
       "310         21.0     55.0          3         33       1.190         1  \n",
       "311         24.0     42.0          2         25       1.250         1  \n",
       "312         18.0     58.0          3         28       0.900         1  \n",
       "465          3.5     10.0          5         19       0.460         1  \n",
       "466          3.0     11.0          5         19       0.610         1  \n",
       "467         33.0     13.0          7         32       1.000         1  \n",
       "468          9.0     13.0          7         19       0.830         1  \n",
       "469         27.0     87.0         11         49       2.200         1  \n",
       "470          3.0     12.0          6         13       0.550         1  \n",
       "471         26.0     21.0          9         44       2.050         1  \n",
       "472          5.0     10.0          5         23       0.360         1  \n",
       "473          2.0     11.0          5         14       0.520         1  \n",
       "474         24.0     10.0          5         15       0.370         1  "
      ]
     },
     "execution_count": 9,
     "metadata": {},
     "output_type": "execute_result"
    }
   ],
   "source": [
    "g = df.groupby([\"Restaurant\"]).apply(lambda x: x.sort_values([\"Cost (USD)\"], ascending = False)).reset_index(drop=True)\n",
    "g1 = g.groupby('Restaurant').head(10)\n",
    "g1"
   ]
  },
  {
   "cell_type": "code",
   "execution_count": 36,
   "metadata": {},
   "outputs": [
    {
     "data": {
      "application/vnd.plotly.v1+json": {
       "config": {
        "plotlyServerURL": "https://plot.ly"
       },
       "data": [
        {
         "alignmentgroup": "True",
         "hovertemplate": "Items=%{x}<br>Cost (USD)=%{y}<extra></extra>",
         "legendgroup": "",
         "marker": {
          "color": "#636efa"
         },
         "name": "",
         "offsetgroup": "",
         "orientation": "v",
         "showlegend": false,
         "textposition": "auto",
         "type": "bar",
         "x": [
          "Garden Chicken Salad with Crispy Chicken – no dressing",
          "Club Salad with Crispy Chicken – no dressing",
          "Bacon King Sandwich",
          "Triple Whopper® Sandwich",
          "Bacon & Cheese Crispy Chicken Sandwich",
          "BBQ Bacon Crispy Chicken Sandwich",
          "Spicy Crispy Chicken Sandwich",
          "Garden Side Salad – w/o dressing",
          "IMPOSSIBLE Whopper® Sandwich",
          "Double Whopper® Sandwich",
          "Hearty Breast of Chicken Soup: large",
          "Chick-n-Strip Salad",
          "Chargrilled & Fruit Salad",
          "Southwest Chargrilled Salad",
          "Chargrilled Chicken Garden Salad",
          "Garlic and Butter Croutons",
          "Chargrilled Chicken Club Sandwich",
          "Chargrilled Chicken Sandwich",
          "Spicy Chicken Cool Wrap",
          "Chicken Caesar Cool Wrap",
          "Chicken McNuggets (40 piece)",
          "Big Breakfast with Hotcakes (Regular Biscuit)",
          "Big Breakfast with Egg Whites (Regular Biscuit)",
          "Big Breakfast (Large Biscuit)",
          "Big Breakfast with Hotcakes and Egg Whites (Regular Biscuit)",
          "Chicken McNuggets (20 piece)",
          "Premium Southwest Salad (without Chicken)",
          "Double Quarter Pounder with Cheese",
          "Premium Bacon Ranch Salad (without Chicken)",
          "Bacon Clubhouse Crispy Chicken Sandwich",
          "Cage-Free Eggs & Seasoned Grains Side Salad",
          "Chicken & Fig Spread",
          "Cauliflower Tabbouleh Side Salad",
          "Seasoned Turkey & Green Pepper Pico",
          "Roasted Turkey & Dill Havarti",
          "Smoked Mozzarella & Roasted Peppers",
          "Smoked Pork Cubano",
          "Turkey Pesto Panini",
          "Ham & Swiss Panini",
          "Chicken Caprese",
          "Roast Beef",
          "Subway Club®",
          "Chicken & Bacon Ranch",
          "Steak & Cheese",
          "Turkey & Bacon Guacamole",
          "Black Forest Ham",
          "Steak Club Salad",
          "Rotisserie-Style Chicken",
          "Turkey Breast",
          "Tuna"
         ],
         "xaxis": "x",
         "y": [
          7.09,
          7.09,
          6.99,
          6.39,
          6.09,
          6.09,
          5.69,
          5.59,
          5.49,
          5.29,
          8.35,
          8.19,
          8.19,
          8.19,
          8.19,
          6.19,
          5.59,
          5.59,
          5.19,
          5.19,
          8.99,
          5.49,
          5.49,
          5.49,
          5.49,
          5,
          4.79,
          4.79,
          4.59,
          4.49,
          8.95,
          8.95,
          8.95,
          7.99,
          7.45,
          6.99,
          6.95,
          6.45,
          5.95,
          5.95,
          8.78,
          8.78,
          8.78,
          8.78,
          8.29,
          7.99,
          7.99,
          7.78,
          7.78,
          7.78
         ],
         "yaxis": "y"
        }
       ],
       "layout": {
        "barmode": "relative",
        "legend": {
         "tracegroupgap": 0
        },
        "margin": {
         "t": 60
        },
        "template": {
         "data": {
          "bar": [
           {
            "error_x": {
             "color": "#2a3f5f"
            },
            "error_y": {
             "color": "#2a3f5f"
            },
            "marker": {
             "line": {
              "color": "#E5ECF6",
              "width": 0.5
             }
            },
            "type": "bar"
           }
          ],
          "barpolar": [
           {
            "marker": {
             "line": {
              "color": "#E5ECF6",
              "width": 0.5
             }
            },
            "type": "barpolar"
           }
          ],
          "carpet": [
           {
            "aaxis": {
             "endlinecolor": "#2a3f5f",
             "gridcolor": "white",
             "linecolor": "white",
             "minorgridcolor": "white",
             "startlinecolor": "#2a3f5f"
            },
            "baxis": {
             "endlinecolor": "#2a3f5f",
             "gridcolor": "white",
             "linecolor": "white",
             "minorgridcolor": "white",
             "startlinecolor": "#2a3f5f"
            },
            "type": "carpet"
           }
          ],
          "choropleth": [
           {
            "colorbar": {
             "outlinewidth": 0,
             "ticks": ""
            },
            "type": "choropleth"
           }
          ],
          "contour": [
           {
            "colorbar": {
             "outlinewidth": 0,
             "ticks": ""
            },
            "colorscale": [
             [
              0,
              "#0d0887"
             ],
             [
              0.1111111111111111,
              "#46039f"
             ],
             [
              0.2222222222222222,
              "#7201a8"
             ],
             [
              0.3333333333333333,
              "#9c179e"
             ],
             [
              0.4444444444444444,
              "#bd3786"
             ],
             [
              0.5555555555555556,
              "#d8576b"
             ],
             [
              0.6666666666666666,
              "#ed7953"
             ],
             [
              0.7777777777777778,
              "#fb9f3a"
             ],
             [
              0.8888888888888888,
              "#fdca26"
             ],
             [
              1,
              "#f0f921"
             ]
            ],
            "type": "contour"
           }
          ],
          "contourcarpet": [
           {
            "colorbar": {
             "outlinewidth": 0,
             "ticks": ""
            },
            "type": "contourcarpet"
           }
          ],
          "heatmap": [
           {
            "colorbar": {
             "outlinewidth": 0,
             "ticks": ""
            },
            "colorscale": [
             [
              0,
              "#0d0887"
             ],
             [
              0.1111111111111111,
              "#46039f"
             ],
             [
              0.2222222222222222,
              "#7201a8"
             ],
             [
              0.3333333333333333,
              "#9c179e"
             ],
             [
              0.4444444444444444,
              "#bd3786"
             ],
             [
              0.5555555555555556,
              "#d8576b"
             ],
             [
              0.6666666666666666,
              "#ed7953"
             ],
             [
              0.7777777777777778,
              "#fb9f3a"
             ],
             [
              0.8888888888888888,
              "#fdca26"
             ],
             [
              1,
              "#f0f921"
             ]
            ],
            "type": "heatmap"
           }
          ],
          "heatmapgl": [
           {
            "colorbar": {
             "outlinewidth": 0,
             "ticks": ""
            },
            "colorscale": [
             [
              0,
              "#0d0887"
             ],
             [
              0.1111111111111111,
              "#46039f"
             ],
             [
              0.2222222222222222,
              "#7201a8"
             ],
             [
              0.3333333333333333,
              "#9c179e"
             ],
             [
              0.4444444444444444,
              "#bd3786"
             ],
             [
              0.5555555555555556,
              "#d8576b"
             ],
             [
              0.6666666666666666,
              "#ed7953"
             ],
             [
              0.7777777777777778,
              "#fb9f3a"
             ],
             [
              0.8888888888888888,
              "#fdca26"
             ],
             [
              1,
              "#f0f921"
             ]
            ],
            "type": "heatmapgl"
           }
          ],
          "histogram": [
           {
            "marker": {
             "colorbar": {
              "outlinewidth": 0,
              "ticks": ""
             }
            },
            "type": "histogram"
           }
          ],
          "histogram2d": [
           {
            "colorbar": {
             "outlinewidth": 0,
             "ticks": ""
            },
            "colorscale": [
             [
              0,
              "#0d0887"
             ],
             [
              0.1111111111111111,
              "#46039f"
             ],
             [
              0.2222222222222222,
              "#7201a8"
             ],
             [
              0.3333333333333333,
              "#9c179e"
             ],
             [
              0.4444444444444444,
              "#bd3786"
             ],
             [
              0.5555555555555556,
              "#d8576b"
             ],
             [
              0.6666666666666666,
              "#ed7953"
             ],
             [
              0.7777777777777778,
              "#fb9f3a"
             ],
             [
              0.8888888888888888,
              "#fdca26"
             ],
             [
              1,
              "#f0f921"
             ]
            ],
            "type": "histogram2d"
           }
          ],
          "histogram2dcontour": [
           {
            "colorbar": {
             "outlinewidth": 0,
             "ticks": ""
            },
            "colorscale": [
             [
              0,
              "#0d0887"
             ],
             [
              0.1111111111111111,
              "#46039f"
             ],
             [
              0.2222222222222222,
              "#7201a8"
             ],
             [
              0.3333333333333333,
              "#9c179e"
             ],
             [
              0.4444444444444444,
              "#bd3786"
             ],
             [
              0.5555555555555556,
              "#d8576b"
             ],
             [
              0.6666666666666666,
              "#ed7953"
             ],
             [
              0.7777777777777778,
              "#fb9f3a"
             ],
             [
              0.8888888888888888,
              "#fdca26"
             ],
             [
              1,
              "#f0f921"
             ]
            ],
            "type": "histogram2dcontour"
           }
          ],
          "mesh3d": [
           {
            "colorbar": {
             "outlinewidth": 0,
             "ticks": ""
            },
            "type": "mesh3d"
           }
          ],
          "parcoords": [
           {
            "line": {
             "colorbar": {
              "outlinewidth": 0,
              "ticks": ""
             }
            },
            "type": "parcoords"
           }
          ],
          "pie": [
           {
            "automargin": true,
            "type": "pie"
           }
          ],
          "scatter": [
           {
            "marker": {
             "colorbar": {
              "outlinewidth": 0,
              "ticks": ""
             }
            },
            "type": "scatter"
           }
          ],
          "scatter3d": [
           {
            "line": {
             "colorbar": {
              "outlinewidth": 0,
              "ticks": ""
             }
            },
            "marker": {
             "colorbar": {
              "outlinewidth": 0,
              "ticks": ""
             }
            },
            "type": "scatter3d"
           }
          ],
          "scattercarpet": [
           {
            "marker": {
             "colorbar": {
              "outlinewidth": 0,
              "ticks": ""
             }
            },
            "type": "scattercarpet"
           }
          ],
          "scattergeo": [
           {
            "marker": {
             "colorbar": {
              "outlinewidth": 0,
              "ticks": ""
             }
            },
            "type": "scattergeo"
           }
          ],
          "scattergl": [
           {
            "marker": {
             "colorbar": {
              "outlinewidth": 0,
              "ticks": ""
             }
            },
            "type": "scattergl"
           }
          ],
          "scattermapbox": [
           {
            "marker": {
             "colorbar": {
              "outlinewidth": 0,
              "ticks": ""
             }
            },
            "type": "scattermapbox"
           }
          ],
          "scatterpolar": [
           {
            "marker": {
             "colorbar": {
              "outlinewidth": 0,
              "ticks": ""
             }
            },
            "type": "scatterpolar"
           }
          ],
          "scatterpolargl": [
           {
            "marker": {
             "colorbar": {
              "outlinewidth": 0,
              "ticks": ""
             }
            },
            "type": "scatterpolargl"
           }
          ],
          "scatterternary": [
           {
            "marker": {
             "colorbar": {
              "outlinewidth": 0,
              "ticks": ""
             }
            },
            "type": "scatterternary"
           }
          ],
          "surface": [
           {
            "colorbar": {
             "outlinewidth": 0,
             "ticks": ""
            },
            "colorscale": [
             [
              0,
              "#0d0887"
             ],
             [
              0.1111111111111111,
              "#46039f"
             ],
             [
              0.2222222222222222,
              "#7201a8"
             ],
             [
              0.3333333333333333,
              "#9c179e"
             ],
             [
              0.4444444444444444,
              "#bd3786"
             ],
             [
              0.5555555555555556,
              "#d8576b"
             ],
             [
              0.6666666666666666,
              "#ed7953"
             ],
             [
              0.7777777777777778,
              "#fb9f3a"
             ],
             [
              0.8888888888888888,
              "#fdca26"
             ],
             [
              1,
              "#f0f921"
             ]
            ],
            "type": "surface"
           }
          ],
          "table": [
           {
            "cells": {
             "fill": {
              "color": "#EBF0F8"
             },
             "line": {
              "color": "white"
             }
            },
            "header": {
             "fill": {
              "color": "#C8D4E3"
             },
             "line": {
              "color": "white"
             }
            },
            "type": "table"
           }
          ]
         },
         "layout": {
          "annotationdefaults": {
           "arrowcolor": "#2a3f5f",
           "arrowhead": 0,
           "arrowwidth": 1
          },
          "autotypenumbers": "strict",
          "coloraxis": {
           "colorbar": {
            "outlinewidth": 0,
            "ticks": ""
           }
          },
          "colorscale": {
           "diverging": [
            [
             0,
             "#8e0152"
            ],
            [
             0.1,
             "#c51b7d"
            ],
            [
             0.2,
             "#de77ae"
            ],
            [
             0.3,
             "#f1b6da"
            ],
            [
             0.4,
             "#fde0ef"
            ],
            [
             0.5,
             "#f7f7f7"
            ],
            [
             0.6,
             "#e6f5d0"
            ],
            [
             0.7,
             "#b8e186"
            ],
            [
             0.8,
             "#7fbc41"
            ],
            [
             0.9,
             "#4d9221"
            ],
            [
             1,
             "#276419"
            ]
           ],
           "sequential": [
            [
             0,
             "#0d0887"
            ],
            [
             0.1111111111111111,
             "#46039f"
            ],
            [
             0.2222222222222222,
             "#7201a8"
            ],
            [
             0.3333333333333333,
             "#9c179e"
            ],
            [
             0.4444444444444444,
             "#bd3786"
            ],
            [
             0.5555555555555556,
             "#d8576b"
            ],
            [
             0.6666666666666666,
             "#ed7953"
            ],
            [
             0.7777777777777778,
             "#fb9f3a"
            ],
            [
             0.8888888888888888,
             "#fdca26"
            ],
            [
             1,
             "#f0f921"
            ]
           ],
           "sequentialminus": [
            [
             0,
             "#0d0887"
            ],
            [
             0.1111111111111111,
             "#46039f"
            ],
            [
             0.2222222222222222,
             "#7201a8"
            ],
            [
             0.3333333333333333,
             "#9c179e"
            ],
            [
             0.4444444444444444,
             "#bd3786"
            ],
            [
             0.5555555555555556,
             "#d8576b"
            ],
            [
             0.6666666666666666,
             "#ed7953"
            ],
            [
             0.7777777777777778,
             "#fb9f3a"
            ],
            [
             0.8888888888888888,
             "#fdca26"
            ],
            [
             1,
             "#f0f921"
            ]
           ]
          },
          "colorway": [
           "#636efa",
           "#EF553B",
           "#00cc96",
           "#ab63fa",
           "#FFA15A",
           "#19d3f3",
           "#FF6692",
           "#B6E880",
           "#FF97FF",
           "#FECB52"
          ],
          "font": {
           "color": "#2a3f5f"
          },
          "geo": {
           "bgcolor": "white",
           "lakecolor": "white",
           "landcolor": "#E5ECF6",
           "showlakes": true,
           "showland": true,
           "subunitcolor": "white"
          },
          "hoverlabel": {
           "align": "left"
          },
          "hovermode": "closest",
          "mapbox": {
           "style": "light"
          },
          "paper_bgcolor": "white",
          "plot_bgcolor": "#E5ECF6",
          "polar": {
           "angularaxis": {
            "gridcolor": "white",
            "linecolor": "white",
            "ticks": ""
           },
           "bgcolor": "#E5ECF6",
           "radialaxis": {
            "gridcolor": "white",
            "linecolor": "white",
            "ticks": ""
           }
          },
          "scene": {
           "xaxis": {
            "backgroundcolor": "#E5ECF6",
            "gridcolor": "white",
            "gridwidth": 2,
            "linecolor": "white",
            "showbackground": true,
            "ticks": "",
            "zerolinecolor": "white"
           },
           "yaxis": {
            "backgroundcolor": "#E5ECF6",
            "gridcolor": "white",
            "gridwidth": 2,
            "linecolor": "white",
            "showbackground": true,
            "ticks": "",
            "zerolinecolor": "white"
           },
           "zaxis": {
            "backgroundcolor": "#E5ECF6",
            "gridcolor": "white",
            "gridwidth": 2,
            "linecolor": "white",
            "showbackground": true,
            "ticks": "",
            "zerolinecolor": "white"
           }
          },
          "shapedefaults": {
           "line": {
            "color": "#2a3f5f"
           }
          },
          "ternary": {
           "aaxis": {
            "gridcolor": "white",
            "linecolor": "white",
            "ticks": ""
           },
           "baxis": {
            "gridcolor": "white",
            "linecolor": "white",
            "ticks": ""
           },
           "bgcolor": "#E5ECF6",
           "caxis": {
            "gridcolor": "white",
            "linecolor": "white",
            "ticks": ""
           }
          },
          "title": {
           "x": 0.05
          },
          "xaxis": {
           "automargin": true,
           "gridcolor": "white",
           "linecolor": "white",
           "ticks": "",
           "title": {
            "standoff": 15
           },
           "zerolinecolor": "white",
           "zerolinewidth": 2
          },
          "yaxis": {
           "automargin": true,
           "gridcolor": "white",
           "linecolor": "white",
           "ticks": "",
           "title": {
            "standoff": 15
           },
           "zerolinecolor": "white",
           "zerolinewidth": 2
          }
         }
        },
        "xaxis": {
         "anchor": "y",
         "domain": [
          0,
          1
         ],
         "title": {
          "text": "Items"
         }
        },
        "yaxis": {
         "anchor": "x",
         "domain": [
          0,
          1
         ],
         "title": {
          "text": "Cost (USD)"
         }
        }
       }
      },
      "text/html": [
       "<div>                            <div id=\"54c38fbf-eb4d-4c1e-8ca2-c89659e499db\" class=\"plotly-graph-div\" style=\"height:525px; width:100%;\"></div>            <script type=\"text/javascript\">                require([\"plotly\"], function(Plotly) {                    window.PLOTLYENV=window.PLOTLYENV || {};                                    if (document.getElementById(\"54c38fbf-eb4d-4c1e-8ca2-c89659e499db\")) {                    Plotly.newPlot(                        \"54c38fbf-eb4d-4c1e-8ca2-c89659e499db\",                        [{\"alignmentgroup\": \"True\", \"hovertemplate\": \"Items=%{x}<br>Cost (USD)=%{y}<extra></extra>\", \"legendgroup\": \"\", \"marker\": {\"color\": \"#636efa\"}, \"name\": \"\", \"offsetgroup\": \"\", \"orientation\": \"v\", \"showlegend\": false, \"textposition\": \"auto\", \"type\": \"bar\", \"x\": [\"Garden Chicken Salad with Crispy Chicken \\u2013 no dressing\", \"Club Salad with Crispy Chicken \\u2013 no dressing\", \"Bacon King Sandwich\", \"Triple Whopper\\u00ae Sandwich\", \"Bacon & Cheese Crispy Chicken Sandwich\", \"BBQ Bacon Crispy Chicken Sandwich\", \"Spicy Crispy Chicken Sandwich\", \"Garden Side Salad \\u2013 w/o dressing\", \"IMPOSSIBLE Whopper\\u00ae Sandwich\", \"Double Whopper\\u00ae Sandwich\", \"Hearty Breast of Chicken Soup: large\", \"Chick-n-Strip Salad\", \"Chargrilled & Fruit Salad\", \"Southwest Chargrilled Salad\", \"Chargrilled Chicken Garden Salad\", \"Garlic and Butter Croutons\", \"Chargrilled Chicken Club Sandwich\", \"Chargrilled Chicken Sandwich\", \"Spicy Chicken Cool Wrap\", \"Chicken Caesar Cool Wrap\", \"Chicken McNuggets (40 piece)\", \"Big Breakfast with Hotcakes (Regular Biscuit)\", \"Big Breakfast with Egg Whites (Regular Biscuit)\", \"Big Breakfast (Large Biscuit)\", \"Big Breakfast with Hotcakes and Egg Whites (Regular Biscuit)\", \"Chicken McNuggets (20 piece)\", \"Premium Southwest Salad (without Chicken)\", \"Double Quarter Pounder with Cheese\", \"Premium Bacon Ranch Salad (without Chicken)\", \"Bacon Clubhouse Crispy Chicken Sandwich\", \"Cage-Free Eggs & Seasoned Grains Side Salad\", \"Chicken & Fig Spread\", \"Cauliflower Tabbouleh Side Salad\", \"Seasoned Turkey & Green Pepper Pico\", \"Roasted Turkey & Dill Havarti\", \"Smoked Mozzarella & Roasted Peppers\", \"Smoked Pork Cubano\", \"Turkey Pesto Panini\", \"Ham & Swiss Panini\", \"Chicken Caprese\", \"Roast Beef\", \"Subway Club\\u00ae\", \"Chicken & Bacon Ranch\", \"Steak & Cheese\", \"Turkey & Bacon Guacamole\", \"Black Forest Ham\", \"Steak Club Salad\", \"Rotisserie-Style Chicken\", \"Turkey Breast\", \"Tuna\"], \"xaxis\": \"x\", \"y\": [7.09, 7.09, 6.99, 6.39, 6.09, 6.09, 5.69, 5.59, 5.49, 5.29, 8.35, 8.19, 8.19, 8.19, 8.19, 6.19, 5.59, 5.59, 5.19, 5.19, 8.99, 5.49, 5.49, 5.49, 5.49, 5.0, 4.79, 4.79, 4.59, 4.49, 8.95, 8.95, 8.95, 7.99, 7.45, 6.99, 6.95, 6.45, 5.95, 5.95, 8.78, 8.78, 8.78, 8.78, 8.29, 7.99, 7.99, 7.78, 7.78, 7.78], \"yaxis\": \"y\"}],                        {\"barmode\": \"relative\", \"legend\": {\"tracegroupgap\": 0}, \"margin\": {\"t\": 60}, \"template\": {\"data\": {\"bar\": [{\"error_x\": {\"color\": \"#2a3f5f\"}, \"error_y\": {\"color\": \"#2a3f5f\"}, \"marker\": {\"line\": {\"color\": \"#E5ECF6\", \"width\": 0.5}}, \"type\": \"bar\"}], \"barpolar\": [{\"marker\": {\"line\": {\"color\": \"#E5ECF6\", \"width\": 0.5}}, \"type\": \"barpolar\"}], \"carpet\": [{\"aaxis\": {\"endlinecolor\": \"#2a3f5f\", \"gridcolor\": \"white\", \"linecolor\": \"white\", \"minorgridcolor\": \"white\", \"startlinecolor\": \"#2a3f5f\"}, \"baxis\": {\"endlinecolor\": \"#2a3f5f\", \"gridcolor\": \"white\", \"linecolor\": \"white\", \"minorgridcolor\": \"white\", \"startlinecolor\": \"#2a3f5f\"}, \"type\": \"carpet\"}], \"choropleth\": [{\"colorbar\": {\"outlinewidth\": 0, \"ticks\": \"\"}, \"type\": \"choropleth\"}], \"contour\": [{\"colorbar\": {\"outlinewidth\": 0, \"ticks\": \"\"}, \"colorscale\": [[0.0, \"#0d0887\"], [0.1111111111111111, \"#46039f\"], [0.2222222222222222, \"#7201a8\"], [0.3333333333333333, \"#9c179e\"], [0.4444444444444444, \"#bd3786\"], [0.5555555555555556, \"#d8576b\"], [0.6666666666666666, \"#ed7953\"], [0.7777777777777778, \"#fb9f3a\"], [0.8888888888888888, \"#fdca26\"], [1.0, \"#f0f921\"]], \"type\": \"contour\"}], \"contourcarpet\": [{\"colorbar\": {\"outlinewidth\": 0, \"ticks\": \"\"}, \"type\": \"contourcarpet\"}], \"heatmap\": [{\"colorbar\": {\"outlinewidth\": 0, \"ticks\": \"\"}, \"colorscale\": [[0.0, \"#0d0887\"], [0.1111111111111111, \"#46039f\"], [0.2222222222222222, \"#7201a8\"], [0.3333333333333333, \"#9c179e\"], [0.4444444444444444, \"#bd3786\"], [0.5555555555555556, \"#d8576b\"], [0.6666666666666666, \"#ed7953\"], [0.7777777777777778, \"#fb9f3a\"], [0.8888888888888888, \"#fdca26\"], [1.0, \"#f0f921\"]], \"type\": \"heatmap\"}], \"heatmapgl\": [{\"colorbar\": {\"outlinewidth\": 0, \"ticks\": \"\"}, \"colorscale\": [[0.0, \"#0d0887\"], [0.1111111111111111, \"#46039f\"], [0.2222222222222222, \"#7201a8\"], [0.3333333333333333, \"#9c179e\"], [0.4444444444444444, \"#bd3786\"], [0.5555555555555556, \"#d8576b\"], [0.6666666666666666, \"#ed7953\"], [0.7777777777777778, \"#fb9f3a\"], [0.8888888888888888, \"#fdca26\"], [1.0, \"#f0f921\"]], \"type\": \"heatmapgl\"}], \"histogram\": [{\"marker\": {\"colorbar\": {\"outlinewidth\": 0, \"ticks\": \"\"}}, \"type\": \"histogram\"}], \"histogram2d\": [{\"colorbar\": {\"outlinewidth\": 0, \"ticks\": \"\"}, \"colorscale\": [[0.0, \"#0d0887\"], [0.1111111111111111, \"#46039f\"], [0.2222222222222222, \"#7201a8\"], [0.3333333333333333, \"#9c179e\"], [0.4444444444444444, \"#bd3786\"], [0.5555555555555556, \"#d8576b\"], [0.6666666666666666, \"#ed7953\"], [0.7777777777777778, \"#fb9f3a\"], [0.8888888888888888, \"#fdca26\"], [1.0, \"#f0f921\"]], \"type\": \"histogram2d\"}], \"histogram2dcontour\": [{\"colorbar\": {\"outlinewidth\": 0, \"ticks\": \"\"}, \"colorscale\": [[0.0, \"#0d0887\"], [0.1111111111111111, \"#46039f\"], [0.2222222222222222, \"#7201a8\"], [0.3333333333333333, \"#9c179e\"], [0.4444444444444444, \"#bd3786\"], [0.5555555555555556, \"#d8576b\"], [0.6666666666666666, \"#ed7953\"], [0.7777777777777778, \"#fb9f3a\"], [0.8888888888888888, \"#fdca26\"], [1.0, \"#f0f921\"]], \"type\": \"histogram2dcontour\"}], \"mesh3d\": [{\"colorbar\": {\"outlinewidth\": 0, \"ticks\": \"\"}, \"type\": \"mesh3d\"}], \"parcoords\": [{\"line\": {\"colorbar\": {\"outlinewidth\": 0, \"ticks\": \"\"}}, \"type\": \"parcoords\"}], \"pie\": [{\"automargin\": true, \"type\": \"pie\"}], \"scatter\": [{\"marker\": {\"colorbar\": {\"outlinewidth\": 0, \"ticks\": \"\"}}, \"type\": \"scatter\"}], \"scatter3d\": [{\"line\": {\"colorbar\": {\"outlinewidth\": 0, \"ticks\": \"\"}}, \"marker\": {\"colorbar\": {\"outlinewidth\": 0, \"ticks\": \"\"}}, \"type\": \"scatter3d\"}], \"scattercarpet\": [{\"marker\": {\"colorbar\": {\"outlinewidth\": 0, \"ticks\": \"\"}}, \"type\": \"scattercarpet\"}], \"scattergeo\": [{\"marker\": {\"colorbar\": {\"outlinewidth\": 0, \"ticks\": \"\"}}, \"type\": \"scattergeo\"}], \"scattergl\": [{\"marker\": {\"colorbar\": {\"outlinewidth\": 0, \"ticks\": \"\"}}, \"type\": \"scattergl\"}], \"scattermapbox\": [{\"marker\": {\"colorbar\": {\"outlinewidth\": 0, \"ticks\": \"\"}}, \"type\": \"scattermapbox\"}], \"scatterpolar\": [{\"marker\": {\"colorbar\": {\"outlinewidth\": 0, \"ticks\": \"\"}}, \"type\": \"scatterpolar\"}], \"scatterpolargl\": [{\"marker\": {\"colorbar\": {\"outlinewidth\": 0, \"ticks\": \"\"}}, \"type\": \"scatterpolargl\"}], \"scatterternary\": [{\"marker\": {\"colorbar\": {\"outlinewidth\": 0, \"ticks\": \"\"}}, \"type\": \"scatterternary\"}], \"surface\": [{\"colorbar\": {\"outlinewidth\": 0, \"ticks\": \"\"}, \"colorscale\": [[0.0, \"#0d0887\"], [0.1111111111111111, \"#46039f\"], [0.2222222222222222, \"#7201a8\"], [0.3333333333333333, \"#9c179e\"], [0.4444444444444444, \"#bd3786\"], [0.5555555555555556, \"#d8576b\"], [0.6666666666666666, \"#ed7953\"], [0.7777777777777778, \"#fb9f3a\"], [0.8888888888888888, \"#fdca26\"], [1.0, \"#f0f921\"]], \"type\": \"surface\"}], \"table\": [{\"cells\": {\"fill\": {\"color\": \"#EBF0F8\"}, \"line\": {\"color\": \"white\"}}, \"header\": {\"fill\": {\"color\": \"#C8D4E3\"}, \"line\": {\"color\": \"white\"}}, \"type\": \"table\"}]}, \"layout\": {\"annotationdefaults\": {\"arrowcolor\": \"#2a3f5f\", \"arrowhead\": 0, \"arrowwidth\": 1}, \"autotypenumbers\": \"strict\", \"coloraxis\": {\"colorbar\": {\"outlinewidth\": 0, \"ticks\": \"\"}}, \"colorscale\": {\"diverging\": [[0, \"#8e0152\"], [0.1, \"#c51b7d\"], [0.2, \"#de77ae\"], [0.3, \"#f1b6da\"], [0.4, \"#fde0ef\"], [0.5, \"#f7f7f7\"], [0.6, \"#e6f5d0\"], [0.7, \"#b8e186\"], [0.8, \"#7fbc41\"], [0.9, \"#4d9221\"], [1, \"#276419\"]], \"sequential\": [[0.0, \"#0d0887\"], [0.1111111111111111, \"#46039f\"], [0.2222222222222222, \"#7201a8\"], [0.3333333333333333, \"#9c179e\"], [0.4444444444444444, \"#bd3786\"], [0.5555555555555556, \"#d8576b\"], [0.6666666666666666, \"#ed7953\"], [0.7777777777777778, \"#fb9f3a\"], [0.8888888888888888, \"#fdca26\"], [1.0, \"#f0f921\"]], \"sequentialminus\": [[0.0, \"#0d0887\"], [0.1111111111111111, \"#46039f\"], [0.2222222222222222, \"#7201a8\"], [0.3333333333333333, \"#9c179e\"], [0.4444444444444444, \"#bd3786\"], [0.5555555555555556, \"#d8576b\"], [0.6666666666666666, \"#ed7953\"], [0.7777777777777778, \"#fb9f3a\"], [0.8888888888888888, \"#fdca26\"], [1.0, \"#f0f921\"]]}, \"colorway\": [\"#636efa\", \"#EF553B\", \"#00cc96\", \"#ab63fa\", \"#FFA15A\", \"#19d3f3\", \"#FF6692\", \"#B6E880\", \"#FF97FF\", \"#FECB52\"], \"font\": {\"color\": \"#2a3f5f\"}, \"geo\": {\"bgcolor\": \"white\", \"lakecolor\": \"white\", \"landcolor\": \"#E5ECF6\", \"showlakes\": true, \"showland\": true, \"subunitcolor\": \"white\"}, \"hoverlabel\": {\"align\": \"left\"}, \"hovermode\": \"closest\", \"mapbox\": {\"style\": \"light\"}, \"paper_bgcolor\": \"white\", \"plot_bgcolor\": \"#E5ECF6\", \"polar\": {\"angularaxis\": {\"gridcolor\": \"white\", \"linecolor\": \"white\", \"ticks\": \"\"}, \"bgcolor\": \"#E5ECF6\", \"radialaxis\": {\"gridcolor\": \"white\", \"linecolor\": \"white\", \"ticks\": \"\"}}, \"scene\": {\"xaxis\": {\"backgroundcolor\": \"#E5ECF6\", \"gridcolor\": \"white\", \"gridwidth\": 2, \"linecolor\": \"white\", \"showbackground\": true, \"ticks\": \"\", \"zerolinecolor\": \"white\"}, \"yaxis\": {\"backgroundcolor\": \"#E5ECF6\", \"gridcolor\": \"white\", \"gridwidth\": 2, \"linecolor\": \"white\", \"showbackground\": true, \"ticks\": \"\", \"zerolinecolor\": \"white\"}, \"zaxis\": {\"backgroundcolor\": \"#E5ECF6\", \"gridcolor\": \"white\", \"gridwidth\": 2, \"linecolor\": \"white\", \"showbackground\": true, \"ticks\": \"\", \"zerolinecolor\": \"white\"}}, \"shapedefaults\": {\"line\": {\"color\": \"#2a3f5f\"}}, \"ternary\": {\"aaxis\": {\"gridcolor\": \"white\", \"linecolor\": \"white\", \"ticks\": \"\"}, \"baxis\": {\"gridcolor\": \"white\", \"linecolor\": \"white\", \"ticks\": \"\"}, \"bgcolor\": \"#E5ECF6\", \"caxis\": {\"gridcolor\": \"white\", \"linecolor\": \"white\", \"ticks\": \"\"}}, \"title\": {\"x\": 0.05}, \"xaxis\": {\"automargin\": true, \"gridcolor\": \"white\", \"linecolor\": \"white\", \"ticks\": \"\", \"title\": {\"standoff\": 15}, \"zerolinecolor\": \"white\", \"zerolinewidth\": 2}, \"yaxis\": {\"automargin\": true, \"gridcolor\": \"white\", \"linecolor\": \"white\", \"ticks\": \"\", \"title\": {\"standoff\": 15}, \"zerolinecolor\": \"white\", \"zerolinewidth\": 2}}}, \"xaxis\": {\"anchor\": \"y\", \"domain\": [0.0, 1.0], \"title\": {\"text\": \"Items\"}}, \"yaxis\": {\"anchor\": \"x\", \"domain\": [0.0, 1.0], \"title\": {\"text\": \"Cost (USD)\"}}},                        {\"responsive\": true}                    ).then(function(){\n",
       "                            \n",
       "var gd = document.getElementById('54c38fbf-eb4d-4c1e-8ca2-c89659e499db');\n",
       "var x = new MutationObserver(function (mutations, observer) {{\n",
       "        var display = window.getComputedStyle(gd).display;\n",
       "        if (!display || display === 'none') {{\n",
       "            console.log([gd, 'removed!']);\n",
       "            Plotly.purge(gd);\n",
       "            observer.disconnect();\n",
       "        }}\n",
       "}});\n",
       "\n",
       "// Listen for the removal of the full notebook cells\n",
       "var notebookContainer = gd.closest('#notebook-container');\n",
       "if (notebookContainer) {{\n",
       "    x.observe(notebookContainer, {childList: true});\n",
       "}}\n",
       "\n",
       "// Listen for the clearing of the current output cell\n",
       "var outputEl = gd.closest('.output');\n",
       "if (outputEl) {{\n",
       "    x.observe(outputEl, {childList: true});\n",
       "}}\n",
       "\n",
       "                        })                };                });            </script>        </div>"
      ]
     },
     "metadata": {},
     "output_type": "display_data"
    }
   ],
   "source": [
    "import plotly.express as px\n",
    "fig = px.histogram(g1, x=\"Items\", y=\"Cost (USD)\")\n",
    "fig.show()"
   ]
  },
  {
   "cell_type": "code",
   "execution_count": 57,
   "metadata": {},
   "outputs": [],
   "source": [
    "app = dash.Dash()\n",
    "app.layout = html.Div([\n",
    "\n",
    "    html.H1(\"Fast Food Analysis Dashboard\", style={'text-align': 'center'}),\n",
    "\n",
    "    dcc.Dropdown(id=\"select_category\",\n",
    "                 #options=[\n",
    "                 #    {\"label\": \"burgerking\", \"value\": 'burgerking'},\n",
    "                 #    {\"label\": \"chick-fil-a\", \"value\": 'chick-fil-a'},\n",
    "                 #    {\"label\": \"mcdonalds\", \"value\": 'mcdonalds'},\n",
    "                 #    {\"label\": \"starbucks\", \"value\": 'starbucks'},\n",
    "                 #    {\"label\": \"subway\", \"value\": 'subway'}],\n",
    "                 options=[{'label': i, 'value': i} for i in options1],\n",
    "                 multi=False,\n",
    "                 value=\"All Restaurant\",\n",
    "                 style={'width': \"40%\"}\n",
    "                 ),\n",
    "\n",
    "    html.Div(id='output_container', children=[]),\n",
    "    html.Br(),\n",
    "    dcc.Graph(id='fast_food_map', figure={})\n",
    "#        html.Div(\n",
    "#        [\n",
    "#            dcc.Dropdown(\n",
    "#                id=\"Manager\",\n",
    "#                options=[{\n",
    "#                    'label': i,\n",
    "#                    'value': i\n",
    "#                } for i in mgr_options],\n",
    "#                value='All Managers'),\n",
    "#        ],\n",
    "#        style={'width': '25%',\n",
    "#               'display': 'inline-block'}),\n",
    "#    dcc.Graph(id='funnel-graph'),\n",
    "#])\n",
    "])"
   ]
  },
  {
   "cell_type": "code",
   "execution_count": 58,
   "metadata": {},
   "outputs": [],
   "source": [
    "@app.callback(\n",
    "    Output('fast_food_map', 'figure'),\n",
    "    #Output('output_container','children'),\n",
    "    [Input('select_category', 'value')]\n",
    ")\n",
    "\n",
    "#def update_figure(Restaurant):\n",
    "#    #dff = df.copy() - generated report\n",
    "#    dff = df[df['Restaurant'] == Restaurant]\n",
    "#    fig = px.histogram(dff, x=\"Category\", y=\"quantity\")\n",
    "#    return fig\n",
    "\n",
    "def update_figure(category_dropdown_name):\n",
    "    dff = g1['Restaurant'] == category_dropdown_name\n",
    "    fig = px.bar(g1[dff], x=\"Items\", y=\"Cost (USD)\", \n",
    "                 color=\"Restaurant\", barmode=\"group\")\n",
    "    return fig"
   ]
  },
  {
   "cell_type": "code",
   "execution_count": 59,
   "metadata": {},
   "outputs": [
    {
     "name": "stdout",
     "output_type": "stream",
     "text": [
      "Dash is running on http://127.0.0.1:8050/\n",
      "\n",
      "Dash is running on http://127.0.0.1:8050/\n",
      "\n",
      "Dash is running on http://127.0.0.1:8050/\n",
      "\n",
      "Dash is running on http://127.0.0.1:8050/\n",
      "\n",
      "Dash is running on http://127.0.0.1:8050/\n",
      "\n",
      "Dash is running on http://127.0.0.1:8050/\n",
      "\n",
      "Dash is running on http://127.0.0.1:8050/\n",
      "\n",
      "Dash is running on http://127.0.0.1:8050/\n",
      "\n",
      "Dash is running on http://127.0.0.1:8050/\n",
      "\n",
      "Dash is running on http://127.0.0.1:8050/\n",
      "\n",
      " * Serving Flask app \"__main__\" (lazy loading)\n",
      " * Environment: production\n",
      "   WARNING: This is a development server. Do not use it in a production deployment.\n",
      "   Use a production WSGI server instead.\n",
      " * Debug mode: off\n"
     ]
    },
    {
     "name": "stderr",
     "output_type": "stream",
     "text": [
      " * Running on http://127.0.0.1:8050/ (Press CTRL+C to quit)\n",
      "127.0.0.1 - - [03/Apr/2021 13:34:32] \"\u001b[37mGET / HTTP/1.1\u001b[0m\" 200 -\n",
      "127.0.0.1 - - [03/Apr/2021 13:34:32] \"\u001b[37mGET /_dash-layout HTTP/1.1\u001b[0m\" 200 -\n",
      "127.0.0.1 - - [03/Apr/2021 13:34:32] \"\u001b[37mGET /_dash-dependencies HTTP/1.1\u001b[0m\" 200 -\n"
     ]
    },
    {
     "name": "stdout",
     "output_type": "stream",
     "text": [
      "Exception on /_dash-update-component [POST]\n",
      "Traceback (most recent call last):\n",
      "  File \"/Users/kennethlau/opt/anaconda3/lib/python3.7/site-packages/flask/app.py\", line 2446, in wsgi_app\n",
      "    response = self.full_dispatch_request()\n",
      "  File \"/Users/kennethlau/opt/anaconda3/lib/python3.7/site-packages/flask/app.py\", line 1951, in full_dispatch_request\n",
      "    rv = self.handle_user_exception(e)\n",
      "  File \"/Users/kennethlau/opt/anaconda3/lib/python3.7/site-packages/flask/app.py\", line 1820, in handle_user_exception\n",
      "    reraise(exc_type, exc_value, tb)\n",
      "  File \"/Users/kennethlau/opt/anaconda3/lib/python3.7/site-packages/flask/_compat.py\", line 39, in reraise\n",
      "    raise value\n",
      "  File \"/Users/kennethlau/opt/anaconda3/lib/python3.7/site-packages/flask/app.py\", line 1949, in full_dispatch_request\n",
      "    rv = self.dispatch_request()\n",
      "  File \"/Users/kennethlau/opt/anaconda3/lib/python3.7/site-packages/flask/app.py\", line 1935, in dispatch_request\n",
      "    return self.view_functions[rule.endpoint](**req.view_args)\n",
      "  File \"/Users/kennethlau/opt/anaconda3/lib/python3.7/site-packages/dash/dash.py\", line 1078, in dispatch\n",
      "    response.set_data(func(*args, outputs_list=outputs_list))\n",
      "  File \"/Users/kennethlau/opt/anaconda3/lib/python3.7/site-packages/dash/dash.py\", line 1009, in add_context\n",
      "    output_value = func(*args, **kwargs)  # %% callback invoked %%\n",
      "  File \"<ipython-input-58-1346828b412d>\", line 16, in update_figure\n",
      "    color=\"Restaurant\", barmode=\"group\")\n",
      "  File \"/Users/kennethlau/opt/anaconda3/lib/python3.7/site-packages/plotly/express/_chart_types.py\", line 354, in bar\n",
      "    layout_patch=dict(barmode=barmode),\n",
      "  File \"/Users/kennethlau/opt/anaconda3/lib/python3.7/site-packages/plotly/express/_core.py\", line 1861, in make_figure\n",
      "    for val in sorted_group_values[m.grouper]:\n",
      "KeyError: 'Restaurant'\n",
      "Exception on /_dash-update-component [POST]\n",
      "Traceback (most recent call last):\n",
      "  File \"/Users/kennethlau/opt/anaconda3/lib/python3.7/site-packages/flask/app.py\", line 2446, in wsgi_app\n",
      "    response = self.full_dispatch_request()\n",
      "  File \"/Users/kennethlau/opt/anaconda3/lib/python3.7/site-packages/flask/app.py\", line 1951, in full_dispatch_request\n",
      "    rv = self.handle_user_exception(e)\n",
      "  File \"/Users/kennethlau/opt/anaconda3/lib/python3.7/site-packages/flask/app.py\", line 1820, in handle_user_exception\n",
      "    reraise(exc_type, exc_value, tb)\n",
      "  File \"/Users/kennethlau/opt/anaconda3/lib/python3.7/site-packages/flask/_compat.py\", line 39, in reraise\n",
      "    raise value\n",
      "  File \"/Users/kennethlau/opt/anaconda3/lib/python3.7/site-packages/flask/app.py\", line 1949, in full_dispatch_request\n",
      "    rv = self.dispatch_request()\n",
      "  File \"/Users/kennethlau/opt/anaconda3/lib/python3.7/site-packages/flask/app.py\", line 1935, in dispatch_request\n",
      "    return self.view_functions[rule.endpoint](**req.view_args)\n",
      "  File \"/Users/kennethlau/opt/anaconda3/lib/python3.7/site-packages/dash/dash.py\", line 1078, in dispatch\n",
      "    response.set_data(func(*args, outputs_list=outputs_list))\n",
      "  File \"/Users/kennethlau/opt/anaconda3/lib/python3.7/site-packages/dash/dash.py\", line 1009, in add_context\n",
      "    output_value = func(*args, **kwargs)  # %% callback invoked %%\n",
      "  File \"<ipython-input-58-1346828b412d>\", line 16, in update_figure\n",
      "    color=\"Restaurant\", barmode=\"group\")\n",
      "  File \"/Users/kennethlau/opt/anaconda3/lib/python3.7/site-packages/plotly/express/_chart_types.py\", line 354, in bar\n",
      "    layout_patch=dict(barmode=barmode),\n",
      "  File \"/Users/kennethlau/opt/anaconda3/lib/python3.7/site-packages/plotly/express/_core.py\", line 1861, in make_figure\n",
      "    for val in sorted_group_values[m.grouper]:\n",
      "KeyError: 'Restaurant'\n",
      "Exception on /_dash-update-component [POST]\n",
      "Traceback (most recent call last):\n",
      "  File \"/Users/kennethlau/opt/anaconda3/lib/python3.7/site-packages/flask/app.py\", line 2446, in wsgi_app\n",
      "    response = self.full_dispatch_request()\n",
      "  File \"/Users/kennethlau/opt/anaconda3/lib/python3.7/site-packages/flask/app.py\", line 1951, in full_dispatch_request\n",
      "    rv = self.handle_user_exception(e)\n",
      "  File \"/Users/kennethlau/opt/anaconda3/lib/python3.7/site-packages/flask/app.py\", line 1820, in handle_user_exception\n",
      "    reraise(exc_type, exc_value, tb)\n",
      "  File \"/Users/kennethlau/opt/anaconda3/lib/python3.7/site-packages/flask/_compat.py\", line 39, in reraise\n",
      "    raise value\n",
      "  File \"/Users/kennethlau/opt/anaconda3/lib/python3.7/site-packages/flask/app.py\", line 1949, in full_dispatch_request\n",
      "    rv = self.dispatch_request()\n",
      "  File \"/Users/kennethlau/opt/anaconda3/lib/python3.7/site-packages/flask/app.py\", line 1935, in dispatch_request\n",
      "    return self.view_functions[rule.endpoint](**req.view_args)\n",
      "  File \"/Users/kennethlau/opt/anaconda3/lib/python3.7/site-packages/dash/dash.py\", line 1078, in dispatch\n",
      "    response.set_data(func(*args, outputs_list=outputs_list))\n",
      "  File \"/Users/kennethlau/opt/anaconda3/lib/python3.7/site-packages/dash/dash.py\", line 1009, in add_context\n",
      "    output_value = func(*args, **kwargs)  # %% callback invoked %%\n",
      "  File \"<ipython-input-58-1346828b412d>\", line 16, in update_figure\n",
      "    color=\"Restaurant\", barmode=\"group\")\n",
      "  File \"/Users/kennethlau/opt/anaconda3/lib/python3.7/site-packages/plotly/express/_chart_types.py\", line 354, in bar\n",
      "    layout_patch=dict(barmode=barmode),\n",
      "  File \"/Users/kennethlau/opt/anaconda3/lib/python3.7/site-packages/plotly/express/_core.py\", line 1861, in make_figure\n",
      "    for val in sorted_group_values[m.grouper]:\n",
      "KeyError: 'Restaurant'\n",
      "Exception on /_dash-update-component [POST]\n",
      "Traceback (most recent call last):\n",
      "  File \"/Users/kennethlau/opt/anaconda3/lib/python3.7/site-packages/flask/app.py\", line 2446, in wsgi_app\n",
      "    response = self.full_dispatch_request()\n",
      "  File \"/Users/kennethlau/opt/anaconda3/lib/python3.7/site-packages/flask/app.py\", line 1951, in full_dispatch_request\n",
      "    rv = self.handle_user_exception(e)\n",
      "  File \"/Users/kennethlau/opt/anaconda3/lib/python3.7/site-packages/flask/app.py\", line 1820, in handle_user_exception\n",
      "    reraise(exc_type, exc_value, tb)\n",
      "  File \"/Users/kennethlau/opt/anaconda3/lib/python3.7/site-packages/flask/_compat.py\", line 39, in reraise\n",
      "    raise value\n",
      "  File \"/Users/kennethlau/opt/anaconda3/lib/python3.7/site-packages/flask/app.py\", line 1949, in full_dispatch_request\n",
      "    rv = self.dispatch_request()\n",
      "  File \"/Users/kennethlau/opt/anaconda3/lib/python3.7/site-packages/flask/app.py\", line 1935, in dispatch_request\n",
      "    return self.view_functions[rule.endpoint](**req.view_args)\n",
      "  File \"/Users/kennethlau/opt/anaconda3/lib/python3.7/site-packages/dash/dash.py\", line 1078, in dispatch\n",
      "    response.set_data(func(*args, outputs_list=outputs_list))\n",
      "  File \"/Users/kennethlau/opt/anaconda3/lib/python3.7/site-packages/dash/dash.py\", line 1009, in add_context\n",
      "    output_value = func(*args, **kwargs)  # %% callback invoked %%\n",
      "  File \"<ipython-input-58-1346828b412d>\", line 16, in update_figure\n",
      "    color=\"Restaurant\", barmode=\"group\")\n",
      "  File \"/Users/kennethlau/opt/anaconda3/lib/python3.7/site-packages/plotly/express/_chart_types.py\", line 354, in bar\n",
      "    layout_patch=dict(barmode=barmode),\n",
      "  File \"/Users/kennethlau/opt/anaconda3/lib/python3.7/site-packages/plotly/express/_core.py\", line 1861, in make_figure\n",
      "    for val in sorted_group_values[m.grouper]:\n",
      "KeyError: 'Restaurant'\n",
      "Exception on /_dash-update-component [POST]\n",
      "Traceback (most recent call last):\n",
      "  File \"/Users/kennethlau/opt/anaconda3/lib/python3.7/site-packages/flask/app.py\", line 2446, in wsgi_app\n",
      "    response = self.full_dispatch_request()\n",
      "  File \"/Users/kennethlau/opt/anaconda3/lib/python3.7/site-packages/flask/app.py\", line 1951, in full_dispatch_request\n",
      "    rv = self.handle_user_exception(e)\n",
      "  File \"/Users/kennethlau/opt/anaconda3/lib/python3.7/site-packages/flask/app.py\", line 1820, in handle_user_exception\n",
      "    reraise(exc_type, exc_value, tb)\n",
      "  File \"/Users/kennethlau/opt/anaconda3/lib/python3.7/site-packages/flask/_compat.py\", line 39, in reraise\n",
      "    raise value\n",
      "  File \"/Users/kennethlau/opt/anaconda3/lib/python3.7/site-packages/flask/app.py\", line 1949, in full_dispatch_request\n",
      "    rv = self.dispatch_request()\n",
      "  File \"/Users/kennethlau/opt/anaconda3/lib/python3.7/site-packages/flask/app.py\", line 1935, in dispatch_request\n",
      "    return self.view_functions[rule.endpoint](**req.view_args)\n",
      "  File \"/Users/kennethlau/opt/anaconda3/lib/python3.7/site-packages/dash/dash.py\", line 1078, in dispatch\n",
      "    response.set_data(func(*args, outputs_list=outputs_list))\n",
      "  File \"/Users/kennethlau/opt/anaconda3/lib/python3.7/site-packages/dash/dash.py\", line 1009, in add_context\n",
      "    output_value = func(*args, **kwargs)  # %% callback invoked %%\n",
      "  File \"<ipython-input-58-1346828b412d>\", line 16, in update_figure\n",
      "    color=\"Restaurant\", barmode=\"group\")\n",
      "  File \"/Users/kennethlau/opt/anaconda3/lib/python3.7/site-packages/plotly/express/_chart_types.py\", line 354, in bar\n",
      "    layout_patch=dict(barmode=barmode),\n",
      "  File \"/Users/kennethlau/opt/anaconda3/lib/python3.7/site-packages/plotly/express/_core.py\", line 1861, in make_figure\n",
      "    for val in sorted_group_values[m.grouper]:\n",
      "KeyError: 'Restaurant'\n"
     ]
    },
    {
     "name": "stdout",
     "output_type": "stream",
     "text": [
      "Exception on /_dash-update-component [POST]\n",
      "Traceback (most recent call last):\n",
      "  File \"/Users/kennethlau/opt/anaconda3/lib/python3.7/site-packages/flask/app.py\", line 2446, in wsgi_app\n",
      "    response = self.full_dispatch_request()\n",
      "  File \"/Users/kennethlau/opt/anaconda3/lib/python3.7/site-packages/flask/app.py\", line 1951, in full_dispatch_request\n",
      "    rv = self.handle_user_exception(e)\n",
      "  File \"/Users/kennethlau/opt/anaconda3/lib/python3.7/site-packages/flask/app.py\", line 1820, in handle_user_exception\n",
      "    reraise(exc_type, exc_value, tb)\n",
      "  File \"/Users/kennethlau/opt/anaconda3/lib/python3.7/site-packages/flask/_compat.py\", line 39, in reraise\n",
      "    raise value\n",
      "  File \"/Users/kennethlau/opt/anaconda3/lib/python3.7/site-packages/flask/app.py\", line 1949, in full_dispatch_request\n",
      "    rv = self.dispatch_request()\n",
      "  File \"/Users/kennethlau/opt/anaconda3/lib/python3.7/site-packages/flask/app.py\", line 1935, in dispatch_request\n",
      "    return self.view_functions[rule.endpoint](**req.view_args)\n",
      "  File \"/Users/kennethlau/opt/anaconda3/lib/python3.7/site-packages/dash/dash.py\", line 1078, in dispatch\n",
      "    response.set_data(func(*args, outputs_list=outputs_list))\n",
      "  File \"/Users/kennethlau/opt/anaconda3/lib/python3.7/site-packages/dash/dash.py\", line 1009, in add_context\n",
      "    output_value = func(*args, **kwargs)  # %% callback invoked %%\n",
      "  File \"<ipython-input-58-1346828b412d>\", line 16, in update_figure\n",
      "    color=\"Restaurant\", barmode=\"group\")\n",
      "  File \"/Users/kennethlau/opt/anaconda3/lib/python3.7/site-packages/plotly/express/_chart_types.py\", line 354, in bar\n",
      "    layout_patch=dict(barmode=barmode),\n",
      "  File \"/Users/kennethlau/opt/anaconda3/lib/python3.7/site-packages/plotly/express/_core.py\", line 1861, in make_figure\n",
      "    for val in sorted_group_values[m.grouper]:\n",
      "KeyError: 'Restaurant'\n",
      "Exception on /_dash-update-component [POST]\n",
      "Traceback (most recent call last):\n",
      "  File \"/Users/kennethlau/opt/anaconda3/lib/python3.7/site-packages/flask/app.py\", line 2446, in wsgi_app\n",
      "    response = self.full_dispatch_request()\n",
      "  File \"/Users/kennethlau/opt/anaconda3/lib/python3.7/site-packages/flask/app.py\", line 1951, in full_dispatch_request\n",
      "    rv = self.handle_user_exception(e)\n",
      "  File \"/Users/kennethlau/opt/anaconda3/lib/python3.7/site-packages/flask/app.py\", line 1820, in handle_user_exception\n",
      "    reraise(exc_type, exc_value, tb)\n",
      "  File \"/Users/kennethlau/opt/anaconda3/lib/python3.7/site-packages/flask/_compat.py\", line 39, in reraise\n",
      "    raise value\n",
      "  File \"/Users/kennethlau/opt/anaconda3/lib/python3.7/site-packages/flask/app.py\", line 1949, in full_dispatch_request\n",
      "    rv = self.dispatch_request()\n",
      "  File \"/Users/kennethlau/opt/anaconda3/lib/python3.7/site-packages/flask/app.py\", line 1935, in dispatch_request\n",
      "    return self.view_functions[rule.endpoint](**req.view_args)\n",
      "  File \"/Users/kennethlau/opt/anaconda3/lib/python3.7/site-packages/dash/dash.py\", line 1078, in dispatch\n",
      "    response.set_data(func(*args, outputs_list=outputs_list))\n",
      "  File \"/Users/kennethlau/opt/anaconda3/lib/python3.7/site-packages/dash/dash.py\", line 1009, in add_context\n",
      "    output_value = func(*args, **kwargs)  # %% callback invoked %%\n",
      "  File \"<ipython-input-58-1346828b412d>\", line 16, in update_figure\n",
      "    color=\"Restaurant\", barmode=\"group\")\n",
      "  File \"/Users/kennethlau/opt/anaconda3/lib/python3.7/site-packages/plotly/express/_chart_types.py\", line 354, in bar\n",
      "    layout_patch=dict(barmode=barmode),\n",
      "  File \"/Users/kennethlau/opt/anaconda3/lib/python3.7/site-packages/plotly/express/_core.py\", line 1861, in make_figure\n",
      "    for val in sorted_group_values[m.grouper]:\n",
      "KeyError: 'Restaurant'\n",
      "Exception on /_dash-update-component [POST]\n",
      "Traceback (most recent call last):\n",
      "  File \"/Users/kennethlau/opt/anaconda3/lib/python3.7/site-packages/flask/app.py\", line 2446, in wsgi_app\n",
      "    response = self.full_dispatch_request()\n",
      "  File \"/Users/kennethlau/opt/anaconda3/lib/python3.7/site-packages/flask/app.py\", line 1951, in full_dispatch_request\n",
      "    rv = self.handle_user_exception(e)\n",
      "  File \"/Users/kennethlau/opt/anaconda3/lib/python3.7/site-packages/flask/app.py\", line 1820, in handle_user_exception\n",
      "    reraise(exc_type, exc_value, tb)\n",
      "  File \"/Users/kennethlau/opt/anaconda3/lib/python3.7/site-packages/flask/_compat.py\", line 39, in reraise\n",
      "    raise value\n",
      "  File \"/Users/kennethlau/opt/anaconda3/lib/python3.7/site-packages/flask/app.py\", line 1949, in full_dispatch_request\n",
      "    rv = self.dispatch_request()\n",
      "  File \"/Users/kennethlau/opt/anaconda3/lib/python3.7/site-packages/flask/app.py\", line 1935, in dispatch_request\n",
      "    return self.view_functions[rule.endpoint](**req.view_args)\n",
      "  File \"/Users/kennethlau/opt/anaconda3/lib/python3.7/site-packages/dash/dash.py\", line 1078, in dispatch\n",
      "    response.set_data(func(*args, outputs_list=outputs_list))\n",
      "  File \"/Users/kennethlau/opt/anaconda3/lib/python3.7/site-packages/dash/dash.py\", line 1009, in add_context\n",
      "    output_value = func(*args, **kwargs)  # %% callback invoked %%\n",
      "  File \"<ipython-input-58-1346828b412d>\", line 16, in update_figure\n",
      "    color=\"Restaurant\", barmode=\"group\")\n",
      "  File \"/Users/kennethlau/opt/anaconda3/lib/python3.7/site-packages/plotly/express/_chart_types.py\", line 354, in bar\n",
      "    layout_patch=dict(barmode=barmode),\n",
      "  File \"/Users/kennethlau/opt/anaconda3/lib/python3.7/site-packages/plotly/express/_core.py\", line 1861, in make_figure\n",
      "    for val in sorted_group_values[m.grouper]:\n",
      "KeyError: 'Restaurant'\n",
      "Exception on /_dash-update-component [POST]\n",
      "Traceback (most recent call last):\n",
      "  File \"/Users/kennethlau/opt/anaconda3/lib/python3.7/site-packages/flask/app.py\", line 2446, in wsgi_app\n",
      "    response = self.full_dispatch_request()\n",
      "  File \"/Users/kennethlau/opt/anaconda3/lib/python3.7/site-packages/flask/app.py\", line 1951, in full_dispatch_request\n",
      "    rv = self.handle_user_exception(e)\n",
      "  File \"/Users/kennethlau/opt/anaconda3/lib/python3.7/site-packages/flask/app.py\", line 1820, in handle_user_exception\n",
      "    reraise(exc_type, exc_value, tb)\n",
      "  File \"/Users/kennethlau/opt/anaconda3/lib/python3.7/site-packages/flask/_compat.py\", line 39, in reraise\n",
      "    raise value\n",
      "  File \"/Users/kennethlau/opt/anaconda3/lib/python3.7/site-packages/flask/app.py\", line 1949, in full_dispatch_request\n",
      "    rv = self.dispatch_request()\n",
      "  File \"/Users/kennethlau/opt/anaconda3/lib/python3.7/site-packages/flask/app.py\", line 1935, in dispatch_request\n",
      "    return self.view_functions[rule.endpoint](**req.view_args)\n",
      "  File \"/Users/kennethlau/opt/anaconda3/lib/python3.7/site-packages/dash/dash.py\", line 1078, in dispatch\n",
      "    response.set_data(func(*args, outputs_list=outputs_list))\n",
      "  File \"/Users/kennethlau/opt/anaconda3/lib/python3.7/site-packages/dash/dash.py\", line 1009, in add_context\n",
      "    output_value = func(*args, **kwargs)  # %% callback invoked %%\n",
      "  File \"<ipython-input-58-1346828b412d>\", line 16, in update_figure\n",
      "    color=\"Restaurant\", barmode=\"group\")\n",
      "  File \"/Users/kennethlau/opt/anaconda3/lib/python3.7/site-packages/plotly/express/_chart_types.py\", line 354, in bar\n",
      "    layout_patch=dict(barmode=barmode),\n",
      "  File \"/Users/kennethlau/opt/anaconda3/lib/python3.7/site-packages/plotly/express/_core.py\", line 1861, in make_figure\n",
      "    for val in sorted_group_values[m.grouper]:\n",
      "KeyError: 'Restaurant'\n",
      "Exception on /_dash-update-component [POST]\n",
      "Traceback (most recent call last):\n",
      "  File \"/Users/kennethlau/opt/anaconda3/lib/python3.7/site-packages/flask/app.py\", line 2446, in wsgi_app\n",
      "    response = self.full_dispatch_request()\n",
      "  File \"/Users/kennethlau/opt/anaconda3/lib/python3.7/site-packages/flask/app.py\", line 1951, in full_dispatch_request\n",
      "    rv = self.handle_user_exception(e)\n",
      "  File \"/Users/kennethlau/opt/anaconda3/lib/python3.7/site-packages/flask/app.py\", line 1820, in handle_user_exception\n",
      "    reraise(exc_type, exc_value, tb)\n",
      "  File \"/Users/kennethlau/opt/anaconda3/lib/python3.7/site-packages/flask/_compat.py\", line 39, in reraise\n",
      "    raise value\n",
      "  File \"/Users/kennethlau/opt/anaconda3/lib/python3.7/site-packages/flask/app.py\", line 1949, in full_dispatch_request\n",
      "    rv = self.dispatch_request()\n",
      "  File \"/Users/kennethlau/opt/anaconda3/lib/python3.7/site-packages/flask/app.py\", line 1935, in dispatch_request\n",
      "    return self.view_functions[rule.endpoint](**req.view_args)\n",
      "  File \"/Users/kennethlau/opt/anaconda3/lib/python3.7/site-packages/dash/dash.py\", line 1078, in dispatch\n",
      "    response.set_data(func(*args, outputs_list=outputs_list))\n",
      "  File \"/Users/kennethlau/opt/anaconda3/lib/python3.7/site-packages/dash/dash.py\", line 1009, in add_context\n",
      "    output_value = func(*args, **kwargs)  # %% callback invoked %%\n",
      "  File \"<ipython-input-58-1346828b412d>\", line 16, in update_figure\n",
      "    color=\"Restaurant\", barmode=\"group\")\n",
      "  File \"/Users/kennethlau/opt/anaconda3/lib/python3.7/site-packages/plotly/express/_chart_types.py\", line 354, in bar\n",
      "    layout_patch=dict(barmode=barmode),\n",
      "  File \"/Users/kennethlau/opt/anaconda3/lib/python3.7/site-packages/plotly/express/_core.py\", line 1861, in make_figure\n",
      "    for val in sorted_group_values[m.grouper]:\n",
      "KeyError: 'Restaurant'\n"
     ]
    },
    {
     "name": "stderr",
     "output_type": "stream",
     "text": [
      "127.0.0.1 - - [03/Apr/2021 13:34:33] \"\u001b[1m\u001b[35mPOST /_dash-update-component HTTP/1.1\u001b[0m\" 500 -\n"
     ]
    }
   ],
   "source": [
    "if __name__ == '__main__':\n",
    "    app.run_server(host = '127.0.0.1')"
   ]
  },
  {
   "cell_type": "code",
   "execution_count": 54,
   "metadata": {},
   "outputs": [
    {
     "data": {
      "text/plain": [
       "0       True\n",
       "1       True\n",
       "2       True\n",
       "3       True\n",
       "4       True\n",
       "5       True\n",
       "6       True\n",
       "7       True\n",
       "8       True\n",
       "9       True\n",
       "77     False\n",
       "78     False\n",
       "79     False\n",
       "80     False\n",
       "81     False\n",
       "82     False\n",
       "83     False\n",
       "84     False\n",
       "85     False\n",
       "86     False\n",
       "143    False\n",
       "144    False\n",
       "145    False\n",
       "146    False\n",
       "147    False\n",
       "148    False\n",
       "149    False\n",
       "150    False\n",
       "151    False\n",
       "152    False\n",
       "303    False\n",
       "304    False\n",
       "305    False\n",
       "306    False\n",
       "307    False\n",
       "308    False\n",
       "309    False\n",
       "310    False\n",
       "311    False\n",
       "312    False\n",
       "465    False\n",
       "466    False\n",
       "467    False\n",
       "468    False\n",
       "469    False\n",
       "470    False\n",
       "471    False\n",
       "472    False\n",
       "473    False\n",
       "474    False\n",
       "Name: Restaurant, dtype: bool"
      ]
     },
     "execution_count": 54,
     "metadata": {},
     "output_type": "execute_result"
    }
   ],
   "source": [
    "test = g1['Restaurant'] == 'burgerking'\n",
    "test"
   ]
  },
  {
   "cell_type": "code",
   "execution_count": 56,
   "metadata": {},
   "outputs": [
    {
     "data": {
      "application/vnd.plotly.v1+json": {
       "config": {
        "plotlyServerURL": "https://plot.ly"
       },
       "data": [
        {
         "alignmentgroup": "True",
         "hovertemplate": "Restaurant=burgerking<br>Items=%{x}<br>Cost (USD)=%{y}<extra></extra>",
         "legendgroup": "burgerking",
         "marker": {
          "color": "#636efa"
         },
         "name": "burgerking",
         "offsetgroup": "burgerking",
         "orientation": "v",
         "showlegend": true,
         "textposition": "auto",
         "type": "bar",
         "x": [
          "Garden Chicken Salad with Crispy Chicken – no dressing",
          "Club Salad with Crispy Chicken – no dressing",
          "Bacon King Sandwich",
          "Triple Whopper® Sandwich",
          "Bacon & Cheese Crispy Chicken Sandwich",
          "BBQ Bacon Crispy Chicken Sandwich",
          "Spicy Crispy Chicken Sandwich",
          "Garden Side Salad – w/o dressing",
          "IMPOSSIBLE Whopper® Sandwich",
          "Double Whopper® Sandwich"
         ],
         "xaxis": "x",
         "y": [
          7.09,
          7.09,
          6.99,
          6.39,
          6.09,
          6.09,
          5.69,
          5.59,
          5.49,
          5.29
         ],
         "yaxis": "y"
        }
       ],
       "layout": {
        "barmode": "group",
        "legend": {
         "title": {
          "text": "Restaurant"
         },
         "tracegroupgap": 0
        },
        "margin": {
         "t": 60
        },
        "template": {
         "data": {
          "bar": [
           {
            "error_x": {
             "color": "#2a3f5f"
            },
            "error_y": {
             "color": "#2a3f5f"
            },
            "marker": {
             "line": {
              "color": "#E5ECF6",
              "width": 0.5
             }
            },
            "type": "bar"
           }
          ],
          "barpolar": [
           {
            "marker": {
             "line": {
              "color": "#E5ECF6",
              "width": 0.5
             }
            },
            "type": "barpolar"
           }
          ],
          "carpet": [
           {
            "aaxis": {
             "endlinecolor": "#2a3f5f",
             "gridcolor": "white",
             "linecolor": "white",
             "minorgridcolor": "white",
             "startlinecolor": "#2a3f5f"
            },
            "baxis": {
             "endlinecolor": "#2a3f5f",
             "gridcolor": "white",
             "linecolor": "white",
             "minorgridcolor": "white",
             "startlinecolor": "#2a3f5f"
            },
            "type": "carpet"
           }
          ],
          "choropleth": [
           {
            "colorbar": {
             "outlinewidth": 0,
             "ticks": ""
            },
            "type": "choropleth"
           }
          ],
          "contour": [
           {
            "colorbar": {
             "outlinewidth": 0,
             "ticks": ""
            },
            "colorscale": [
             [
              0,
              "#0d0887"
             ],
             [
              0.1111111111111111,
              "#46039f"
             ],
             [
              0.2222222222222222,
              "#7201a8"
             ],
             [
              0.3333333333333333,
              "#9c179e"
             ],
             [
              0.4444444444444444,
              "#bd3786"
             ],
             [
              0.5555555555555556,
              "#d8576b"
             ],
             [
              0.6666666666666666,
              "#ed7953"
             ],
             [
              0.7777777777777778,
              "#fb9f3a"
             ],
             [
              0.8888888888888888,
              "#fdca26"
             ],
             [
              1,
              "#f0f921"
             ]
            ],
            "type": "contour"
           }
          ],
          "contourcarpet": [
           {
            "colorbar": {
             "outlinewidth": 0,
             "ticks": ""
            },
            "type": "contourcarpet"
           }
          ],
          "heatmap": [
           {
            "colorbar": {
             "outlinewidth": 0,
             "ticks": ""
            },
            "colorscale": [
             [
              0,
              "#0d0887"
             ],
             [
              0.1111111111111111,
              "#46039f"
             ],
             [
              0.2222222222222222,
              "#7201a8"
             ],
             [
              0.3333333333333333,
              "#9c179e"
             ],
             [
              0.4444444444444444,
              "#bd3786"
             ],
             [
              0.5555555555555556,
              "#d8576b"
             ],
             [
              0.6666666666666666,
              "#ed7953"
             ],
             [
              0.7777777777777778,
              "#fb9f3a"
             ],
             [
              0.8888888888888888,
              "#fdca26"
             ],
             [
              1,
              "#f0f921"
             ]
            ],
            "type": "heatmap"
           }
          ],
          "heatmapgl": [
           {
            "colorbar": {
             "outlinewidth": 0,
             "ticks": ""
            },
            "colorscale": [
             [
              0,
              "#0d0887"
             ],
             [
              0.1111111111111111,
              "#46039f"
             ],
             [
              0.2222222222222222,
              "#7201a8"
             ],
             [
              0.3333333333333333,
              "#9c179e"
             ],
             [
              0.4444444444444444,
              "#bd3786"
             ],
             [
              0.5555555555555556,
              "#d8576b"
             ],
             [
              0.6666666666666666,
              "#ed7953"
             ],
             [
              0.7777777777777778,
              "#fb9f3a"
             ],
             [
              0.8888888888888888,
              "#fdca26"
             ],
             [
              1,
              "#f0f921"
             ]
            ],
            "type": "heatmapgl"
           }
          ],
          "histogram": [
           {
            "marker": {
             "colorbar": {
              "outlinewidth": 0,
              "ticks": ""
             }
            },
            "type": "histogram"
           }
          ],
          "histogram2d": [
           {
            "colorbar": {
             "outlinewidth": 0,
             "ticks": ""
            },
            "colorscale": [
             [
              0,
              "#0d0887"
             ],
             [
              0.1111111111111111,
              "#46039f"
             ],
             [
              0.2222222222222222,
              "#7201a8"
             ],
             [
              0.3333333333333333,
              "#9c179e"
             ],
             [
              0.4444444444444444,
              "#bd3786"
             ],
             [
              0.5555555555555556,
              "#d8576b"
             ],
             [
              0.6666666666666666,
              "#ed7953"
             ],
             [
              0.7777777777777778,
              "#fb9f3a"
             ],
             [
              0.8888888888888888,
              "#fdca26"
             ],
             [
              1,
              "#f0f921"
             ]
            ],
            "type": "histogram2d"
           }
          ],
          "histogram2dcontour": [
           {
            "colorbar": {
             "outlinewidth": 0,
             "ticks": ""
            },
            "colorscale": [
             [
              0,
              "#0d0887"
             ],
             [
              0.1111111111111111,
              "#46039f"
             ],
             [
              0.2222222222222222,
              "#7201a8"
             ],
             [
              0.3333333333333333,
              "#9c179e"
             ],
             [
              0.4444444444444444,
              "#bd3786"
             ],
             [
              0.5555555555555556,
              "#d8576b"
             ],
             [
              0.6666666666666666,
              "#ed7953"
             ],
             [
              0.7777777777777778,
              "#fb9f3a"
             ],
             [
              0.8888888888888888,
              "#fdca26"
             ],
             [
              1,
              "#f0f921"
             ]
            ],
            "type": "histogram2dcontour"
           }
          ],
          "mesh3d": [
           {
            "colorbar": {
             "outlinewidth": 0,
             "ticks": ""
            },
            "type": "mesh3d"
           }
          ],
          "parcoords": [
           {
            "line": {
             "colorbar": {
              "outlinewidth": 0,
              "ticks": ""
             }
            },
            "type": "parcoords"
           }
          ],
          "pie": [
           {
            "automargin": true,
            "type": "pie"
           }
          ],
          "scatter": [
           {
            "marker": {
             "colorbar": {
              "outlinewidth": 0,
              "ticks": ""
             }
            },
            "type": "scatter"
           }
          ],
          "scatter3d": [
           {
            "line": {
             "colorbar": {
              "outlinewidth": 0,
              "ticks": ""
             }
            },
            "marker": {
             "colorbar": {
              "outlinewidth": 0,
              "ticks": ""
             }
            },
            "type": "scatter3d"
           }
          ],
          "scattercarpet": [
           {
            "marker": {
             "colorbar": {
              "outlinewidth": 0,
              "ticks": ""
             }
            },
            "type": "scattercarpet"
           }
          ],
          "scattergeo": [
           {
            "marker": {
             "colorbar": {
              "outlinewidth": 0,
              "ticks": ""
             }
            },
            "type": "scattergeo"
           }
          ],
          "scattergl": [
           {
            "marker": {
             "colorbar": {
              "outlinewidth": 0,
              "ticks": ""
             }
            },
            "type": "scattergl"
           }
          ],
          "scattermapbox": [
           {
            "marker": {
             "colorbar": {
              "outlinewidth": 0,
              "ticks": ""
             }
            },
            "type": "scattermapbox"
           }
          ],
          "scatterpolar": [
           {
            "marker": {
             "colorbar": {
              "outlinewidth": 0,
              "ticks": ""
             }
            },
            "type": "scatterpolar"
           }
          ],
          "scatterpolargl": [
           {
            "marker": {
             "colorbar": {
              "outlinewidth": 0,
              "ticks": ""
             }
            },
            "type": "scatterpolargl"
           }
          ],
          "scatterternary": [
           {
            "marker": {
             "colorbar": {
              "outlinewidth": 0,
              "ticks": ""
             }
            },
            "type": "scatterternary"
           }
          ],
          "surface": [
           {
            "colorbar": {
             "outlinewidth": 0,
             "ticks": ""
            },
            "colorscale": [
             [
              0,
              "#0d0887"
             ],
             [
              0.1111111111111111,
              "#46039f"
             ],
             [
              0.2222222222222222,
              "#7201a8"
             ],
             [
              0.3333333333333333,
              "#9c179e"
             ],
             [
              0.4444444444444444,
              "#bd3786"
             ],
             [
              0.5555555555555556,
              "#d8576b"
             ],
             [
              0.6666666666666666,
              "#ed7953"
             ],
             [
              0.7777777777777778,
              "#fb9f3a"
             ],
             [
              0.8888888888888888,
              "#fdca26"
             ],
             [
              1,
              "#f0f921"
             ]
            ],
            "type": "surface"
           }
          ],
          "table": [
           {
            "cells": {
             "fill": {
              "color": "#EBF0F8"
             },
             "line": {
              "color": "white"
             }
            },
            "header": {
             "fill": {
              "color": "#C8D4E3"
             },
             "line": {
              "color": "white"
             }
            },
            "type": "table"
           }
          ]
         },
         "layout": {
          "annotationdefaults": {
           "arrowcolor": "#2a3f5f",
           "arrowhead": 0,
           "arrowwidth": 1
          },
          "autotypenumbers": "strict",
          "coloraxis": {
           "colorbar": {
            "outlinewidth": 0,
            "ticks": ""
           }
          },
          "colorscale": {
           "diverging": [
            [
             0,
             "#8e0152"
            ],
            [
             0.1,
             "#c51b7d"
            ],
            [
             0.2,
             "#de77ae"
            ],
            [
             0.3,
             "#f1b6da"
            ],
            [
             0.4,
             "#fde0ef"
            ],
            [
             0.5,
             "#f7f7f7"
            ],
            [
             0.6,
             "#e6f5d0"
            ],
            [
             0.7,
             "#b8e186"
            ],
            [
             0.8,
             "#7fbc41"
            ],
            [
             0.9,
             "#4d9221"
            ],
            [
             1,
             "#276419"
            ]
           ],
           "sequential": [
            [
             0,
             "#0d0887"
            ],
            [
             0.1111111111111111,
             "#46039f"
            ],
            [
             0.2222222222222222,
             "#7201a8"
            ],
            [
             0.3333333333333333,
             "#9c179e"
            ],
            [
             0.4444444444444444,
             "#bd3786"
            ],
            [
             0.5555555555555556,
             "#d8576b"
            ],
            [
             0.6666666666666666,
             "#ed7953"
            ],
            [
             0.7777777777777778,
             "#fb9f3a"
            ],
            [
             0.8888888888888888,
             "#fdca26"
            ],
            [
             1,
             "#f0f921"
            ]
           ],
           "sequentialminus": [
            [
             0,
             "#0d0887"
            ],
            [
             0.1111111111111111,
             "#46039f"
            ],
            [
             0.2222222222222222,
             "#7201a8"
            ],
            [
             0.3333333333333333,
             "#9c179e"
            ],
            [
             0.4444444444444444,
             "#bd3786"
            ],
            [
             0.5555555555555556,
             "#d8576b"
            ],
            [
             0.6666666666666666,
             "#ed7953"
            ],
            [
             0.7777777777777778,
             "#fb9f3a"
            ],
            [
             0.8888888888888888,
             "#fdca26"
            ],
            [
             1,
             "#f0f921"
            ]
           ]
          },
          "colorway": [
           "#636efa",
           "#EF553B",
           "#00cc96",
           "#ab63fa",
           "#FFA15A",
           "#19d3f3",
           "#FF6692",
           "#B6E880",
           "#FF97FF",
           "#FECB52"
          ],
          "font": {
           "color": "#2a3f5f"
          },
          "geo": {
           "bgcolor": "white",
           "lakecolor": "white",
           "landcolor": "#E5ECF6",
           "showlakes": true,
           "showland": true,
           "subunitcolor": "white"
          },
          "hoverlabel": {
           "align": "left"
          },
          "hovermode": "closest",
          "mapbox": {
           "style": "light"
          },
          "paper_bgcolor": "white",
          "plot_bgcolor": "#E5ECF6",
          "polar": {
           "angularaxis": {
            "gridcolor": "white",
            "linecolor": "white",
            "ticks": ""
           },
           "bgcolor": "#E5ECF6",
           "radialaxis": {
            "gridcolor": "white",
            "linecolor": "white",
            "ticks": ""
           }
          },
          "scene": {
           "xaxis": {
            "backgroundcolor": "#E5ECF6",
            "gridcolor": "white",
            "gridwidth": 2,
            "linecolor": "white",
            "showbackground": true,
            "ticks": "",
            "zerolinecolor": "white"
           },
           "yaxis": {
            "backgroundcolor": "#E5ECF6",
            "gridcolor": "white",
            "gridwidth": 2,
            "linecolor": "white",
            "showbackground": true,
            "ticks": "",
            "zerolinecolor": "white"
           },
           "zaxis": {
            "backgroundcolor": "#E5ECF6",
            "gridcolor": "white",
            "gridwidth": 2,
            "linecolor": "white",
            "showbackground": true,
            "ticks": "",
            "zerolinecolor": "white"
           }
          },
          "shapedefaults": {
           "line": {
            "color": "#2a3f5f"
           }
          },
          "ternary": {
           "aaxis": {
            "gridcolor": "white",
            "linecolor": "white",
            "ticks": ""
           },
           "baxis": {
            "gridcolor": "white",
            "linecolor": "white",
            "ticks": ""
           },
           "bgcolor": "#E5ECF6",
           "caxis": {
            "gridcolor": "white",
            "linecolor": "white",
            "ticks": ""
           }
          },
          "title": {
           "x": 0.05
          },
          "xaxis": {
           "automargin": true,
           "gridcolor": "white",
           "linecolor": "white",
           "ticks": "",
           "title": {
            "standoff": 15
           },
           "zerolinecolor": "white",
           "zerolinewidth": 2
          },
          "yaxis": {
           "automargin": true,
           "gridcolor": "white",
           "linecolor": "white",
           "ticks": "",
           "title": {
            "standoff": 15
           },
           "zerolinecolor": "white",
           "zerolinewidth": 2
          }
         }
        },
        "xaxis": {
         "anchor": "y",
         "domain": [
          0,
          1
         ],
         "title": {
          "text": "Items"
         }
        },
        "yaxis": {
         "anchor": "x",
         "domain": [
          0,
          1
         ],
         "title": {
          "text": "Cost (USD)"
         }
        }
       }
      },
      "text/html": [
       "<div>                            <div id=\"b0485412-ab8e-436b-a6bb-cafbe0a09f6c\" class=\"plotly-graph-div\" style=\"height:525px; width:100%;\"></div>            <script type=\"text/javascript\">                require([\"plotly\"], function(Plotly) {                    window.PLOTLYENV=window.PLOTLYENV || {};                                    if (document.getElementById(\"b0485412-ab8e-436b-a6bb-cafbe0a09f6c\")) {                    Plotly.newPlot(                        \"b0485412-ab8e-436b-a6bb-cafbe0a09f6c\",                        [{\"alignmentgroup\": \"True\", \"hovertemplate\": \"Restaurant=burgerking<br>Items=%{x}<br>Cost (USD)=%{y}<extra></extra>\", \"legendgroup\": \"burgerking\", \"marker\": {\"color\": \"#636efa\"}, \"name\": \"burgerking\", \"offsetgroup\": \"burgerking\", \"orientation\": \"v\", \"showlegend\": true, \"textposition\": \"auto\", \"type\": \"bar\", \"x\": [\"Garden Chicken Salad with Crispy Chicken \\u2013 no dressing\", \"Club Salad with Crispy Chicken \\u2013 no dressing\", \"Bacon King Sandwich\", \"Triple Whopper\\u00ae Sandwich\", \"Bacon & Cheese Crispy Chicken Sandwich\", \"BBQ Bacon Crispy Chicken Sandwich\", \"Spicy Crispy Chicken Sandwich\", \"Garden Side Salad \\u2013 w/o dressing\", \"IMPOSSIBLE Whopper\\u00ae Sandwich\", \"Double Whopper\\u00ae Sandwich\"], \"xaxis\": \"x\", \"y\": [7.09, 7.09, 6.99, 6.39, 6.09, 6.09, 5.69, 5.59, 5.49, 5.29], \"yaxis\": \"y\"}],                        {\"barmode\": \"group\", \"legend\": {\"title\": {\"text\": \"Restaurant\"}, \"tracegroupgap\": 0}, \"margin\": {\"t\": 60}, \"template\": {\"data\": {\"bar\": [{\"error_x\": {\"color\": \"#2a3f5f\"}, \"error_y\": {\"color\": \"#2a3f5f\"}, \"marker\": {\"line\": {\"color\": \"#E5ECF6\", \"width\": 0.5}}, \"type\": \"bar\"}], \"barpolar\": [{\"marker\": {\"line\": {\"color\": \"#E5ECF6\", \"width\": 0.5}}, \"type\": \"barpolar\"}], \"carpet\": [{\"aaxis\": {\"endlinecolor\": \"#2a3f5f\", \"gridcolor\": \"white\", \"linecolor\": \"white\", \"minorgridcolor\": \"white\", \"startlinecolor\": \"#2a3f5f\"}, \"baxis\": {\"endlinecolor\": \"#2a3f5f\", \"gridcolor\": \"white\", \"linecolor\": \"white\", \"minorgridcolor\": \"white\", \"startlinecolor\": \"#2a3f5f\"}, \"type\": \"carpet\"}], \"choropleth\": [{\"colorbar\": {\"outlinewidth\": 0, \"ticks\": \"\"}, \"type\": \"choropleth\"}], \"contour\": [{\"colorbar\": {\"outlinewidth\": 0, \"ticks\": \"\"}, \"colorscale\": [[0.0, \"#0d0887\"], [0.1111111111111111, \"#46039f\"], [0.2222222222222222, \"#7201a8\"], [0.3333333333333333, \"#9c179e\"], [0.4444444444444444, \"#bd3786\"], [0.5555555555555556, \"#d8576b\"], [0.6666666666666666, \"#ed7953\"], [0.7777777777777778, \"#fb9f3a\"], [0.8888888888888888, \"#fdca26\"], [1.0, \"#f0f921\"]], \"type\": \"contour\"}], \"contourcarpet\": [{\"colorbar\": {\"outlinewidth\": 0, \"ticks\": \"\"}, \"type\": \"contourcarpet\"}], \"heatmap\": [{\"colorbar\": {\"outlinewidth\": 0, \"ticks\": \"\"}, \"colorscale\": [[0.0, \"#0d0887\"], [0.1111111111111111, \"#46039f\"], [0.2222222222222222, \"#7201a8\"], [0.3333333333333333, \"#9c179e\"], [0.4444444444444444, \"#bd3786\"], [0.5555555555555556, \"#d8576b\"], [0.6666666666666666, \"#ed7953\"], [0.7777777777777778, \"#fb9f3a\"], [0.8888888888888888, \"#fdca26\"], [1.0, \"#f0f921\"]], \"type\": \"heatmap\"}], \"heatmapgl\": [{\"colorbar\": {\"outlinewidth\": 0, \"ticks\": \"\"}, \"colorscale\": [[0.0, \"#0d0887\"], [0.1111111111111111, \"#46039f\"], [0.2222222222222222, \"#7201a8\"], [0.3333333333333333, \"#9c179e\"], [0.4444444444444444, \"#bd3786\"], [0.5555555555555556, \"#d8576b\"], [0.6666666666666666, \"#ed7953\"], [0.7777777777777778, \"#fb9f3a\"], [0.8888888888888888, \"#fdca26\"], [1.0, \"#f0f921\"]], \"type\": \"heatmapgl\"}], \"histogram\": [{\"marker\": {\"colorbar\": {\"outlinewidth\": 0, \"ticks\": \"\"}}, \"type\": \"histogram\"}], \"histogram2d\": [{\"colorbar\": {\"outlinewidth\": 0, \"ticks\": \"\"}, \"colorscale\": [[0.0, \"#0d0887\"], [0.1111111111111111, \"#46039f\"], [0.2222222222222222, \"#7201a8\"], [0.3333333333333333, \"#9c179e\"], [0.4444444444444444, \"#bd3786\"], [0.5555555555555556, \"#d8576b\"], [0.6666666666666666, \"#ed7953\"], [0.7777777777777778, \"#fb9f3a\"], [0.8888888888888888, \"#fdca26\"], [1.0, \"#f0f921\"]], \"type\": \"histogram2d\"}], \"histogram2dcontour\": [{\"colorbar\": {\"outlinewidth\": 0, \"ticks\": \"\"}, \"colorscale\": [[0.0, \"#0d0887\"], [0.1111111111111111, \"#46039f\"], [0.2222222222222222, \"#7201a8\"], [0.3333333333333333, \"#9c179e\"], [0.4444444444444444, \"#bd3786\"], [0.5555555555555556, \"#d8576b\"], [0.6666666666666666, \"#ed7953\"], [0.7777777777777778, \"#fb9f3a\"], [0.8888888888888888, \"#fdca26\"], [1.0, \"#f0f921\"]], \"type\": \"histogram2dcontour\"}], \"mesh3d\": [{\"colorbar\": {\"outlinewidth\": 0, \"ticks\": \"\"}, \"type\": \"mesh3d\"}], \"parcoords\": [{\"line\": {\"colorbar\": {\"outlinewidth\": 0, \"ticks\": \"\"}}, \"type\": \"parcoords\"}], \"pie\": [{\"automargin\": true, \"type\": \"pie\"}], \"scatter\": [{\"marker\": {\"colorbar\": {\"outlinewidth\": 0, \"ticks\": \"\"}}, \"type\": \"scatter\"}], \"scatter3d\": [{\"line\": {\"colorbar\": {\"outlinewidth\": 0, \"ticks\": \"\"}}, \"marker\": {\"colorbar\": {\"outlinewidth\": 0, \"ticks\": \"\"}}, \"type\": \"scatter3d\"}], \"scattercarpet\": [{\"marker\": {\"colorbar\": {\"outlinewidth\": 0, \"ticks\": \"\"}}, \"type\": \"scattercarpet\"}], \"scattergeo\": [{\"marker\": {\"colorbar\": {\"outlinewidth\": 0, \"ticks\": \"\"}}, \"type\": \"scattergeo\"}], \"scattergl\": [{\"marker\": {\"colorbar\": {\"outlinewidth\": 0, \"ticks\": \"\"}}, \"type\": \"scattergl\"}], \"scattermapbox\": [{\"marker\": {\"colorbar\": {\"outlinewidth\": 0, \"ticks\": \"\"}}, \"type\": \"scattermapbox\"}], \"scatterpolar\": [{\"marker\": {\"colorbar\": {\"outlinewidth\": 0, \"ticks\": \"\"}}, \"type\": \"scatterpolar\"}], \"scatterpolargl\": [{\"marker\": {\"colorbar\": {\"outlinewidth\": 0, \"ticks\": \"\"}}, \"type\": \"scatterpolargl\"}], \"scatterternary\": [{\"marker\": {\"colorbar\": {\"outlinewidth\": 0, \"ticks\": \"\"}}, \"type\": \"scatterternary\"}], \"surface\": [{\"colorbar\": {\"outlinewidth\": 0, \"ticks\": \"\"}, \"colorscale\": [[0.0, \"#0d0887\"], [0.1111111111111111, \"#46039f\"], [0.2222222222222222, \"#7201a8\"], [0.3333333333333333, \"#9c179e\"], [0.4444444444444444, \"#bd3786\"], [0.5555555555555556, \"#d8576b\"], [0.6666666666666666, \"#ed7953\"], [0.7777777777777778, \"#fb9f3a\"], [0.8888888888888888, \"#fdca26\"], [1.0, \"#f0f921\"]], \"type\": \"surface\"}], \"table\": [{\"cells\": {\"fill\": {\"color\": \"#EBF0F8\"}, \"line\": {\"color\": \"white\"}}, \"header\": {\"fill\": {\"color\": \"#C8D4E3\"}, \"line\": {\"color\": \"white\"}}, \"type\": \"table\"}]}, \"layout\": {\"annotationdefaults\": {\"arrowcolor\": \"#2a3f5f\", \"arrowhead\": 0, \"arrowwidth\": 1}, \"autotypenumbers\": \"strict\", \"coloraxis\": {\"colorbar\": {\"outlinewidth\": 0, \"ticks\": \"\"}}, \"colorscale\": {\"diverging\": [[0, \"#8e0152\"], [0.1, \"#c51b7d\"], [0.2, \"#de77ae\"], [0.3, \"#f1b6da\"], [0.4, \"#fde0ef\"], [0.5, \"#f7f7f7\"], [0.6, \"#e6f5d0\"], [0.7, \"#b8e186\"], [0.8, \"#7fbc41\"], [0.9, \"#4d9221\"], [1, \"#276419\"]], \"sequential\": [[0.0, \"#0d0887\"], [0.1111111111111111, \"#46039f\"], [0.2222222222222222, \"#7201a8\"], [0.3333333333333333, \"#9c179e\"], [0.4444444444444444, \"#bd3786\"], [0.5555555555555556, \"#d8576b\"], [0.6666666666666666, \"#ed7953\"], [0.7777777777777778, \"#fb9f3a\"], [0.8888888888888888, \"#fdca26\"], [1.0, \"#f0f921\"]], \"sequentialminus\": [[0.0, \"#0d0887\"], [0.1111111111111111, \"#46039f\"], [0.2222222222222222, \"#7201a8\"], [0.3333333333333333, \"#9c179e\"], [0.4444444444444444, \"#bd3786\"], [0.5555555555555556, \"#d8576b\"], [0.6666666666666666, \"#ed7953\"], [0.7777777777777778, \"#fb9f3a\"], [0.8888888888888888, \"#fdca26\"], [1.0, \"#f0f921\"]]}, \"colorway\": [\"#636efa\", \"#EF553B\", \"#00cc96\", \"#ab63fa\", \"#FFA15A\", \"#19d3f3\", \"#FF6692\", \"#B6E880\", \"#FF97FF\", \"#FECB52\"], \"font\": {\"color\": \"#2a3f5f\"}, \"geo\": {\"bgcolor\": \"white\", \"lakecolor\": \"white\", \"landcolor\": \"#E5ECF6\", \"showlakes\": true, \"showland\": true, \"subunitcolor\": \"white\"}, \"hoverlabel\": {\"align\": \"left\"}, \"hovermode\": \"closest\", \"mapbox\": {\"style\": \"light\"}, \"paper_bgcolor\": \"white\", \"plot_bgcolor\": \"#E5ECF6\", \"polar\": {\"angularaxis\": {\"gridcolor\": \"white\", \"linecolor\": \"white\", \"ticks\": \"\"}, \"bgcolor\": \"#E5ECF6\", \"radialaxis\": {\"gridcolor\": \"white\", \"linecolor\": \"white\", \"ticks\": \"\"}}, \"scene\": {\"xaxis\": {\"backgroundcolor\": \"#E5ECF6\", \"gridcolor\": \"white\", \"gridwidth\": 2, \"linecolor\": \"white\", \"showbackground\": true, \"ticks\": \"\", \"zerolinecolor\": \"white\"}, \"yaxis\": {\"backgroundcolor\": \"#E5ECF6\", \"gridcolor\": \"white\", \"gridwidth\": 2, \"linecolor\": \"white\", \"showbackground\": true, \"ticks\": \"\", \"zerolinecolor\": \"white\"}, \"zaxis\": {\"backgroundcolor\": \"#E5ECF6\", \"gridcolor\": \"white\", \"gridwidth\": 2, \"linecolor\": \"white\", \"showbackground\": true, \"ticks\": \"\", \"zerolinecolor\": \"white\"}}, \"shapedefaults\": {\"line\": {\"color\": \"#2a3f5f\"}}, \"ternary\": {\"aaxis\": {\"gridcolor\": \"white\", \"linecolor\": \"white\", \"ticks\": \"\"}, \"baxis\": {\"gridcolor\": \"white\", \"linecolor\": \"white\", \"ticks\": \"\"}, \"bgcolor\": \"#E5ECF6\", \"caxis\": {\"gridcolor\": \"white\", \"linecolor\": \"white\", \"ticks\": \"\"}}, \"title\": {\"x\": 0.05}, \"xaxis\": {\"automargin\": true, \"gridcolor\": \"white\", \"linecolor\": \"white\", \"ticks\": \"\", \"title\": {\"standoff\": 15}, \"zerolinecolor\": \"white\", \"zerolinewidth\": 2}, \"yaxis\": {\"automargin\": true, \"gridcolor\": \"white\", \"linecolor\": \"white\", \"ticks\": \"\", \"title\": {\"standoff\": 15}, \"zerolinecolor\": \"white\", \"zerolinewidth\": 2}}}, \"xaxis\": {\"anchor\": \"y\", \"domain\": [0.0, 1.0], \"title\": {\"text\": \"Items\"}}, \"yaxis\": {\"anchor\": \"x\", \"domain\": [0.0, 1.0], \"title\": {\"text\": \"Cost (USD)\"}}},                        {\"responsive\": true}                    ).then(function(){\n",
       "                            \n",
       "var gd = document.getElementById('b0485412-ab8e-436b-a6bb-cafbe0a09f6c');\n",
       "var x = new MutationObserver(function (mutations, observer) {{\n",
       "        var display = window.getComputedStyle(gd).display;\n",
       "        if (!display || display === 'none') {{\n",
       "            console.log([gd, 'removed!']);\n",
       "            Plotly.purge(gd);\n",
       "            observer.disconnect();\n",
       "        }}\n",
       "}});\n",
       "\n",
       "// Listen for the removal of the full notebook cells\n",
       "var notebookContainer = gd.closest('#notebook-container');\n",
       "if (notebookContainer) {{\n",
       "    x.observe(notebookContainer, {childList: true});\n",
       "}}\n",
       "\n",
       "// Listen for the clearing of the current output cell\n",
       "var outputEl = gd.closest('.output');\n",
       "if (outputEl) {{\n",
       "    x.observe(outputEl, {childList: true});\n",
       "}}\n",
       "\n",
       "                        })                };                });            </script>        </div>"
      ]
     },
     "metadata": {},
     "output_type": "display_data"
    }
   ],
   "source": [
    "px.bar(g1[test], x=\"Items\", y=\"Cost (USD)\", \n",
    "                 color=\"Restaurant\", barmode=\"group\")"
   ]
  },
  {
   "cell_type": "code",
   "execution_count": null,
   "metadata": {},
   "outputs": [],
   "source": []
  }
 ],
 "metadata": {
  "kernelspec": {
   "display_name": "Python 3",
   "language": "python",
   "name": "python3"
  },
  "language_info": {
   "codemirror_mode": {
    "name": "ipython",
    "version": 3
   },
   "file_extension": ".py",
   "mimetype": "text/x-python",
   "name": "python",
   "nbconvert_exporter": "python",
   "pygments_lexer": "ipython3",
   "version": "3.7.4"
  }
 },
 "nbformat": 4,
 "nbformat_minor": 2
}
