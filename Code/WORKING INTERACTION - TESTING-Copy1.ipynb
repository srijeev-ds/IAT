{
 "cells": [
  {
   "cell_type": "code",
   "execution_count": 1,
   "metadata": {},
   "outputs": [],
   "source": [
    "import dash\n",
    "import dash_core_components as dcc\n",
    "import dash_html_components as html\n",
    "import plotly.graph_objs as go\n",
    "import pandas as pd\n",
    "from dash.dependencies import Input, Output\n",
    "import plotly.express as px"
   ]
  },
  {
   "cell_type": "code",
   "execution_count": 2,
   "metadata": {},
   "outputs": [],
   "source": [
    "#df = pd.read_csv(\"IAT_2/IAT/Datasets/nutrition/all_nutrition.csv\")\n",
    "df = pd.read_csv(\"/Users/srijeevsarkar/Desktop/IAT/Datasets/nutrition/all_nutrition.csv\")\n",
    "external_stylesheets = ['https://codepen.io/chriddyp/pen/bWLwgP.css']\n",
    "app = dash.Dash(__name__, external_stylesheets=external_stylesheets)\n",
    "days = df.Restaurant.unique()"
   ]
  },
  {
   "cell_type": "code",
   "execution_count": null,
   "metadata": {},
   "outputs": [],
   "source": [
    "\n",
    "app.layout = html.Div([\n",
    "    dcc.Dropdown(id='dpdn2', value=['burgerking', 'mcdonalds', 'starbucks'], multi=True,\n",
    "                 options=[{'label': x, 'value': x} for x in\n",
    "                          df.Restaurant.unique()]),\n",
    "    html.Div([\n",
    "        dcc.Graph(id='pie-graph', figure={}, className='six columns'),\n",
    "        dcc.Graph(id='my-graph', figure={}, clickData=None, hoverData=None, # I assigned None for tutorial purposes. By defualt, these are None, unless you specify otherwise.\n",
    "                  config={\n",
    "                      'staticPlot': False,     # True, False\n",
    "                      'scrollZoom': True,      # True, False\n",
    "                      'doubleClick': 'reset',  # 'reset', 'autosize' or 'reset+autosize', False\n",
    "                      'showTips': False,       # True, False\n",
    "                      'displayModeBar': True,  # True, False, 'hover'\n",
    "                      'watermark': True,\n",
    "                      # 'modeBarButtonsToRemove': ['pan2d','select2d'],\n",
    "                        },\n",
    "                  className='six columns'\n",
    "                  )\n",
    "    ])\n",
    "])\n"
   ]
  },
  {
   "cell_type": "code",
   "execution_count": null,
   "metadata": {},
   "outputs": [],
   "source": [
    "@app.callback(\n",
    "    Output(component_id='my-graph', component_property='figure'),\n",
    "    Input(component_id='dpdn2', component_property='value'),\n",
    ")\n",
    "def update_graph(country_chosen):\n",
    "    dff = df[df.Restaurant.isin(country_chosen)]\n",
    "#     print('Hey')\n",
    "#     print(dff)\n",
    "#     mask = df[\"Restaurant\"] == country_chosen\n",
    "    fig = px.bar(data_frame=dff, x='Items', y='Cost (USD)', color='Restaurant')\n",
    "#     fig.update_traces(mode='lines+markers')\n",
    "    return fig\n",
    "\n",
    "\n",
    "# Dash version 1.16.0 or higher\n",
    "@app.callback(\n",
    "    Output(component_id='pie-graph', component_property='figure'),\n",
    "    Input(component_id='my-graph', component_property='hoverData'),\n",
    "    Input(component_id='my-graph', component_property='clickData'),\n",
    "    Input(component_id='my-graph', component_property='selectedData'),\n",
    "    Input(component_id='dpdn2', component_property='value')\n",
    ")\n",
    "def update_side_graph(hov_data, clk_data, slct_data, country_chosen):\n",
    "    if hov_data is None:\n",
    "        dff2 = df[df.Restaurant.isin(country_chosen)]\n",
    "        dff2 = dff2[dff2.Items == 'Club Salad with Crispy Chicken – no dressing']\n",
    "        print(dff2)\n",
    "        test1 = dff2[['Calories','Protein (g)','Fat (g)', 'Carbs (g)', 'Sugar (g)', 'Sodium (g)']]\n",
    "        test2 = test1.values.tolist() \n",
    "        test3= test2[0]\n",
    "        print(test3)\n",
    "        labels = ['Calories','Protein (g)','Fat (g)', 'Carbs (g)', 'Sugar (g)', 'Sodium (g)']\n",
    "        print(labels)\n",
    "#         fig2 = px.pie(data_frame=dff2, values=['Calories','Protein (g)', 'Fat (g)'], names='Restaurant',\n",
    "        fig2 = px.pie(data_frame=dff2, labels = labels , values= test3, names=labels,\n",
    "                      title='Population for 1952 testeringo')\n",
    "        print('THUASHDUASHDUHASUDHAUSHD')\n",
    "        print('THUASHDUASHDUHASUDHAUSHD')\n",
    "        print('THUASHDUASHDUHASUDHAUSHD')\n",
    "        print('THUASHDUASHDUHASUDHAUSHD')\n",
    "        print('THUASHDUASHDUHASUDHAUSHD')\n",
    "        return fig2\n",
    "    else:\n",
    "        print(f'hover data: {hov_data}')\n",
    "        # print(hov_data['points'][0]['customdata'][0])\n",
    "        # print(f'click data: {clk_data}')\n",
    "        # print(f'selected data: {slct_data}')\n",
    "        dff2 = df[df.Restaurant.isin(country_chosen)]\n",
    "        print(dff2)\n",
    "        hov_year = hov_data['points'][0]['x']\n",
    "        print(\"hi\")\n",
    "        print(hov_year)\n",
    "        dff2 = dff2[dff2.Items == hov_year]\n",
    "        print(dff2)\n",
    "#         fig2 = px.pie(data_frame=dff2, values=['Calories','Protein (g)', 'Fat (g)'], names='Restaurant', title=f'Population for: {hov_year}')\n",
    "        fig2 = px.pie(data_frame=dff2, values='Cost (USD)', names='Restaurant', title=f'Population for: {hov_year}')\n",
    "        return fig2\n",
    "\n",
    "\n",
    "if __name__ == \"__main__\":\n",
    "    app.run_server(host = '127.0.0.1')"
   ]
  },
  {
   "cell_type": "code",
   "execution_count": null,
   "metadata": {},
   "outputs": [],
   "source": [
    "@app.callback(\n",
    "    Output(component_id='my-graph', component_property='figure'),\n",
    "    Input(component_id='dpdn2', component_property='value'),\n",
    ")\n",
    "def update_graph(country_chosen):\n",
    "    dff = df[df.Restaurant.isin(country_chosen)]\n",
    "#     print('Hey')\n",
    "#     print(dff)\n",
    "#     mask = df[\"Restaurant\"] == country_chosen\n",
    "    fig = px.bar(data_frame=dff, x='Items', y='Cost (USD)', color='Restaurant')\n",
    "#     fig.update_traces(mode='lines+markers')\n",
    "    return fig\n",
    "\n",
    "\n",
    "# Dash version 1.16.0 or higher\n",
    "@app.callback(\n",
    "    Output(component_id='pie-graph', component_property='figure'),\n",
    "    Input(component_id='my-graph', component_property='hoverData'),\n",
    "    Input(component_id='my-graph', component_property='clickData'),\n",
    "    Input(component_id='my-graph', component_property='selectedData'),\n",
    "    Input(component_id='dpdn2', component_property='value')\n",
    ")\n",
    "def update_side_graph(hov_data, clk_data, slct_data, country_chosen):\n",
    "    if hov_data is None:\n",
    "        dff2 = df[df.Restaurant.isin(country_chosen)]\n",
    "        dff2 = dff2[dff2.Items == 'Club Salad with Crispy Chicken – no dressing']\n",
    "        print(dff2)\n",
    "        test1 = dff2[['Protein (g)','Fat (g)', 'Carbs (g)', 'Sugar (g)', 'Sodium (g)']]\n",
    "        test2 = test1.values.tolist() \n",
    "        test3= test2[0]\n",
    "        print(test3)\n",
    "        labels = ['Protein (g)','Fat (g)', 'Carbs (g)', 'Sugar (g)', 'Sodium (g)']\n",
    "        print(labels)\n",
    "#         fig2 = px.pie(data_frame=dff2, values=['Calories','Protein (g)', 'Fat (g)'], names='Restaurant',\n",
    "        fig2 = px.pie(data_frame=dff2, labels = labels , values= test3, names=labels,\n",
    "                      title='Population for 1952 testeringo')\n",
    "        print('THUASHDUASHDUHASUDHAUSHD')\n",
    "        print('THUASHDUASHDUHASUDHAUSHD')\n",
    "        print('THUASHDUASHDUHASUDHAUSHD')\n",
    "        print('THUASHDUASHDUHASUDHAUSHD')\n",
    "        print('THUASHDUASHDUHASUDHAUSHD')\n",
    "        return fig2\n",
    "    else:\n",
    "        print(f'hover data: {hov_data}')\n",
    "        # print(hov_data['points'][0]['customdata'][0])\n",
    "        # print(f'click data: {clk_data}')\n",
    "        # print(f'selected data: {slct_data}')\n",
    "        dff2 = df[df.Restaurant.isin(country_chosen)]\n",
    "        print(dff2)\n",
    "\n",
    "        labels = ['Protein (g)','Fat (g)', 'Carbs (g)', 'Sugar (g)', 'Sodium (g)']\n",
    "        hov_year = hov_data['points'][0]['x']\n",
    "        print(\"hi\")\n",
    "        print(hov_year)\n",
    "        dff2 = dff2[dff2.Items == hov_year]\n",
    "        print(dff2)\n",
    "        test1 = dff2[['Protein (g)','Fat (g)', 'Carbs (g)', 'Sugar (g)', 'Sodium (g)']]\n",
    "        test2 = test1.values.tolist() \n",
    "        test3= test2[0]\n",
    "        print(test3)\n",
    "#         fig2 = px.pie(data_frame=dff2, values=['Calories','Protein (g)', 'Fat (g)'], names='Restaurant', title=f'Population for: {hov_year}')\n",
    "        fig2 = px.pie(data_frame=dff2, values=test3, names=labels,labels = labels , title=f'Population for: {hov_year}')\n",
    "        return fig2\n",
    "\n",
    "\n",
    "if __name__ == \"__main__\":\n",
    "    app.run_server(host = '127.0.0.1')"
   ]
  },
  {
   "cell_type": "code",
   "execution_count": null,
   "metadata": {},
   "outputs": [],
   "source": [
    "df[df.country.isin(country_chosen)]"
   ]
  },
  {
   "cell_type": "code",
   "execution_count": null,
   "metadata": {},
   "outputs": [],
   "source": [
    "dy = px.data.gapminder()"
   ]
  },
  {
   "cell_type": "code",
   "execution_count": null,
   "metadata": {},
   "outputs": [],
   "source": [
    "dy"
   ]
  },
  {
   "cell_type": "code",
   "execution_count": null,
   "metadata": {},
   "outputs": [],
   "source": [
    "px.bar(data_frame=df, x='Items', y='Cost (USD)', color='Restaurant')\n"
   ]
  },
  {
   "cell_type": "code",
   "execution_count": null,
   "metadata": {},
   "outputs": [],
   "source": [
    "px.bar(g1[test], x=\"Items\", y=\"Cost (USD)\", \n",
    "                 color=\"Restaurant\", barmode=\"group\")"
   ]
  },
  {
   "cell_type": "code",
   "execution_count": null,
   "metadata": {},
   "outputs": [],
   "source": [
    "df[df.Restaurant.isin('burgerking')]"
   ]
  },
  {
   "cell_type": "code",
   "execution_count": null,
   "metadata": {},
   "outputs": [],
   "source": [
    "px.pie(data_frame=df, values=['Calories','Protein (g)', 'Fat (g)'], names='Items')"
   ]
  },
  {
   "cell_type": "code",
   "execution_count": null,
   "metadata": {},
   "outputs": [],
   "source": [
    "import plotly.graph_objects as go\n",
    "\n",
    "labels = ['Oxygen','Hydrogen','Carbon_Dioxide','Nitrogen']\n",
    "values = [4500, 2500, 1053, 500]\n",
    "\n",
    "fig = go.Figure(data=[go.Pie(labels=labels, values=values)])\n",
    "fig.show()"
   ]
  },
  {
   "cell_type": "code",
   "execution_count": null,
   "metadata": {},
   "outputs": [],
   "source": [
    "go.Pie(labels=labels, values=values)"
   ]
  },
  {
   "cell_type": "code",
   "execution_count": null,
   "metadata": {},
   "outputs": [],
   "source": []
  },
  {
   "cell_type": "code",
   "execution_count": null,
   "metadata": {},
   "outputs": [],
   "source": [
    "test = df[df.Items == 'Club Salad with Crispy Chicken – no dressing']\n",
    "test"
   ]
  },
  {
   "cell_type": "code",
   "execution_count": null,
   "metadata": {},
   "outputs": [],
   "source": [
    "test1 = test[['Calories','Protein (g)','Fat (g)', 'Carbs (g)', 'Sugar (g)', 'Sodium (g)']]\n",
    "labels = ['Calories','Protein (g)','Fat (g)', 'Carbs (g)', 'Sugar (g)', 'Sodium (g)']\n",
    "test2 = test1.values.tolist() \n",
    "test3= test2[0]"
   ]
  },
  {
   "cell_type": "code",
   "execution_count": null,
   "metadata": {},
   "outputs": [],
   "source": [
    "px.pie(data_frame=test, labels = labels , values= test3, names=labels,\n",
    "                      title='Population for 1952 testeringo')"
   ]
  },
  {
   "cell_type": "code",
   "execution_count": null,
   "metadata": {},
   "outputs": [],
   "source": [
    "go.Pie(labels = labels , values= test1)"
   ]
  },
  {
   "cell_type": "code",
   "execution_count": null,
   "metadata": {},
   "outputs": [],
   "source": [
    "test2 = test1.values.tolist() "
   ]
  },
  {
   "cell_type": "code",
   "execution_count": null,
   "metadata": {},
   "outputs": [],
   "source": [
    "test3= test2[0]"
   ]
  },
  {
   "cell_type": "code",
   "execution_count": null,
   "metadata": {},
   "outputs": [],
   "source": [
    "dff2 = dff2[dff2.Items == 'Club Salad with Crispy Chicken – no dressing']"
   ]
  }
 ],
 "metadata": {
  "kernelspec": {
   "display_name": "Python 3",
   "language": "python",
   "name": "python3"
  },
  "language_info": {
   "codemirror_mode": {
    "name": "ipython",
    "version": 3
   },
   "file_extension": ".py",
   "mimetype": "text/x-python",
   "name": "python",
   "nbconvert_exporter": "python",
   "pygments_lexer": "ipython3",
   "version": "3.8.5"
  }
 },
 "nbformat": 4,
 "nbformat_minor": 2
}
