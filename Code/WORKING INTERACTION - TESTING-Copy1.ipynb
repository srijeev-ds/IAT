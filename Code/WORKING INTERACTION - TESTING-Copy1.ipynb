{
 "cells": [
  {
   "cell_type": "code",
   "execution_count": 1,
   "metadata": {},
   "outputs": [],
   "source": [
    "import dash\n",
    "import dash_core_components as dcc\n",
    "import dash_html_components as html\n",
    "import plotly.graph_objs as go\n",
    "import pandas as pd\n",
    "from dash.dependencies import Input, Output\n",
    "import plotly.express as px"
   ]
  },
  {
   "cell_type": "code",
   "execution_count": 2,
   "metadata": {},
   "outputs": [],
   "source": [
    "#df = pd.read_csv(\"IAT_2/IAT/Datasets/nutrition/all_nutrition.csv\")\n",
    "df = pd.read_csv(\"/Users/srijeevsarkar/Desktop/IAT/Datasets/nutrition/all_nutrition.csv\")\n",
    "external_stylesheets = ['https://codepen.io/chriddyp/pen/bWLwgP.css']\n",
    "app = dash.Dash(__name__, external_stylesheets=external_stylesheets)\n",
    "days = df.Restaurant.unique()"
   ]
  },
  {
   "cell_type": "code",
   "execution_count": 3,
   "metadata": {},
   "outputs": [],
   "source": [
    "\n",
    "app.layout = html.Div([\n",
    "    dcc.Dropdown(id='dpdn2', value=['burgerking', 'mcdonalds', 'starbucks'], multi=True,\n",
    "                 options=[{'label': x, 'value': x} for x in\n",
    "                          df.Restaurant.unique()]),\n",
    "    html.Div([\n",
    "        dcc.Graph(id='pie-graph', figure={}, className='six columns'),\n",
    "        dcc.Graph(id='my-graph', figure={}, clickData=None, hoverData=None, # I assigned None for tutorial purposes. By defualt, these are None, unless you specify otherwise.\n",
    "                  config={\n",
    "                      'staticPlot': False,     # True, False\n",
    "                      'scrollZoom': True,      # True, False\n",
    "                      'doubleClick': 'reset',  # 'reset', 'autosize' or 'reset+autosize', False\n",
    "                      'showTips': False,       # True, False\n",
    "                      'displayModeBar': True,  # True, False, 'hover'\n",
    "                      'watermark': True,\n",
    "                      # 'modeBarButtonsToRemove': ['pan2d','select2d'],\n",
    "                        },\n",
    "                  className='six columns'\n",
    "                  )\n",
    "    ])\n",
    "])\n"
   ]
  },
  {
   "cell_type": "code",
   "execution_count": null,
   "metadata": {},
   "outputs": [],
   "source": [
    "@app.callback(\n",
    "    Output(component_id='my-graph', component_property='figure'),\n",
    "    Input(component_id='dpdn2', component_property='value'),\n",
    ")\n",
    "def update_graph(country_chosen):\n",
    "    dff = df[df.Restaurant.isin(country_chosen)]\n",
    "#     print('Hey')\n",
    "#     print(dff)\n",
    "#     mask = df[\"Restaurant\"] == country_chosen\n",
    "    fig = px.bar(data_frame=dff, x='Items', y='Cost (USD)', color='Restaurant')\n",
    "#     fig.update_traces(mode='lines+markers')\n",
    "    return fig\n",
    "\n",
    "\n",
    "# Dash version 1.16.0 or higher\n",
    "@app.callback(\n",
    "    Output(component_id='pie-graph', component_property='figure'),\n",
    "    Input(component_id='my-graph', component_property='hoverData'),\n",
    "    Input(component_id='my-graph', component_property='clickData'),\n",
    "    Input(component_id='my-graph', component_property='selectedData'),\n",
    "    Input(component_id='dpdn2', component_property='value')\n",
    ")\n",
    "def update_side_graph(hov_data, clk_data, slct_data, country_chosen):\n",
    "    if hov_data is None:\n",
    "        dff2 = df[df.Restaurant.isin(country_chosen)]\n",
    "        dff2 = dff2[dff2.Items == 'Club Salad with Crispy Chicken – no dressing']\n",
    "        print(dff2)\n",
    "        test1 = dff2[['Calories','Protein (g)','Fat (g)', 'Carbs (g)', 'Sugar (g)', 'Sodium (g)']]\n",
    "        test2 = test1.values.tolist() \n",
    "        test3= test2[0]\n",
    "        print(test3)\n",
    "        labels = ['Calories','Protein (g)','Fat (g)', 'Carbs (g)', 'Sugar (g)', 'Sodium (g)']\n",
    "        print(labels)\n",
    "#         fig2 = px.pie(data_frame=dff2, values=['Calories','Protein (g)', 'Fat (g)'], names='Restaurant',\n",
    "        fig2 = px.pie(data_frame=dff2, labels = labels , values= test3, names=labels,\n",
    "                      title='Population for 1952 testeringo')\n",
    "        print('THUASHDUASHDUHASUDHAUSHD')\n",
    "        print('THUASHDUASHDUHASUDHAUSHD')\n",
    "        print('THUASHDUASHDUHASUDHAUSHD')\n",
    "        print('THUASHDUASHDUHASUDHAUSHD')\n",
    "        print('THUASHDUASHDUHASUDHAUSHD')\n",
    "        return fig2\n",
    "    else:\n",
    "        print(f'hover data: {hov_data}')\n",
    "        # print(hov_data['points'][0]['customdata'][0])\n",
    "        # print(f'click data: {clk_data}')\n",
    "        # print(f'selected data: {slct_data}')\n",
    "        dff2 = df[df.Restaurant.isin(country_chosen)]\n",
    "        print(dff2)\n",
    "        hov_year = hov_data['points'][0]['x']\n",
    "        print(\"hi\")\n",
    "        print(hov_year)\n",
    "        dff2 = dff2[dff2.Items == hov_year]\n",
    "        print(dff2)\n",
    "#         fig2 = px.pie(data_frame=dff2, values=['Calories','Protein (g)', 'Fat (g)'], names='Restaurant', title=f'Population for: {hov_year}')\n",
    "        fig2 = px.pie(data_frame=dff2, values='Cost (USD)', names='Restaurant', title=f'Population for: {hov_year}')\n",
    "        return fig2\n",
    "\n",
    "\n",
    "if __name__ == \"__main__\":\n",
    "    app.run_server(host = '127.0.0.1')"
   ]
  },
  {
   "cell_type": "code",
   "execution_count": null,
   "metadata": {},
   "outputs": [
    {
     "name": "stdout",
     "output_type": "stream",
     "text": [
      "Dash is running on http://127.0.0.1:8050/\n",
      "\n",
      " * Serving Flask app \"__main__\" (lazy loading)\n",
      " * Environment: production\n",
      "\u001b[31m   WARNING: This is a development server. Do not use it in a production deployment.\u001b[0m\n",
      "\u001b[2m   Use a production WSGI server instead.\u001b[0m\n",
      " * Debug mode: off\n"
     ]
    },
    {
     "name": "stderr",
     "output_type": "stream",
     "text": [
      " * Running on http://127.0.0.1:8050/ (Press CTRL+C to quit)\n",
      "127.0.0.1 - - [06/Apr/2021 19:59:28] \"\u001b[37mGET / HTTP/1.1\u001b[0m\" 200 -\n",
      "127.0.0.1 - - [06/Apr/2021 19:59:29] \"\u001b[37mGET /_dash-layout HTTP/1.1\u001b[0m\" 200 -\n",
      "127.0.0.1 - - [06/Apr/2021 19:59:29] \"\u001b[37mGET /_dash-dependencies HTTP/1.1\u001b[0m\" 200 -\n"
     ]
    },
    {
     "name": "stdout",
     "output_type": "stream",
     "text": [
      "    Restaurant Category                                         Items  \\\n",
      "34  burgerking    Salad  Club Salad with Crispy Chicken – no dressing   \n",
      "\n",
      "    Cost (USD)  Calories  Protein (g)  Fat (g)  Carbs (g)  Sugar (g)  \\\n",
      "34        7.09       540         31.0     33.0         31          5   \n",
      "\n",
      "    Sodium (g)  \n",
      "34        1.38  \n",
      "[31.0, 33.0, 31.0, 5.0, 1.38]\n",
      "['Protein (g)', 'Fat (g)', 'Carbs (g)', 'Sugar (g)', 'Sodium (g)']\n"
     ]
    },
    {
     "name": "stderr",
     "output_type": "stream",
     "text": [
      "127.0.0.1 - - [06/Apr/2021 19:59:30] \"\u001b[37mPOST /_dash-update-component HTTP/1.1\u001b[0m\" 200 -\n",
      "127.0.0.1 - - [06/Apr/2021 19:59:30] \"\u001b[37mPOST /_dash-update-component HTTP/1.1\u001b[0m\" 200 -\n"
     ]
    },
    {
     "name": "stdout",
     "output_type": "stream",
     "text": [
      "THUASHDUASHDUHASUDHAUSHD\n",
      "THUASHDUASHDUHASUDHAUSHD\n",
      "THUASHDUASHDUHASUDHAUSHD\n",
      "THUASHDUASHDUHASUDHAUSHD\n",
      "THUASHDUASHDUHASUDHAUSHD\n"
     ]
    },
    {
     "name": "stderr",
     "output_type": "stream",
     "text": [
      "127.0.0.1 - - [06/Apr/2021 19:59:44] \"\u001b[37mPOST /_dash-update-component HTTP/1.1\u001b[0m\" 200 -\n",
      "127.0.0.1 - - [06/Apr/2021 19:59:44] \"\u001b[37mPOST /_dash-update-component HTTP/1.1\u001b[0m\" 200 -\n"
     ]
    },
    {
     "name": "stdout",
     "output_type": "stream",
     "text": [
      "hover data: {'points': [{'curveNumber': 0, 'pointNumber': 5, 'pointIndex': 5, 'x': 'CROISSAN’WICH® Sausage, Egg & Cheese', 'y': 2.99, 'label': 'CROISSAN’WICH® Sausage, Egg & Cheese', 'value': 2.99}]}\n",
      "     Restaurant   Category                                Items  Cost (USD)  \\\n",
      "0    burgerking  Breakfast     Bacon, Egg & Cheese Biscuit - BK        2.99   \n",
      "1    burgerking  Breakfast           Breakfast Burrito Jr. - BK        1.00   \n",
      "2    burgerking  Breakfast  CROISSAN’WICH® Bacon, Egg & Cheese         2.99   \n",
      "3    burgerking  Breakfast          CROISSAN’WICH® Egg & Cheese        2.99   \n",
      "4    burgerking  Breakfast     CROISSAN’WICH® Ham, Egg & Cheese        2.99   \n",
      "..          ...        ...                                  ...         ...   \n",
      "347   starbucks   Sandwich                   Ham & Swiss Panini        5.95   \n",
      "348   starbucks   Sandwich                          Plain Bagel        1.99   \n",
      "349   starbucks   Sandwich           Sprouted Grain Vegan Bagel        2.45   \n",
      "350   starbucks   Sandwich                  Tomato & Mozzarella        4.99   \n",
      "351   starbucks   Sandwich                  Turkey Pesto Panini        6.45   \n",
      "\n",
      "     Calories  Protein (g)  Fat (g)  Carbs (g)  Sugar (g)  Sodium (g)  \n",
      "0         400         13.0     26.0         29          3        1.27  \n",
      "1         370         15.0     23.0         27          2        0.93  \n",
      "2         370         14.0     21.0         30          4        0.76  \n",
      "3         340         12.0     18.0         29          4        0.61  \n",
      "4         370         17.0     19.0         30          5        1.03  \n",
      "..        ...          ...      ...        ...        ...         ...  \n",
      "347       490         24.0     42.0          2         25        1.25  \n",
      "348       280          1.5     56.0          2          9        0.62  \n",
      "349       330          6.0     57.0          4         12        0.49  \n",
      "350       350         13.0     42.0          2         15        0.58  \n",
      "351       540         21.0     55.0          3         33        1.19  \n",
      "\n",
      "[301 rows x 10 columns]\n",
      "hi\n",
      "CROISSAN’WICH® Sausage, Egg & Cheese\n",
      "   Restaurant   Category                                 Items  Cost (USD)  \\\n",
      "5  burgerking  Breakfast  CROISSAN’WICH® Sausage, Egg & Cheese        2.99   \n",
      "\n",
      "   Calories  Protein (g)  Fat (g)  Carbs (g)  Sugar (g)  Sodium (g)  \n",
      "5       500         19.0     33.0         30          4        0.93  \n",
      "[19.0, 33.0, 30.0, 4.0, 0.93]\n",
      "hover data: {'points': [{'curveNumber': 0, 'pointNumber': 35, 'pointIndex': 35, 'x': 'Garden Chicken Salad with Crispy Chicken – no dressing', 'y': 7.09, 'label': 'Garden Chicken Salad with Crispy Chicken – no dressing', 'value': 7.09}]}\n",
      "     Restaurant   Category                                Items  Cost (USD)  \\\n",
      "0    burgerking  Breakfast     Bacon, Egg & Cheese Biscuit - BK        2.99   \n",
      "1    burgerking  Breakfast           Breakfast Burrito Jr. - BK        1.00   \n",
      "2    burgerking  Breakfast  CROISSAN’WICH® Bacon, Egg & Cheese         2.99   \n",
      "3    burgerking  Breakfast          CROISSAN’WICH® Egg & Cheese        2.99   \n",
      "4    burgerking  Breakfast     CROISSAN’WICH® Ham, Egg & Cheese        2.99   \n",
      "..          ...        ...                                  ...         ...   \n",
      "347   starbucks   Sandwich                   Ham & Swiss Panini        5.95   \n",
      "348   starbucks   Sandwich                          Plain Bagel        1.99   \n",
      "349   starbucks   Sandwich           Sprouted Grain Vegan Bagel        2.45   \n",
      "350   starbucks   Sandwich                  Tomato & Mozzarella        4.99   \n",
      "351   starbucks   Sandwich                  Turkey Pesto Panini        6.45   \n",
      "\n",
      "     Calories  Protein (g)  Fat (g)  Carbs (g)  Sugar (g)  Sodium (g)  \n",
      "0         400         13.0     26.0         29          3        1.27  \n",
      "1         370         15.0     23.0         27          2        0.93  \n",
      "2         370         14.0     21.0         30          4        0.76  \n",
      "3         340         12.0     18.0         29          4        0.61  \n",
      "4         370         17.0     19.0         30          5        1.03  \n",
      "..        ...          ...      ...        ...        ...         ...  \n",
      "347       490         24.0     42.0          2         25        1.25  \n",
      "348       280          1.5     56.0          2          9        0.62  \n",
      "349       330          6.0     57.0          4         12        0.49  \n",
      "350       350         13.0     42.0          2         15        0.58  \n",
      "351       540         21.0     55.0          3         33        1.19  \n",
      "\n",
      "[301 rows x 10 columns]\n",
      "hi\n",
      "Garden Chicken Salad with Crispy Chicken – no dressing\n",
      "    Restaurant Category                                              Items  \\\n",
      "35  burgerking    Salad  Garden Chicken Salad with Crispy Chicken – no ...   \n",
      "\n",
      "    Cost (USD)  Calories  Protein (g)  Fat (g)  Carbs (g)  Sugar (g)  \\\n",
      "35        7.09       440         25.0     25.0         31          4   \n",
      "\n",
      "    Sodium (g)  \n",
      "35        0.93  \n",
      "[25.0, 25.0, 31.0, 4.0, 0.93]\n"
     ]
    },
    {
     "name": "stderr",
     "output_type": "stream",
     "text": [
      "127.0.0.1 - - [06/Apr/2021 19:59:44] \"\u001b[37mPOST /_dash-update-component HTTP/1.1\u001b[0m\" 200 -\n"
     ]
    },
    {
     "name": "stdout",
     "output_type": "stream",
     "text": [
      "hover data: {'points': [{'curveNumber': 0, 'pointNumber': 36, 'pointIndex': 36, 'x': 'Garden Side Salad – w/o dressing', 'y': 5.59, 'label': 'Garden Side Salad – w/o dressing', 'value': 5.59}]}\n",
      "     Restaurant   Category                                Items  Cost (USD)  \\\n",
      "0    burgerking  Breakfast     Bacon, Egg & Cheese Biscuit - BK        2.99   \n",
      "1    burgerking  Breakfast           Breakfast Burrito Jr. - BK        1.00   \n",
      "2    burgerking  Breakfast  CROISSAN’WICH® Bacon, Egg & Cheese         2.99   \n",
      "3    burgerking  Breakfast          CROISSAN’WICH® Egg & Cheese        2.99   \n",
      "4    burgerking  Breakfast     CROISSAN’WICH® Ham, Egg & Cheese        2.99   \n",
      "..          ...        ...                                  ...         ...   \n",
      "347   starbucks   Sandwich                   Ham & Swiss Panini        5.95   \n",
      "348   starbucks   Sandwich                          Plain Bagel        1.99   \n",
      "349   starbucks   Sandwich           Sprouted Grain Vegan Bagel        2.45   \n",
      "350   starbucks   Sandwich                  Tomato & Mozzarella        4.99   \n",
      "351   starbucks   Sandwich                  Turkey Pesto Panini        6.45   \n",
      "\n",
      "     Calories  Protein (g)  Fat (g)  Carbs (g)  Sugar (g)  Sodium (g)  \n",
      "0         400         13.0     26.0         29          3        1.27  \n",
      "1         370         15.0     23.0         27          2        0.93  \n",
      "2         370         14.0     21.0         30          4        0.76  \n",
      "3         340         12.0     18.0         29          4        0.61  \n",
      "4         370         17.0     19.0         30          5        1.03  \n",
      "..        ...          ...      ...        ...        ...         ...  \n",
      "347       490         24.0     42.0          2         25        1.25  \n",
      "348       280          1.5     56.0          2          9        0.62  \n",
      "349       330          6.0     57.0          4         12        0.49  \n",
      "350       350         13.0     42.0          2         15        0.58  \n",
      "351       540         21.0     55.0          3         33        1.19  \n",
      "\n",
      "[301 rows x 10 columns]\n",
      "hi\n",
      "Garden Side Salad – w/o dressing\n",
      "    Restaurant Category                             Items  Cost (USD)  \\\n",
      "36  burgerking    Salad  Garden Side Salad – w/o dressing        5.59   \n",
      "\n",
      "    Calories  Protein (g)  Fat (g)  Carbs (g)  Sugar (g)  Sodium (g)  \n",
      "36        60          4.0      4.0          3          2       0.095  \n",
      "[4.0, 4.0, 3.0, 2.0, 0.095]\n"
     ]
    }
   ],
   "source": [
    "@app.callback(\n",
    "    Output(component_id='my-graph', component_property='figure'),\n",
    "    Input(component_id='dpdn2', component_property='value'),\n",
    ")\n",
    "def update_graph(country_chosen):\n",
    "    dff = df[df.Restaurant.isin(country_chosen)]\n",
    "#     print('Hey')\n",
    "#     print(dff)\n",
    "#     mask = df[\"Restaurant\"] == country_chosen\n",
    "    fig = px.bar(data_frame=dff, x='Items', y='Cost (USD)', color='Restaurant')\n",
    "#     fig.update_traces(mode='lines+markers')\n",
    "    return fig\n",
    "\n",
    "\n",
    "# Dash version 1.16.0 or higher\n",
    "@app.callback(\n",
    "    Output(component_id='pie-graph', component_property='figure'),\n",
    "    Input(component_id='my-graph', component_property='hoverData'),\n",
    "    Input(component_id='my-graph', component_property='clickData'),\n",
    "    Input(component_id='my-graph', component_property='selectedData'),\n",
    "    Input(component_id='dpdn2', component_property='value')\n",
    ")\n",
    "def update_side_graph(hov_data, clk_data, slct_data, country_chosen):\n",
    "    if hov_data is None:\n",
    "        dff2 = df[df.Restaurant.isin(country_chosen)]\n",
    "        dff2 = dff2[dff2.Items == 'Club Salad with Crispy Chicken – no dressing']\n",
    "        print(dff2)\n",
    "        test1 = dff2[['Protein (g)','Fat (g)', 'Carbs (g)', 'Sugar (g)', 'Sodium (g)']]\n",
    "        test2 = test1.values.tolist() \n",
    "        test3= test2[0]\n",
    "        print(test3)\n",
    "        labels = ['Protein (g)','Fat (g)', 'Carbs (g)', 'Sugar (g)', 'Sodium (g)']\n",
    "        print(labels)\n",
    "#         fig2 = px.pie(data_frame=dff2, values=['Calories','Protein (g)', 'Fat (g)'], names='Restaurant',\n",
    "        fig2 = px.pie(data_frame=dff2, labels = labels , values= test3, names=labels,\n",
    "                      title='Population for 1952 testeringo')\n",
    "        print('THUASHDUASHDUHASUDHAUSHD')\n",
    "        print('THUASHDUASHDUHASUDHAUSHD')\n",
    "        print('THUASHDUASHDUHASUDHAUSHD')\n",
    "        print('THUASHDUASHDUHASUDHAUSHD')\n",
    "        print('THUASHDUASHDUHASUDHAUSHD')\n",
    "        return fig2\n",
    "    else:\n",
    "        print(f'hover data: {hov_data}')\n",
    "        # print(hov_data['points'][0]['customdata'][0])\n",
    "        # print(f'click data: {clk_data}')\n",
    "        # print(f'selected data: {slct_data}')\n",
    "        dff2 = df[df.Restaurant.isin(country_chosen)]\n",
    "        print(dff2)\n",
    "\n",
    "        labels = ['Protein (g)','Fat (g)', 'Carbs (g)', 'Sugar (g)', 'Sodium (g)']\n",
    "        hov_year = hov_data['points'][0]['x']\n",
    "        print(\"hi\")\n",
    "        print(hov_year)\n",
    "        dff2 = dff2[dff2.Items == hov_year]\n",
    "        print(dff2)\n",
    "        test1 = dff2[['Protein (g)','Fat (g)', 'Carbs (g)', 'Sugar (g)', 'Sodium (g)']]\n",
    "        test2 = test1.values.tolist() \n",
    "        test3= test2[0]\n",
    "        print(test3)\n",
    "#         fig2 = px.pie(data_frame=dff2, values=['Calories','Protein (g)', 'Fat (g)'], names='Restaurant', title=f'Population for: {hov_year}')\n",
    "        fig2 = px.pie(data_frame=dff2, values=test3, names=labels,labels = labels , title=f'Population for: {hov_year}')\n",
    "        return fig2\n",
    "\n",
    "\n",
    "if __name__ == \"__main__\":\n",
    "    app.run_server(host = '127.0.0.1')"
   ]
  },
  {
   "cell_type": "code",
   "execution_count": null,
   "metadata": {},
   "outputs": [],
   "source": [
    "df[df.country.isin(country_chosen)]"
   ]
  },
  {
   "cell_type": "code",
   "execution_count": null,
   "metadata": {},
   "outputs": [],
   "source": [
    "dy = px.data.gapminder()"
   ]
  },
  {
   "cell_type": "code",
   "execution_count": null,
   "metadata": {},
   "outputs": [],
   "source": [
    "dy"
   ]
  },
  {
   "cell_type": "code",
   "execution_count": null,
   "metadata": {},
   "outputs": [],
   "source": [
    "px.bar(data_frame=df, x='Items', y='Cost (USD)', color='Restaurant')\n"
   ]
  },
  {
   "cell_type": "code",
   "execution_count": null,
   "metadata": {},
   "outputs": [],
   "source": [
    "px.bar(g1[test], x=\"Items\", y=\"Cost (USD)\", \n",
    "                 color=\"Restaurant\", barmode=\"group\")"
   ]
  },
  {
   "cell_type": "code",
   "execution_count": null,
   "metadata": {},
   "outputs": [],
   "source": [
    "df[df.Restaurant.isin('burgerking')]"
   ]
  },
  {
   "cell_type": "code",
   "execution_count": null,
   "metadata": {},
   "outputs": [],
   "source": [
    "px.pie(data_frame=df, values=['Calories','Protein (g)', 'Fat (g)'], names='Items')"
   ]
  },
  {
   "cell_type": "code",
   "execution_count": null,
   "metadata": {},
   "outputs": [],
   "source": [
    "import plotly.graph_objects as go\n",
    "\n",
    "labels = ['Oxygen','Hydrogen','Carbon_Dioxide','Nitrogen']\n",
    "values = [4500, 2500, 1053, 500]\n",
    "\n",
    "fig = go.Figure(data=[go.Pie(labels=labels, values=values)])\n",
    "fig.show()"
   ]
  },
  {
   "cell_type": "code",
   "execution_count": null,
   "metadata": {},
   "outputs": [],
   "source": [
    "go.Pie(labels=labels, values=values)"
   ]
  },
  {
   "cell_type": "code",
   "execution_count": null,
   "metadata": {},
   "outputs": [],
   "source": []
  },
  {
   "cell_type": "code",
   "execution_count": null,
   "metadata": {},
   "outputs": [],
   "source": [
    "test = df[df.Items == 'Club Salad with Crispy Chicken – no dressing']\n",
    "test"
   ]
  },
  {
   "cell_type": "code",
   "execution_count": null,
   "metadata": {},
   "outputs": [],
   "source": [
    "test1 = test[['Calories','Protein (g)','Fat (g)', 'Carbs (g)', 'Sugar (g)', 'Sodium (g)']]\n",
    "labels = ['Calories','Protein (g)','Fat (g)', 'Carbs (g)', 'Sugar (g)', 'Sodium (g)']\n",
    "test2 = test1.values.tolist() \n",
    "test3= test2[0]"
   ]
  },
  {
   "cell_type": "code",
   "execution_count": null,
   "metadata": {},
   "outputs": [],
   "source": [
    "px.pie(data_frame=test, labels = labels , values= test3, names=labels,\n",
    "                      title='Population for 1952 testeringo')"
   ]
  },
  {
   "cell_type": "code",
   "execution_count": null,
   "metadata": {},
   "outputs": [],
   "source": [
    "go.Pie(labels = labels , values= test1)"
   ]
  },
  {
   "cell_type": "code",
   "execution_count": null,
   "metadata": {},
   "outputs": [],
   "source": [
    "test2 = test1.values.tolist() "
   ]
  },
  {
   "cell_type": "code",
   "execution_count": null,
   "metadata": {},
   "outputs": [],
   "source": [
    "test3= test2[0]"
   ]
  },
  {
   "cell_type": "code",
   "execution_count": null,
   "metadata": {},
   "outputs": [],
   "source": [
    "dff2 = dff2[dff2.Items == 'Club Salad with Crispy Chicken – no dressing']"
   ]
  }
 ],
 "metadata": {
  "kernelspec": {
   "display_name": "Python 3",
   "language": "python",
   "name": "python3"
  },
  "language_info": {
   "codemirror_mode": {
    "name": "ipython",
    "version": 3
   },
   "file_extension": ".py",
   "mimetype": "text/x-python",
   "name": "python",
   "nbconvert_exporter": "python",
   "pygments_lexer": "ipython3",
   "version": "3.8.5"
  }
 },
 "nbformat": 4,
 "nbformat_minor": 2
}
