{
 "cells": [
  {
   "cell_type": "code",
   "execution_count": null,
   "metadata": {},
   "outputs": [],
   "source": [
    "# importing necessary libraries\n",
    "import dash\n",
    "import dash_core_components as dcc\n",
    "import dash_html_components as html\n",
    "import plotly.graph_objs as go\n",
    "import pandas as pd\n",
    "from dash.dependencies import Input, Output\n",
    "import plotly.express as px"
   ]
  },
  {
   "cell_type": "code",
   "execution_count": null,
   "metadata": {},
   "outputs": [],
   "source": [
    "foodo = pd.read_csv(\"/Users/srijeevsarkar/Desktop/IAT/Datasets/nutrition/all_nutrition.csv\")\n",
    "foodo.head(10)"
   ]
  },
  {
   "cell_type": "code",
   "execution_count": null,
   "metadata": {},
   "outputs": [],
   "source": [
    "is_sandwich =  foodo['Category']==\"Sandwich\"\n",
    "sando = foodo[is_sandwich]\n",
    "sando"
   ]
  },
  {
   "cell_type": "code",
   "execution_count": null,
   "metadata": {},
   "outputs": [],
   "source": [
    "app = dash.Dash()"
   ]
  },
  {
   "cell_type": "code",
   "execution_count": null,
   "metadata": {},
   "outputs": [],
   "source": [
    "app.layout = html.Div([\n",
    "    \n",
    "    dcc.Dropdown(id='opt1', value=['BK - Bacon & Cheese Crispy Chicken Sandwich'], multi=False,\n",
    "                 options=[{'label': x, 'value': x} for x in\n",
    "                          sando.Items.unique()],\n",
    "                        style={'width': \"50%\"}),\n",
    "    dcc.Dropdown(id='opt2', value=['CFA - Spicy Chicken Deluxe Sandwich'], multi=False,\n",
    "                 options=[{'label': x, 'value': x} for x in\n",
    "                          sando.Items.unique()],\n",
    "                          style={'width': \"50%\"}),\n",
    "    dcc.Dropdown(id='opt3', value=['McD - Big Mac'], multi=False,\n",
    "                 options=[{'label': x, 'value': x} for x in\n",
    "                          sando.Items.unique()],\n",
    "                          style={'width': \"50%\"}),\n",
    "    dcc.Dropdown(id='opt4', value=['SB - Ham & Swiss Panini'], multi=False,\n",
    "                 options=[{'label': x, 'value': x} for x in\n",
    "                          sando.Items.unique()],\n",
    "                          style={'width': \"50%\"}),\n",
    "    dcc.Dropdown(id='opt5', value=['SW - Veggie Delite® Sandwich'], multi=False,\n",
    "                 options=[{'label': x, 'value': x} for x in\n",
    "                          sando.Items.unique()],\n",
    "                          style={'width': \"50%\"}),\n",
    "    \n",
    "    dcc.Graph(id='sando_map', figure={}),\n",
    "    \n",
    "    \n",
    "])"
   ]
  },
  {
   "cell_type": "code",
   "execution_count": null,
   "metadata": {},
   "outputs": [],
   "source": [
    "nutrition=['Protein (g)', 'Fat (g)', 'Carbs (g)', 'Sugar (g)', 'Sodium (g)']\n",
    "\n",
    "@app.callback(\n",
    "    Output(component_id='sando_map', component_property='figure'),\n",
    "    Input(component_id='opt1', component_property='value'),\n",
    "    Input(component_id='opt2', component_property='value'),\n",
    "    Input(component_id='opt3', component_property='value'),\n",
    "    Input(component_id='opt4', component_property='value'),\n",
    "    Input(component_id='opt5', component_property='value'),\n",
    ")\n",
    "\n",
    "def group_graph(choice1,choice2,choice3,choice4,choice5):\n",
    "    \n",
    "    \n",
    "    a = sando[sando[\"Items\"]==choice1]\n",
    "    protein_a = a.iloc[0][5]\n",
    "    fat_a = a.iloc[0][6]\n",
    "    carb_a = a.iloc[0][7]\n",
    "    sugar_a= a.iloc[0][8]\n",
    "    sodium_a = a.iloc[0][9]\n",
    "    \n",
    "    b = sando[sando[\"Items\"]==choice2]\n",
    "    protein_b = b.iloc[0][5]\n",
    "    fat_b = b.iloc[0][6]\n",
    "    carb_b = b.iloc[0][7]\n",
    "    sugar_b= b.iloc[0][8]\n",
    "    sodium_b = b.iloc[0][9]\n",
    "    \n",
    "    c = sando[sando[\"Items\"]==choice3]\n",
    "    protein_c = c.iloc[0][5]\n",
    "    fat_c = c.iloc[0][6]\n",
    "    carb_c = c.iloc[0][7]\n",
    "    sugar_c= c.iloc[0][8]\n",
    "    sodium_c = c.iloc[0][9]\n",
    "    \n",
    "    d = sando[sando[\"Items\"]==choice4]\n",
    "    protein_d = d.iloc[0][5]\n",
    "    fat_d = d.iloc[0][6]\n",
    "    carb_d = d.iloc[0][7]\n",
    "    sugar_d = d.iloc[0][8]\n",
    "    sodium_d = d.iloc[0][9]\n",
    "    \n",
    "    e = sando[sando[\"Items\"]==choice5]\n",
    "    protein_e = e.iloc[0][5]\n",
    "    fat_e = e.iloc[0][6]\n",
    "    carb_e = e.iloc[0][7]\n",
    "    sugar_e = e.iloc[0][8]\n",
    "    sodium_e = e.iloc[0][9]\n",
    "\n",
    "    \n",
    "    sfig = go.Figure(data=[\n",
    "    go.Bar(name=choice1, x=nutrition, y=[protein_a,protein_b,protein_c,protein_d,protein_e]),\n",
    "    go.Bar(name=choice2, x=nutrition, y=[fat_a,fat_b,fat_c,fat_d,fat_e]),\n",
    "    go.Bar(name=choice3, x=nutrition, y=[carb_a,carb_b,carb_c,carb_d,carb_e]),\n",
    "    go.Bar(name=choice4, x=nutrition, y=[sugar_a,sugar_b,sugar_c,sugar_d,sugar_e]),\n",
    "    go.Bar(name=choice5, x=nutrition, y=[sodium_a,sodium_b,sodium_c,sodium_d,sodium_e])\n",
    "    ])\n",
    "    \n",
    "    sfig.update_layout(barmode='group')\n",
    "    sfig.update_layout(title_text='Favourite sandwich comparison')\n",
    "    return sfig\n",
    "\n",
    "if __name__ == \"__main__\":\n",
    "    app.run_server(host = '127.0.0.1')"
   ]
  },
  {
   "cell_type": "code",
   "execution_count": null,
   "metadata": {},
   "outputs": [],
   "source": []
  }
 ],
 "metadata": {
  "kernelspec": {
   "display_name": "Python 3",
   "language": "python",
   "name": "python3"
  },
  "language_info": {
   "codemirror_mode": {
    "name": "ipython",
    "version": 3
   },
   "file_extension": ".py",
   "mimetype": "text/x-python",
   "name": "python",
   "nbconvert_exporter": "python",
   "pygments_lexer": "ipython3",
   "version": "3.8.5"
  }
 },
 "nbformat": 4,
 "nbformat_minor": 4
}
