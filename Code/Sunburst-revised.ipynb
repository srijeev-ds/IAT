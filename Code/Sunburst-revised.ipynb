{
 "cells": [
  {
   "cell_type": "code",
   "execution_count": null,
   "metadata": {},
   "outputs": [],
   "source": [
    "import dash\n",
    "import dash_core_components as dcc\n",
    "import dash_html_components as html\n",
    "import plotly.graph_objs as go\n",
    "import pandas as pd\n",
    "import dash_table\n",
    "from dash.dependencies import Input, Output\n",
    "import plotly.express as px"
   ]
  },
  {
   "cell_type": "code",
   "execution_count": null,
   "metadata": {},
   "outputs": [],
   "source": [
    "#df = pd.read_csv(\"IAT_2/IAT/Datasets/nutrition/all_nutrition.csv\")\n",
    "df = pd.read_csv(\"/Users/srijeevsarkar/Desktop/IAT/Datasets/nutrition/all_nutrition.csv\")\n",
    "df[\"quantity\"] = 1"
   ]
  },
  {
   "cell_type": "code",
   "execution_count": null,
   "metadata": {},
   "outputs": [],
   "source": [
    "df"
   ]
  },
  {
   "cell_type": "code",
   "execution_count": null,
   "metadata": {},
   "outputs": [],
   "source": [
    "cols = ['Restaurant']\n",
    "parts = [df.groupby([col, 'Category']).quantity.sum() for col in cols]\n",
    "df2 = pd.concat(parts).unstack(fill_value=0)\n",
    "options1 = df[\"Restaurant\"].unique()"
   ]
  },
  {
   "cell_type": "markdown",
   "metadata": {},
   "source": [
    "# Top sunburst"
   ]
  },
  {
   "cell_type": "code",
   "execution_count": null,
   "metadata": {},
   "outputs": [],
   "source": [
    "df\n",
    "path = [\"Restaurant\", \"Category\", \"Items\"]"
   ]
  },
  {
   "cell_type": "code",
   "execution_count": null,
   "metadata": {},
   "outputs": [],
   "source": [
    "app = dash.Dash(__name__)"
   ]
  },
  {
   "cell_type": "code",
   "execution_count": null,
   "metadata": {},
   "outputs": [],
   "source": [
    "app.layout = html.Div(\n",
    "    [\n",
    "        html.H4(id=\"title\"),\n",
    "        html.Div(\n",
    "            [\n",
    "                dcc.Graph(\n",
    "                    id=\"sunburst\",\n",
    "                        style=\n",
    "                        {\n",
    "                        'height': 800\n",
    "                        },\n",
    "                    figure=px.sunburst(df, path=path, values=\"Cost (USD)\"),\n",
    "                )\n",
    "            ]\n",
    "        ),\n",
    "    ]\n",
    ")"
   ]
  },
  {
   "cell_type": "code",
   "execution_count": null,
   "metadata": {},
   "outputs": [],
   "source": [
    "@app.callback(\n",
    "    [Output(\"title\", \"children\")],\n",
    "    [Input(\"sunburst\", \"clickData\")],\n",
    ")\n",
    "def update_table(clickData):\n",
    "    click_path = \"ALL\"\n",
    "    root = False\n",
    "\n",
    "    data = df.to_dict(\"records\")\n",
    "    if clickData:\n",
    "        click_path = clickData[\"points\"][0][\"id\"].split(\"/\")\n",
    "        selected = dict(zip(path, click_path))\n",
    "\n",
    "        if \"sex\" in selected:\n",
    "            dff = df[\n",
    "                (df[\"Restaurant\"] == selected[\"Restaurant\"])\n",
    "                & (df[\"Category\"] == selected[\"Category\"])\n",
    "                & (df[\"Item\"] == selected[\"Item\"])\n",
    "            ]\n",
    "        elif \"time\" in selected:\n",
    "            dff = df[(df[\"Restaurant\"] == selected[\"Restaurant\"]) & (df[\"Category\"] == selected[\"Category\"])]\n",
    "        else:\n",
    "            dff = df[(df[\"Restaurant\"] == selected[\"Restaurant\"])]\n",
    "            root = True\n",
    "        data = dff.to_dict(\"records\")\n",
    "\n",
    "        # Show all data when returning to the root from an outer leaf\n",
    "        percentEntry = (clickData[\"points\"][0]).get(\"percentEntry\")\n",
    "        if root and percentEntry == 1:\n",
    "            data = df.to_dict(\"records\")\n",
    "            click_path = \"ALL\"\n",
    "\n",
    "    title = f\"Selected from Sunburst Chart: {' '.join(click_path)}\"\n",
    "\n",
    "    return data, title\n",
    "\n",
    "if __name__ == \"__main__\":\n",
    "    app.run_server(host = '127.0.0.1')"
   ]
  },
  {
   "cell_type": "code",
   "execution_count": null,
   "metadata": {},
   "outputs": [],
   "source": [
    "df.to_dict(\"records\")"
   ]
  },
  {
   "cell_type": "code",
   "execution_count": null,
   "metadata": {},
   "outputs": [],
   "source": [
    "px.bar(g1[test], x=\"Items\", y=\"Cost (USD)\", \n",
    "                 color=\"Restaurant\", barmode=\"group\")"
   ]
  },
  {
   "cell_type": "code",
   "execution_count": null,
   "metadata": {},
   "outputs": [],
   "source": []
  }
 ],
 "metadata": {
  "kernelspec": {
   "display_name": "Python 3",
   "language": "python",
   "name": "python3"
  },
  "language_info": {
   "codemirror_mode": {
    "name": "ipython",
    "version": 3
   },
   "file_extension": ".py",
   "mimetype": "text/x-python",
   "name": "python",
   "nbconvert_exporter": "python",
   "pygments_lexer": "ipython3",
   "version": "3.8.5"
  }
 },
 "nbformat": 4,
 "nbformat_minor": 2
}
