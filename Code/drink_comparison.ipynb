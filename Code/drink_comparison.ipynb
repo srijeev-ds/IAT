{
 "cells": [
  {
   "cell_type": "code",
   "execution_count": null,
   "metadata": {},
   "outputs": [],
   "source": [
    "# importing necessary libraries\n",
    "import dash\n",
    "import dash_core_components as dcc\n",
    "import dash_html_components as html\n",
    "import plotly.graph_objs as go\n",
    "import pandas as pd\n",
    "from dash.dependencies import Input, Output\n",
    "import plotly.express as px"
   ]
  },
  {
   "cell_type": "code",
   "execution_count": null,
   "metadata": {},
   "outputs": [],
   "source": [
    "pwd"
   ]
  },
  {
   "cell_type": "code",
   "execution_count": null,
   "metadata": {},
   "outputs": [],
   "source": [
    "#drinko = pd.read_csv(\"/Users/kennethlau/Desktop/IAT_project/IAT_2/IAT/Datasets/nutrition/all_nutrition.csv\")\n",
    "drinko = pd.read_csv(\"/Users/srijeevsarkar/Desktop/IAT/Datasets/nutrition/all_nutrition.csv\")\n",
    "drinko.head(10)"
   ]
  },
  {
   "cell_type": "code",
   "execution_count": null,
   "metadata": {},
   "outputs": [],
   "source": [
    "is_drink =  drinko['Category']==\"Drink\"\n",
    "drink = drinko[is_drink]\n"
   ]
  },
  {
   "cell_type": "code",
   "execution_count": null,
   "metadata": {},
   "outputs": [],
   "source": [
    "app = dash.Dash()"
   ]
  },
  {
   "cell_type": "code",
   "execution_count": null,
   "metadata": {},
   "outputs": [],
   "source": [
    "app.layout = html.Div([\n",
    "    \n",
    "    dcc.Dropdown(id='opt1', value=['BK - Barq’s® Root Beer'], multi=False,\n",
    "                 options=[{'label': x, 'value': x} for x in\n",
    "                          drink.Items.unique()]\n",
    "                  ,style={'width': \"60%\"},\n",
    "                ),\n",
    "    dcc.Dropdown(id='opt2', value=['McD - Mocha'], multi=False,\n",
    "                 options=[{'label': x, 'value': x} for x in\n",
    "                          drink.Items.unique()]\n",
    "                 ,style={'width': \"60%\"},\n",
    "                ),\n",
    "    dcc.Dropdown(id='opt3', value=['SB - Cinnamon Dolce Crème'], multi=False,\n",
    "                 options=[{'label': x, 'value': x} for x in\n",
    "                          drink.Items.unique()]\n",
    "                                 ,style={'width': \"60%\"},\n",
    "                ),\n",
    "    dcc.Dropdown(id='opt4', value=['SB - Mocha Frappuccino® Blended Coffee',], multi=False,\n",
    "                 options=[{'label': x, 'value': x} for x in\n",
    "                          drink.Items.unique()]\n",
    "                                 ,style={'width': \"60%\"},),\n",
    "    dcc.Dropdown(id='opt5', value=['SB - Starbucks® Blonde Flat White'], multi=False,\n",
    "                 options=[{'label': x, 'value': x} for x in\n",
    "                          drink.Items.unique()]\n",
    "                                 ,style={'width': \"60%\"},),\n",
    "    \n",
    "    dcc.Graph(id='drink_map', figure={}),\n",
    "    \n",
    "    \n",
    "])"
   ]
  },
  {
   "cell_type": "code",
   "execution_count": null,
   "metadata": {},
   "outputs": [],
   "source": [
    "drink"
   ]
  },
  {
   "cell_type": "code",
   "execution_count": null,
   "metadata": {},
   "outputs": [],
   "source": [
    "nutrition=['Protein (g)', 'Fat (g)', 'Carbs (g)', 'Sugar (g)', 'Sodium (g)']\n",
    "\n",
    "@app.callback(\n",
    "    Output(component_id='drink_map', component_property='figure'),\n",
    "    Input(component_id='opt1', component_property='value'),\n",
    "    Input(component_id='opt2', component_property='value'),\n",
    "    Input(component_id='opt3', component_property='value'),\n",
    "    Input(component_id='opt4', component_property='value'),\n",
    "    Input(component_id='opt5', component_property='value'),\n",
    ")\n",
    "\n",
    "def group_graph(choice1,choice2,choice3,choice4,choice5):\n",
    "    \n",
    "    a = drink[drink[\"Items\"]==choice1]\n",
    "    protein_a = a.iloc[0][5]\n",
    "    fat_a = a.iloc[0][6]\n",
    "    carb_a = a.iloc[0][7]\n",
    "    sugar_a= a.iloc[0][8]\n",
    "    sodium_a = a.iloc[0][9]\n",
    "    \n",
    "    b = drink[drink[\"Items\"]==choice2]\n",
    "    protein_b = b.iloc[0][5]\n",
    "    fat_b = b.iloc[0][6]\n",
    "    carb_b = b.iloc[0][7]\n",
    "    sugar_b= b.iloc[0][8]\n",
    "    sodium_b = b.iloc[0][9]\n",
    "    \n",
    "    c = drink[drink[\"Items\"]==choice3]\n",
    "    protein_c = c.iloc[0][5]\n",
    "    fat_c = c.iloc[0][6]\n",
    "    carb_c = c.iloc[0][7]\n",
    "    sugar_c= c.iloc[0][8]\n",
    "    sodium_c = c.iloc[0][9]\n",
    "    \n",
    "    d = drink[drink[\"Items\"]==choice4]\n",
    "    protein_d = d.iloc[0][5]\n",
    "    fat_d = d.iloc[0][6]\n",
    "    carb_d = d.iloc[0][7]\n",
    "    sugar_d = d.iloc[0][8]\n",
    "    sodium_d = d.iloc[0][9]\n",
    "    \n",
    "    e = drink[drink[\"Items\"]==choice5]\n",
    "    protein_e = e.iloc[0][5]\n",
    "    fat_e = e.iloc[0][6]\n",
    "    carb_e = e.iloc[0][7]\n",
    "    sugar_e = e.iloc[0][8]\n",
    "    sodium_e = e.iloc[0][9]\n",
    "\n",
    "    \n",
    "    sfig = go.Figure(data=[\n",
    "    go.Bar(name=choice1, x=nutrition, y=[protein_a,protein_b,protein_c,protein_d,protein_e]),\n",
    "    go.Bar(name=choice2, x=nutrition, y=[fat_a,fat_b,fat_c,fat_d,fat_e]),\n",
    "    go.Bar(name=choice3, x=nutrition, y=[carb_a,carb_b,carb_c,carb_d,carb_e]),\n",
    "    go.Bar(name=choice4, x=nutrition, y=[sugar_a,sugar_b,sugar_c,sugar_d,sugar_e]),\n",
    "    go.Bar(name=choice5, x=nutrition, y=[sodium_a,sodium_b,sodium_c,sodium_d,sodium_e])\n",
    "    ])\n",
    "    \n",
    "    sfig.update_layout(barmode='group')\n",
    "    sfig.update_layout(title_text='Favourite drinks comparison')\n",
    "    return sfig\n",
    "\n",
    "if __name__ == \"__main__\":\n",
    "    app.run_server(host = '127.0.0.1')"
   ]
  },
  {
   "cell_type": "code",
   "execution_count": null,
   "metadata": {},
   "outputs": [],
   "source": []
  },
  {
   "cell_type": "code",
   "execution_count": null,
   "metadata": {},
   "outputs": [],
   "source": []
  }
 ],
 "metadata": {
  "kernelspec": {
   "display_name": "Python 3",
   "language": "python",
   "name": "python3"
  },
  "language_info": {
   "codemirror_mode": {
    "name": "ipython",
    "version": 3
   },
   "file_extension": ".py",
   "mimetype": "text/x-python",
   "name": "python",
   "nbconvert_exporter": "python",
   "pygments_lexer": "ipython3",
   "version": "3.8.5"
  }
 },
 "nbformat": 4,
 "nbformat_minor": 4
}
